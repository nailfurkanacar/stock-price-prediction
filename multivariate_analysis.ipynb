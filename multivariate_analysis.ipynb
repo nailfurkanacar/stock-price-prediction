{
  "cells": [
    {
      "cell_type": "markdown",
      "metadata": {
        "colab_type": "text",
        "id": "view-in-github"
      },
      "source": [
        "<a href=\"https://colab.research.google.com/github/nailfurkanacar/stock-price-prediction/blob/main/multivariate_analysis.ipynb\" target=\"_parent\"><img src=\"https://colab.research.google.com/assets/colab-badge.svg\" alt=\"Open In Colab\"/></a>"
      ]
    },
    {
      "cell_type": "markdown",
      "metadata": {
        "id": "_loF94BH2RLz"
      },
      "source": [
        "# Colab auth and path"
      ]
    },
    {
      "cell_type": "markdown",
      "metadata": {
        "id": "qAAQnZ79A4Tr"
      },
      "source": [
        "connect the drive to get the dataset"
      ]
    },
    {
      "cell_type": "code",
      "execution_count": null,
      "metadata": {
        "colab": {
          "base_uri": "https://localhost:8080/"
        },
        "id": "VLPw1kU6kaEk",
        "outputId": "c05c1628-8b6d-4964-c2f4-448096354c7e"
      },
      "outputs": [
        {
          "name": "stdout",
          "output_type": "stream",
          "text": [
            "Drive already mounted at /content/drive; to attempt to forcibly remount, call drive.mount(\"/content/drive\", force_remount=True).\n"
          ]
        }
      ],
      "source": [
        "from google.colab import drive\n",
        "drive.mount('/content/drive')"
      ]
    },
    {
      "cell_type": "code",
      "execution_count": null,
      "metadata": {
        "id": "00jz522pk2_u"
      },
      "outputs": [],
      "source": [
        "path = 'drive/My Drive/Colab Notebooks/Senior Project'"
      ]
    },
    {
      "cell_type": "code",
      "execution_count": null,
      "metadata": {
        "id": "KEq7G1dua-dx"
      },
      "outputs": [],
      "source": [
        "import warnings\n",
        "warnings.filterwarnings('ignore')"
      ]
    },
    {
      "cell_type": "markdown",
      "metadata": {
        "id": "LL1kn5y5I0K7"
      },
      "source": [
        "# Libraries"
      ]
    },
    {
      "cell_type": "code",
      "execution_count": null,
      "metadata": {
        "id": "7VqBe-J7hwxS"
      },
      "outputs": [],
      "source": [
        "import pandas as pd\n",
        "import numpy as np\n",
        "import math\n",
        "\n",
        "\n",
        "import matplotlib.pyplot as plt\n",
        "import matplotlib.dates \n",
        "import seaborn as sns\n",
        "#from statsmodels.tsa.seasonal import STL\n",
        "\n",
        "from datetime import datetime\n",
        "from sklearn.impute import SimpleImputer\n",
        "from sklearn.preprocessing import StandardScaler\n",
        "from sklearn.preprocessing import MinMaxScaler\n",
        "from sklearn.metrics import mean_squared_error\n",
        "from sklearn.metrics import r2_score\n",
        "\n",
        "from tensorflow import keras\n",
        "from tensorflow.keras import layers\n",
        "from keras.models import Sequential\n",
        "from keras.layers import LSTM\n",
        "from keras.layers import Dense, Dropout\n",
        "\n",
        "import tensorflow as tf\n",
        "from tensorflow.keras.models import Sequential\n",
        "from tensorflow.keras.layers import Dense\n",
        "from tensorflow.keras.layers import LSTM, BatchNormalization\n",
        "from tensorflow.keras.callbacks import ModelCheckpoint, EarlyStopping\n",
        "\n",
        "from kerastuner.tuners import RandomSearch\n",
        "\n",
        "import statsmodels.tsa.api as tsa\n",
        "from statsmodels.graphics.tsaplots import plot_acf, plot_pacf\n",
        "from statsmodels.tsa.stattools import acf, q_stat, adfuller\n",
        "from scipy.stats import probplot, moment\n",
        "from statsmodels.tsa.seasonal import seasonal_decompose"
      ]
    },
    {
      "cell_type": "code",
      "execution_count": null,
      "metadata": {
        "colab": {
          "base_uri": "https://localhost:8080/"
        },
        "id": "-AWERZaDKNZl",
        "outputId": "099ada33-05af-47b5-cda2-5c6a8f37baf0"
      },
      "outputs": [
        {
          "name": "stdout",
          "output_type": "stream",
          "text": [
            "Requirement already satisfied: keras-tuner in /usr/local/lib/python3.7/dist-packages (1.0.3)\n",
            "Requirement already satisfied: packaging in /usr/local/lib/python3.7/dist-packages (from keras-tuner) (21.0)\n",
            "Requirement already satisfied: scipy in /usr/local/lib/python3.7/dist-packages (from keras-tuner) (1.4.1)\n",
            "Requirement already satisfied: ipython in /usr/local/lib/python3.7/dist-packages (from keras-tuner) (5.5.0)\n",
            "Requirement already satisfied: requests in /usr/local/lib/python3.7/dist-packages (from keras-tuner) (2.23.0)\n",
            "Requirement already satisfied: kt-legacy in /usr/local/lib/python3.7/dist-packages (from keras-tuner) (1.0.4)\n",
            "Requirement already satisfied: numpy in /usr/local/lib/python3.7/dist-packages (from keras-tuner) (1.19.5)\n",
            "Requirement already satisfied: tensorboard in /usr/local/lib/python3.7/dist-packages (from keras-tuner) (2.6.0)\n",
            "Requirement already satisfied: setuptools>=18.5 in /usr/local/lib/python3.7/dist-packages (from ipython->keras-tuner) (57.4.0)\n",
            "Requirement already satisfied: pickleshare in /usr/local/lib/python3.7/dist-packages (from ipython->keras-tuner) (0.7.5)\n",
            "Requirement already satisfied: simplegeneric>0.8 in /usr/local/lib/python3.7/dist-packages (from ipython->keras-tuner) (0.8.1)\n",
            "Requirement already satisfied: decorator in /usr/local/lib/python3.7/dist-packages (from ipython->keras-tuner) (4.4.2)\n",
            "Requirement already satisfied: pygments in /usr/local/lib/python3.7/dist-packages (from ipython->keras-tuner) (2.6.1)\n",
            "Requirement already satisfied: pexpect in /usr/local/lib/python3.7/dist-packages (from ipython->keras-tuner) (4.8.0)\n",
            "Requirement already satisfied: prompt-toolkit<2.0.0,>=1.0.4 in /usr/local/lib/python3.7/dist-packages (from ipython->keras-tuner) (1.0.18)\n",
            "Requirement already satisfied: traitlets>=4.2 in /usr/local/lib/python3.7/dist-packages (from ipython->keras-tuner) (5.0.5)\n",
            "Requirement already satisfied: wcwidth in /usr/local/lib/python3.7/dist-packages (from prompt-toolkit<2.0.0,>=1.0.4->ipython->keras-tuner) (0.2.5)\n",
            "Requirement already satisfied: six>=1.9.0 in /usr/local/lib/python3.7/dist-packages (from prompt-toolkit<2.0.0,>=1.0.4->ipython->keras-tuner) (1.15.0)\n",
            "Requirement already satisfied: ipython-genutils in /usr/local/lib/python3.7/dist-packages (from traitlets>=4.2->ipython->keras-tuner) (0.2.0)\n",
            "Requirement already satisfied: pyparsing>=2.0.2 in /usr/local/lib/python3.7/dist-packages (from packaging->keras-tuner) (2.4.7)\n",
            "Requirement already satisfied: ptyprocess>=0.5 in /usr/local/lib/python3.7/dist-packages (from pexpect->ipython->keras-tuner) (0.7.0)\n",
            "Requirement already satisfied: certifi>=2017.4.17 in /usr/local/lib/python3.7/dist-packages (from requests->keras-tuner) (2021.5.30)\n",
            "Requirement already satisfied: idna<3,>=2.5 in /usr/local/lib/python3.7/dist-packages (from requests->keras-tuner) (2.10)\n",
            "Requirement already satisfied: urllib3!=1.25.0,!=1.25.1,<1.26,>=1.21.1 in /usr/local/lib/python3.7/dist-packages (from requests->keras-tuner) (1.24.3)\n",
            "Requirement already satisfied: chardet<4,>=3.0.2 in /usr/local/lib/python3.7/dist-packages (from requests->keras-tuner) (3.0.4)\n",
            "Requirement already satisfied: absl-py>=0.4 in /usr/local/lib/python3.7/dist-packages (from tensorboard->keras-tuner) (0.12.0)\n",
            "Requirement already satisfied: markdown>=2.6.8 in /usr/local/lib/python3.7/dist-packages (from tensorboard->keras-tuner) (3.3.4)\n",
            "Requirement already satisfied: protobuf>=3.6.0 in /usr/local/lib/python3.7/dist-packages (from tensorboard->keras-tuner) (3.17.3)\n",
            "Requirement already satisfied: werkzeug>=0.11.15 in /usr/local/lib/python3.7/dist-packages (from tensorboard->keras-tuner) (1.0.1)\n",
            "Requirement already satisfied: wheel>=0.26 in /usr/local/lib/python3.7/dist-packages (from tensorboard->keras-tuner) (0.37.0)\n",
            "Requirement already satisfied: tensorboard-data-server<0.7.0,>=0.6.0 in /usr/local/lib/python3.7/dist-packages (from tensorboard->keras-tuner) (0.6.1)\n",
            "Requirement already satisfied: google-auth<2,>=1.6.3 in /usr/local/lib/python3.7/dist-packages (from tensorboard->keras-tuner) (1.34.0)\n",
            "Requirement already satisfied: google-auth-oauthlib<0.5,>=0.4.1 in /usr/local/lib/python3.7/dist-packages (from tensorboard->keras-tuner) (0.4.5)\n",
            "Requirement already satisfied: grpcio>=1.24.3 in /usr/local/lib/python3.7/dist-packages (from tensorboard->keras-tuner) (1.39.0)\n",
            "Requirement already satisfied: tensorboard-plugin-wit>=1.6.0 in /usr/local/lib/python3.7/dist-packages (from tensorboard->keras-tuner) (1.8.0)\n",
            "Requirement already satisfied: rsa<5,>=3.1.4 in /usr/local/lib/python3.7/dist-packages (from google-auth<2,>=1.6.3->tensorboard->keras-tuner) (4.7.2)\n",
            "Requirement already satisfied: pyasn1-modules>=0.2.1 in /usr/local/lib/python3.7/dist-packages (from google-auth<2,>=1.6.3->tensorboard->keras-tuner) (0.2.8)\n",
            "Requirement already satisfied: cachetools<5.0,>=2.0.0 in /usr/local/lib/python3.7/dist-packages (from google-auth<2,>=1.6.3->tensorboard->keras-tuner) (4.2.2)\n",
            "Requirement already satisfied: requests-oauthlib>=0.7.0 in /usr/local/lib/python3.7/dist-packages (from google-auth-oauthlib<0.5,>=0.4.1->tensorboard->keras-tuner) (1.3.0)\n",
            "Requirement already satisfied: importlib-metadata in /usr/local/lib/python3.7/dist-packages (from markdown>=2.6.8->tensorboard->keras-tuner) (4.6.4)\n",
            "Requirement already satisfied: pyasn1<0.5.0,>=0.4.6 in /usr/local/lib/python3.7/dist-packages (from pyasn1-modules>=0.2.1->google-auth<2,>=1.6.3->tensorboard->keras-tuner) (0.4.8)\n",
            "Requirement already satisfied: oauthlib>=3.0.0 in /usr/local/lib/python3.7/dist-packages (from requests-oauthlib>=0.7.0->google-auth-oauthlib<0.5,>=0.4.1->tensorboard->keras-tuner) (3.1.1)\n",
            "Requirement already satisfied: zipp>=0.5 in /usr/local/lib/python3.7/dist-packages (from importlib-metadata->markdown>=2.6.8->tensorboard->keras-tuner) (3.5.0)\n",
            "Requirement already satisfied: typing-extensions>=3.6.4 in /usr/local/lib/python3.7/dist-packages (from importlib-metadata->markdown>=2.6.8->tensorboard->keras-tuner) (3.7.4.3)\n"
          ]
        }
      ],
      "source": [
        "pip install -U keras-tuner\n"
      ]
    },
    {
      "cell_type": "code",
      "execution_count": null,
      "metadata": {
        "colab": {
          "base_uri": "https://localhost:8080/"
        },
        "id": "CVyQiikMpe1v",
        "outputId": "0278aad9-84ff-414c-bc96-a901c471460a"
      },
      "outputs": [
        {
          "name": "stdout",
          "output_type": "stream",
          "text": [
            "2.6.0\n"
          ]
        }
      ],
      "source": [
        "print(tf.__version__)"
      ]
    },
    {
      "cell_type": "code",
      "execution_count": null,
      "metadata": {
        "id": "trIq2Mzpa1js"
      },
      "outputs": [],
      "source": [
        "from tensorflow.compat.v1 import ConfigProto\n",
        "from tensorflow.compat.v1 import InteractiveSession\n",
        "\n",
        "config = ConfigProto()\n",
        "config.gpu_options.allow_growth = True\n",
        "session = InteractiveSession(config=config)"
      ]
    },
    {
      "cell_type": "markdown",
      "metadata": {
        "id": "pLNfuu9tI7Tt"
      },
      "source": [
        "# Sorting and Filtering"
      ]
    },
    {
      "cell_type": "code",
      "execution_count": null,
      "metadata": {
        "id": "whKog6pvhwxZ"
      },
      "outputs": [],
      "source": [
        "# dataların dizilisini gunumuzden gecmise siralama\n",
        "\n",
        "def data_sorter(table):\n",
        "    table = table[::-1] \n",
        "    table.reset_index(inplace=True, drop=True)  #to reset the dataframe\n",
        "    return table"
      ]
    },
    {
      "cell_type": "code",
      "execution_count": null,
      "metadata": {
        "id": "tXiq7FiWhwxa"
      },
      "outputs": [],
      "source": [
        "# to set the time filter for the dataframes\n",
        "\n",
        "def data_filter_by_time(table):\n",
        "    start = pd.to_datetime('1986-01-01')\n",
        "    end = pd.to_datetime('2017-07-14') \n",
        "    table = table.loc[(table['Date'] >= start) & (table['Date'] <= end)] \n",
        "    table.reset_index(inplace=True, drop=True)\n",
        "    return table"
      ]
    },
    {
      "cell_type": "markdown",
      "metadata": {
        "id": "ZO-gP409lzJG"
      },
      "source": []
    },
    {
      "cell_type": "markdown",
      "metadata": {
        "id": "LZiFu-3Thwxa"
      },
      "source": [
        "# FEDFUNDS"
      ]
    },
    {
      "cell_type": "code",
      "execution_count": null,
      "metadata": {
        "colab": {
          "base_uri": "https://localhost:8080/",
          "height": 414
        },
        "id": "2ot3Vnehhwxb",
        "outputId": "c2d7d0d3-b8c7-49e1-c1e5-1ef1c8f1dd9d"
      },
      "outputs": [
        {
          "data": {
            "text/html": [
              "<div>\n",
              "<style scoped>\n",
              "    .dataframe tbody tr th:only-of-type {\n",
              "        vertical-align: middle;\n",
              "    }\n",
              "\n",
              "    .dataframe tbody tr th {\n",
              "        vertical-align: top;\n",
              "    }\n",
              "\n",
              "    .dataframe thead th {\n",
              "        text-align: right;\n",
              "    }\n",
              "</style>\n",
              "<table border=\"1\" class=\"dataframe\">\n",
              "  <thead>\n",
              "    <tr style=\"text-align: right;\">\n",
              "      <th></th>\n",
              "      <th>DATE</th>\n",
              "      <th>FEDFUNDS</th>\n",
              "    </tr>\n",
              "  </thead>\n",
              "  <tbody>\n",
              "    <tr>\n",
              "      <th>0</th>\n",
              "      <td>1954-07-01</td>\n",
              "      <td>0.80</td>\n",
              "    </tr>\n",
              "    <tr>\n",
              "      <th>1</th>\n",
              "      <td>1954-08-01</td>\n",
              "      <td>1.22</td>\n",
              "    </tr>\n",
              "    <tr>\n",
              "      <th>2</th>\n",
              "      <td>1954-09-01</td>\n",
              "      <td>1.07</td>\n",
              "    </tr>\n",
              "    <tr>\n",
              "      <th>3</th>\n",
              "      <td>1954-10-01</td>\n",
              "      <td>0.85</td>\n",
              "    </tr>\n",
              "    <tr>\n",
              "      <th>4</th>\n",
              "      <td>1954-11-01</td>\n",
              "      <td>0.83</td>\n",
              "    </tr>\n",
              "    <tr>\n",
              "      <th>...</th>\n",
              "      <td>...</td>\n",
              "      <td>...</td>\n",
              "    </tr>\n",
              "    <tr>\n",
              "      <th>794</th>\n",
              "      <td>2020-09-01</td>\n",
              "      <td>0.09</td>\n",
              "    </tr>\n",
              "    <tr>\n",
              "      <th>795</th>\n",
              "      <td>2020-10-01</td>\n",
              "      <td>0.09</td>\n",
              "    </tr>\n",
              "    <tr>\n",
              "      <th>796</th>\n",
              "      <td>2020-11-01</td>\n",
              "      <td>0.09</td>\n",
              "    </tr>\n",
              "    <tr>\n",
              "      <th>797</th>\n",
              "      <td>2020-12-01</td>\n",
              "      <td>0.09</td>\n",
              "    </tr>\n",
              "    <tr>\n",
              "      <th>798</th>\n",
              "      <td>2021-01-01</td>\n",
              "      <td>0.09</td>\n",
              "    </tr>\n",
              "  </tbody>\n",
              "</table>\n",
              "<p>799 rows × 2 columns</p>\n",
              "</div>"
            ],
            "text/plain": [
              "           DATE  FEDFUNDS\n",
              "0    1954-07-01      0.80\n",
              "1    1954-08-01      1.22\n",
              "2    1954-09-01      1.07\n",
              "3    1954-10-01      0.85\n",
              "4    1954-11-01      0.83\n",
              "..          ...       ...\n",
              "794  2020-09-01      0.09\n",
              "795  2020-10-01      0.09\n",
              "796  2020-11-01      0.09\n",
              "797  2020-12-01      0.09\n",
              "798  2021-01-01      0.09\n",
              "\n",
              "[799 rows x 2 columns]"
            ]
          },
          "execution_count": 644,
          "metadata": {},
          "output_type": "execute_result"
        }
      ],
      "source": [
        "fedfunds = pd.read_csv(path + '/FEDFUNDS.csv') #fred.stlouisfed.org 'dan elde edildi, Intereset rate\n",
        "\n",
        "fedfunds # aylık degisiyor"
      ]
    },
    {
      "cell_type": "code",
      "execution_count": null,
      "metadata": {
        "colab": {
          "base_uri": "https://localhost:8080/",
          "height": 414
        },
        "id": "Ggn95rLPhwxc",
        "outputId": "54126236-b5db-497f-840e-1f5e06ed6303"
      },
      "outputs": [
        {
          "data": {
            "text/html": [
              "<div>\n",
              "<style scoped>\n",
              "    .dataframe tbody tr th:only-of-type {\n",
              "        vertical-align: middle;\n",
              "    }\n",
              "\n",
              "    .dataframe tbody tr th {\n",
              "        vertical-align: top;\n",
              "    }\n",
              "\n",
              "    .dataframe thead th {\n",
              "        text-align: right;\n",
              "    }\n",
              "</style>\n",
              "<table border=\"1\" class=\"dataframe\">\n",
              "  <thead>\n",
              "    <tr style=\"text-align: right;\">\n",
              "      <th></th>\n",
              "      <th>Date</th>\n",
              "      <th>fedfunds</th>\n",
              "    </tr>\n",
              "  </thead>\n",
              "  <tbody>\n",
              "    <tr>\n",
              "      <th>0</th>\n",
              "      <td>1954-07-01</td>\n",
              "      <td>0.80</td>\n",
              "    </tr>\n",
              "    <tr>\n",
              "      <th>1</th>\n",
              "      <td>1954-08-01</td>\n",
              "      <td>1.22</td>\n",
              "    </tr>\n",
              "    <tr>\n",
              "      <th>2</th>\n",
              "      <td>1954-09-01</td>\n",
              "      <td>1.07</td>\n",
              "    </tr>\n",
              "    <tr>\n",
              "      <th>3</th>\n",
              "      <td>1954-10-01</td>\n",
              "      <td>0.85</td>\n",
              "    </tr>\n",
              "    <tr>\n",
              "      <th>4</th>\n",
              "      <td>1954-11-01</td>\n",
              "      <td>0.83</td>\n",
              "    </tr>\n",
              "    <tr>\n",
              "      <th>...</th>\n",
              "      <td>...</td>\n",
              "      <td>...</td>\n",
              "    </tr>\n",
              "    <tr>\n",
              "      <th>794</th>\n",
              "      <td>2020-09-01</td>\n",
              "      <td>0.09</td>\n",
              "    </tr>\n",
              "    <tr>\n",
              "      <th>795</th>\n",
              "      <td>2020-10-01</td>\n",
              "      <td>0.09</td>\n",
              "    </tr>\n",
              "    <tr>\n",
              "      <th>796</th>\n",
              "      <td>2020-11-01</td>\n",
              "      <td>0.09</td>\n",
              "    </tr>\n",
              "    <tr>\n",
              "      <th>797</th>\n",
              "      <td>2020-12-01</td>\n",
              "      <td>0.09</td>\n",
              "    </tr>\n",
              "    <tr>\n",
              "      <th>798</th>\n",
              "      <td>2021-01-01</td>\n",
              "      <td>0.09</td>\n",
              "    </tr>\n",
              "  </tbody>\n",
              "</table>\n",
              "<p>799 rows × 2 columns</p>\n",
              "</div>"
            ],
            "text/plain": [
              "          Date  fedfunds\n",
              "0   1954-07-01      0.80\n",
              "1   1954-08-01      1.22\n",
              "2   1954-09-01      1.07\n",
              "3   1954-10-01      0.85\n",
              "4   1954-11-01      0.83\n",
              "..         ...       ...\n",
              "794 2020-09-01      0.09\n",
              "795 2020-10-01      0.09\n",
              "796 2020-11-01      0.09\n",
              "797 2020-12-01      0.09\n",
              "798 2021-01-01      0.09\n",
              "\n",
              "[799 rows x 2 columns]"
            ]
          },
          "execution_count": 645,
          "metadata": {},
          "output_type": "execute_result"
        }
      ],
      "source": [
        "fedfunds.rename(columns={'DATE':'Date', 'FEDFUNDS':'fedfunds'}, inplace = True)\n",
        "fedfunds['Date'] = pd.to_datetime(fedfunds['Date'], format = '%Y-%m-%d')  #tarih formatlarini ayni formata getirme\n",
        "fedfunds"
      ]
    },
    {
      "cell_type": "code",
      "execution_count": null,
      "metadata": {
        "id": "TRWkdO0Ohwxd"
      },
      "outputs": [],
      "source": [
        "fedfunds = data_sorter(fedfunds) "
      ]
    },
    {
      "cell_type": "code",
      "execution_count": null,
      "metadata": {
        "id": "MdwCrU2khwxd"
      },
      "outputs": [],
      "source": [
        "fedfunds = data_filter_by_time(fedfunds)"
      ]
    },
    {
      "cell_type": "code",
      "execution_count": null,
      "metadata": {
        "colab": {
          "base_uri": "https://localhost:8080/",
          "height": 414
        },
        "id": "2J8LhdRChwxd",
        "outputId": "e0fc2cc8-2990-4244-dd7c-4915ab615603"
      },
      "outputs": [
        {
          "data": {
            "text/html": [
              "<div>\n",
              "<style scoped>\n",
              "    .dataframe tbody tr th:only-of-type {\n",
              "        vertical-align: middle;\n",
              "    }\n",
              "\n",
              "    .dataframe tbody tr th {\n",
              "        vertical-align: top;\n",
              "    }\n",
              "\n",
              "    .dataframe thead th {\n",
              "        text-align: right;\n",
              "    }\n",
              "</style>\n",
              "<table border=\"1\" class=\"dataframe\">\n",
              "  <thead>\n",
              "    <tr style=\"text-align: right;\">\n",
              "      <th></th>\n",
              "      <th>Date</th>\n",
              "      <th>fedfunds</th>\n",
              "    </tr>\n",
              "  </thead>\n",
              "  <tbody>\n",
              "    <tr>\n",
              "      <th>0</th>\n",
              "      <td>2017-07-01</td>\n",
              "      <td>1.15</td>\n",
              "    </tr>\n",
              "    <tr>\n",
              "      <th>1</th>\n",
              "      <td>2017-06-01</td>\n",
              "      <td>1.04</td>\n",
              "    </tr>\n",
              "    <tr>\n",
              "      <th>2</th>\n",
              "      <td>2017-05-01</td>\n",
              "      <td>0.91</td>\n",
              "    </tr>\n",
              "    <tr>\n",
              "      <th>3</th>\n",
              "      <td>2017-04-01</td>\n",
              "      <td>0.90</td>\n",
              "    </tr>\n",
              "    <tr>\n",
              "      <th>4</th>\n",
              "      <td>2017-03-01</td>\n",
              "      <td>0.79</td>\n",
              "    </tr>\n",
              "    <tr>\n",
              "      <th>...</th>\n",
              "      <td>...</td>\n",
              "      <td>...</td>\n",
              "    </tr>\n",
              "    <tr>\n",
              "      <th>374</th>\n",
              "      <td>1986-05-01</td>\n",
              "      <td>6.85</td>\n",
              "    </tr>\n",
              "    <tr>\n",
              "      <th>375</th>\n",
              "      <td>1986-04-01</td>\n",
              "      <td>6.99</td>\n",
              "    </tr>\n",
              "    <tr>\n",
              "      <th>376</th>\n",
              "      <td>1986-03-01</td>\n",
              "      <td>7.48</td>\n",
              "    </tr>\n",
              "    <tr>\n",
              "      <th>377</th>\n",
              "      <td>1986-02-01</td>\n",
              "      <td>7.86</td>\n",
              "    </tr>\n",
              "    <tr>\n",
              "      <th>378</th>\n",
              "      <td>1986-01-01</td>\n",
              "      <td>8.14</td>\n",
              "    </tr>\n",
              "  </tbody>\n",
              "</table>\n",
              "<p>379 rows × 2 columns</p>\n",
              "</div>"
            ],
            "text/plain": [
              "          Date  fedfunds\n",
              "0   2017-07-01      1.15\n",
              "1   2017-06-01      1.04\n",
              "2   2017-05-01      0.91\n",
              "3   2017-04-01      0.90\n",
              "4   2017-03-01      0.79\n",
              "..         ...       ...\n",
              "374 1986-05-01      6.85\n",
              "375 1986-04-01      6.99\n",
              "376 1986-03-01      7.48\n",
              "377 1986-02-01      7.86\n",
              "378 1986-01-01      8.14\n",
              "\n",
              "[379 rows x 2 columns]"
            ]
          },
          "execution_count": 648,
          "metadata": {},
          "output_type": "execute_result"
        }
      ],
      "source": [
        "fedfunds"
      ]
    },
    {
      "cell_type": "code",
      "execution_count": null,
      "metadata": {
        "colab": {
          "base_uri": "https://localhost:8080/",
          "height": 353
        },
        "id": "4FZb6dQkhwxe",
        "outputId": "7dd85481-eec2-4b41-90fb-4fbbfbc4a973",
        "scrolled": true
      },
      "outputs": [
        {
          "data": {
            "text/plain": [
              "<matplotlib.collections.PathCollection at 0x7f84c89b9090>"
            ]
          },
          "execution_count": 649,
          "metadata": {},
          "output_type": "execute_result"
        },
        {
          "data": {
            "image/png": "[encoded data removed]",
            "text/plain": [
              "<Figure size 1080x360 with 1 Axes>"
            ]
          },
          "metadata": {
            "needs_background": "light"
          },
          "output_type": "display_data"
        }
      ],
      "source": [
        "plt.figure(figsize=(15,5))\n",
        "plt.title('FedFunds')\n",
        "plt.scatter(x=\"Date\", y = \"fedfunds\", data = fedfunds)"
      ]
    },
    {
      "cell_type": "code",
      "execution_count": null,
      "metadata": {
        "colab": {
          "base_uri": "https://localhost:8080/",
          "height": 367
        },
        "id": "8BM5js14hwxe",
        "outputId": "0d35227f-5a66-48dc-f15a-16f27139b398"
      },
      "outputs": [
        {
          "data": {
            "text/plain": [
              "<matplotlib.axes._subplots.AxesSubplot at 0x7f84c8baff50>"
            ]
          },
          "execution_count": 650,
          "metadata": {},
          "output_type": "execute_result"
        },
        {
          "data": {
            "image/png": "[encoded data removed]",
            "text/plain": [
              "<Figure size 1080x360 with 1 Axes>"
            ]
          },
          "metadata": {
            "needs_background": "light"
          },
          "output_type": "display_data"
        }
      ],
      "source": [
        "plt.figure(figsize=(15,5))\n",
        "plt.title('FedFunds')\n",
        "sns.lineplot(x=\"Date\", y = \"fedfunds\", data = fedfunds)"
      ]
    },
    {
      "cell_type": "code",
      "execution_count": null,
      "metadata": {
        "colab": {
          "base_uri": "https://localhost:8080/"
        },
        "id": "S-s3pDBHhwxf",
        "outputId": "fba24fb1-33a2-48c2-e8ac-9194f9c60abe"
      },
      "outputs": [
        {
          "data": {
            "text/plain": [
              "Date        datetime64[ns]\n",
              "fedfunds           float64\n",
              "dtype: object"
            ]
          },
          "execution_count": 651,
          "metadata": {},
          "output_type": "execute_result"
        }
      ],
      "source": [
        "fedfunds.dtypes"
      ]
    },
    {
      "cell_type": "markdown",
      "metadata": {
        "id": "AeEf1R8zhwxf"
      },
      "source": [
        "# xau_usd_v2"
      ]
    },
    {
      "cell_type": "code",
      "execution_count": null,
      "metadata": {
        "id": "3_EzMG-bhwxg"
      },
      "outputs": [],
      "source": [
        "# https://stooq.com/q/d/l/?s=xauusd&d1=19700101&d2=20210316&i=d"
      ]
    },
    {
      "cell_type": "code",
      "execution_count": null,
      "metadata": {
        "colab": {
          "base_uri": "https://localhost:8080/"
        },
        "id": "nMDoGE45hwxg",
        "outputId": "95fa431f-f411-4524-88a3-b28094b52fc8"
      },
      "outputs": [
        {
          "data": {
            "text/html": [
              "<div>\n",
              "<style scoped>\n",
              "    .dataframe tbody tr th:only-of-type {\n",
              "        vertical-align: middle;\n",
              "    }\n",
              "\n",
              "    .dataframe tbody tr th {\n",
              "        vertical-align: top;\n",
              "    }\n",
              "\n",
              "    .dataframe thead th {\n",
              "        text-align: right;\n",
              "    }\n",
              "</style>\n",
              "<table border=\"1\" class=\"dataframe\">\n",
              "  <thead>\n",
              "    <tr style=\"text-align: right;\">\n",
              "      <th></th>\n",
              "      <th>Date</th>\n",
              "      <th>Open</th>\n",
              "      <th>High</th>\n",
              "      <th>Low</th>\n",
              "      <th>Close</th>\n",
              "    </tr>\n",
              "  </thead>\n",
              "  <tbody>\n",
              "    <tr>\n",
              "      <th>0</th>\n",
              "      <td>1970-01-05</td>\n",
              "      <td>35.40</td>\n",
              "      <td>35.40</td>\n",
              "      <td>35.40</td>\n",
              "      <td>35.40</td>\n",
              "    </tr>\n",
              "    <tr>\n",
              "      <th>1</th>\n",
              "      <td>1970-01-06</td>\n",
              "      <td>35.40</td>\n",
              "      <td>35.40</td>\n",
              "      <td>35.20</td>\n",
              "      <td>35.20</td>\n",
              "    </tr>\n",
              "    <tr>\n",
              "      <th>2</th>\n",
              "      <td>1970-01-07</td>\n",
              "      <td>35.20</td>\n",
              "      <td>35.20</td>\n",
              "      <td>35.20</td>\n",
              "      <td>35.20</td>\n",
              "    </tr>\n",
              "    <tr>\n",
              "      <th>3</th>\n",
              "      <td>1970-01-08</td>\n",
              "      <td>35.20</td>\n",
              "      <td>35.20</td>\n",
              "      <td>35.10</td>\n",
              "      <td>35.10</td>\n",
              "    </tr>\n",
              "    <tr>\n",
              "      <th>4</th>\n",
              "      <td>1970-01-09</td>\n",
              "      <td>35.10</td>\n",
              "      <td>35.10</td>\n",
              "      <td>35.10</td>\n",
              "      <td>35.10</td>\n",
              "    </tr>\n",
              "    <tr>\n",
              "      <th>...</th>\n",
              "      <td>...</td>\n",
              "      <td>...</td>\n",
              "      <td>...</td>\n",
              "      <td>...</td>\n",
              "      <td>...</td>\n",
              "    </tr>\n",
              "    <tr>\n",
              "      <th>13022</th>\n",
              "      <td>2021-03-09</td>\n",
              "      <td>1683.48</td>\n",
              "      <td>1720.69</td>\n",
              "      <td>1680.31</td>\n",
              "      <td>1716.17</td>\n",
              "    </tr>\n",
              "    <tr>\n",
              "      <th>13023</th>\n",
              "      <td>2021-03-10</td>\n",
              "      <td>1716.11</td>\n",
              "      <td>1726.89</td>\n",
              "      <td>1708.26</td>\n",
              "      <td>1726.72</td>\n",
              "    </tr>\n",
              "    <tr>\n",
              "      <th>13024</th>\n",
              "      <td>2021-03-11</td>\n",
              "      <td>1726.76</td>\n",
              "      <td>1739.91</td>\n",
              "      <td>1719.47</td>\n",
              "      <td>1722.60</td>\n",
              "    </tr>\n",
              "    <tr>\n",
              "      <th>13025</th>\n",
              "      <td>2021-03-12</td>\n",
              "      <td>1722.34</td>\n",
              "      <td>1727.98</td>\n",
              "      <td>1699.35</td>\n",
              "      <td>1724.54</td>\n",
              "    </tr>\n",
              "    <tr>\n",
              "      <th>13026</th>\n",
              "      <td>2021-03-15</td>\n",
              "      <td>1727.89</td>\n",
              "      <td>1734.57</td>\n",
              "      <td>1721.97</td>\n",
              "      <td>1732.16</td>\n",
              "    </tr>\n",
              "  </tbody>\n",
              "</table>\n",
              "<p>13027 rows × 5 columns</p>\n",
              "</div>"
            ],
            "text/plain": [
              "             Date     Open     High      Low    Close\n",
              "0      1970-01-05    35.40    35.40    35.40    35.40\n",
              "1      1970-01-06    35.40    35.40    35.20    35.20\n",
              "2      1970-01-07    35.20    35.20    35.20    35.20\n",
              "3      1970-01-08    35.20    35.20    35.10    35.10\n",
              "4      1970-01-09    35.10    35.10    35.10    35.10\n",
              "...           ...      ...      ...      ...      ...\n",
              "13022  2021-03-09  1683.48  1720.69  1680.31  1716.17\n",
              "13023  2021-03-10  1716.11  1726.89  1708.26  1726.72\n",
              "13024  2021-03-11  1726.76  1739.91  1719.47  1722.60\n",
              "13025  2021-03-12  1722.34  1727.98  1699.35  1724.54\n",
              "13026  2021-03-15  1727.89  1734.57  1721.97  1732.16\n",
              "\n",
              "[13027 rows x 5 columns]"
            ]
          },
          "execution_count": 653,
          "metadata": {},
          "output_type": "execute_result"
        }
      ],
      "source": [
        "xau_usd_v2 = pd.read_csv(path + '/xauusd_d.csv') #gunluk degisiyor\n",
        "xau_usd_v2"
      ]
    },
    {
      "cell_type": "code",
      "execution_count": null,
      "metadata": {
        "id": "Ew077oPzhwxg"
      },
      "outputs": [],
      "source": [
        "xau_usd_v2['Date'] = pd.to_datetime(xau_usd_v2['Date'], format = '%Y-%m-%d') #tarih formatlarini ayni formata getirme"
      ]
    },
    {
      "cell_type": "code",
      "execution_count": null,
      "metadata": {
        "id": "844h3UyIhwxh"
      },
      "outputs": [],
      "source": [
        "xau_usd_v2.drop([\"Open\", \"High\", \"Low\"],axis = 1, inplace = True) "
      ]
    },
    {
      "cell_type": "code",
      "execution_count": null,
      "metadata": {
        "id": "6JCt8DTJhwxh"
      },
      "outputs": [],
      "source": [
        "xau_usd_v2.rename(columns={\"Close\": \"xau_usd\"}, inplace = True)"
      ]
    },
    {
      "cell_type": "code",
      "execution_count": null,
      "metadata": {
        "id": "cSnRryN8hwxh"
      },
      "outputs": [],
      "source": [
        "xau_usd_v2 = data_filter_by_time(xau_usd_v2)"
      ]
    },
    {
      "cell_type": "code",
      "execution_count": null,
      "metadata": {
        "id": "DXHqxfw1hwxh"
      },
      "outputs": [],
      "source": [
        "xau_usd_v2 = data_sorter(xau_usd_v2)"
      ]
    },
    {
      "cell_type": "code",
      "execution_count": null,
      "metadata": {
        "colab": {
          "base_uri": "https://localhost:8080/"
        },
        "id": "cL1b380dhwxi",
        "outputId": "3676c474-16b5-4b01-b188-44f1b7ee525d"
      },
      "outputs": [
        {
          "data": {
            "text/html": [
              "<div>\n",
              "<style scoped>\n",
              "    .dataframe tbody tr th:only-of-type {\n",
              "        vertical-align: middle;\n",
              "    }\n",
              "\n",
              "    .dataframe tbody tr th {\n",
              "        vertical-align: top;\n",
              "    }\n",
              "\n",
              "    .dataframe thead th {\n",
              "        text-align: right;\n",
              "    }\n",
              "</style>\n",
              "<table border=\"1\" class=\"dataframe\">\n",
              "  <thead>\n",
              "    <tr style=\"text-align: right;\">\n",
              "      <th></th>\n",
              "      <th>Date</th>\n",
              "      <th>xau_usd</th>\n",
              "    </tr>\n",
              "  </thead>\n",
              "  <tbody>\n",
              "    <tr>\n",
              "      <th>0</th>\n",
              "      <td>2017-07-14</td>\n",
              "      <td>1228.47</td>\n",
              "    </tr>\n",
              "    <tr>\n",
              "      <th>1</th>\n",
              "      <td>2017-07-13</td>\n",
              "      <td>1217.57</td>\n",
              "    </tr>\n",
              "    <tr>\n",
              "      <th>2</th>\n",
              "      <td>2017-07-12</td>\n",
              "      <td>1218.29</td>\n",
              "    </tr>\n",
              "    <tr>\n",
              "      <th>3</th>\n",
              "      <td>2017-07-11</td>\n",
              "      <td>1218.18</td>\n",
              "    </tr>\n",
              "    <tr>\n",
              "      <th>4</th>\n",
              "      <td>2017-07-10</td>\n",
              "      <td>1214.39</td>\n",
              "    </tr>\n",
              "    <tr>\n",
              "      <th>...</th>\n",
              "      <td>...</td>\n",
              "      <td>...</td>\n",
              "    </tr>\n",
              "    <tr>\n",
              "      <th>8070</th>\n",
              "      <td>1986-01-08</td>\n",
              "      <td>336.10</td>\n",
              "    </tr>\n",
              "    <tr>\n",
              "      <th>8071</th>\n",
              "      <td>1986-01-07</td>\n",
              "      <td>332.80</td>\n",
              "    </tr>\n",
              "    <tr>\n",
              "      <th>8072</th>\n",
              "      <td>1986-01-06</td>\n",
              "      <td>330.70</td>\n",
              "    </tr>\n",
              "    <tr>\n",
              "      <th>8073</th>\n",
              "      <td>1986-01-03</td>\n",
              "      <td>330.00</td>\n",
              "    </tr>\n",
              "    <tr>\n",
              "      <th>8074</th>\n",
              "      <td>1986-01-02</td>\n",
              "      <td>328.90</td>\n",
              "    </tr>\n",
              "  </tbody>\n",
              "</table>\n",
              "<p>8075 rows × 2 columns</p>\n",
              "</div>"
            ],
            "text/plain": [
              "           Date  xau_usd\n",
              "0    2017-07-14  1228.47\n",
              "1    2017-07-13  1217.57\n",
              "2    2017-07-12  1218.29\n",
              "3    2017-07-11  1218.18\n",
              "4    2017-07-10  1214.39\n",
              "...         ...      ...\n",
              "8070 1986-01-08   336.10\n",
              "8071 1986-01-07   332.80\n",
              "8072 1986-01-06   330.70\n",
              "8073 1986-01-03   330.00\n",
              "8074 1986-01-02   328.90\n",
              "\n",
              "[8075 rows x 2 columns]"
            ]
          },
          "execution_count": 659,
          "metadata": {},
          "output_type": "execute_result"
        }
      ],
      "source": [
        "#pd.set_option('display.max_rows', None)  #bütün datayı gösterebilmek için\n",
        "xau_usd_v2"
      ]
    },
    {
      "cell_type": "code",
      "execution_count": null,
      "metadata": {
        "colab": {
          "base_uri": "https://localhost:8080/"
        },
        "id": "w7HXEMQzhwxi",
        "outputId": "b7bf8512-251d-44c8-9342-a1225bf82776"
      },
      "outputs": [
        {
          "data": {
            "text/plain": [
              "Date       datetime64[ns]\n",
              "xau_usd           float64\n",
              "dtype: object"
            ]
          },
          "execution_count": 660,
          "metadata": {},
          "output_type": "execute_result"
        }
      ],
      "source": [
        "xau_usd_v2.dtypes"
      ]
    },
    {
      "cell_type": "code",
      "execution_count": null,
      "metadata": {
        "colab": {
          "base_uri": "https://localhost:8080/"
        },
        "id": "-7VREDKkhwxi",
        "outputId": "d2a52a8d-2eef-4dcf-826b-7facd53e3589"
      },
      "outputs": [
        {
          "data": {
            "text/plain": [
              "<matplotlib.collections.PathCollection at 0x7f84c89b9e90>"
            ]
          },
          "execution_count": 661,
          "metadata": {},
          "output_type": "execute_result"
        },
        {
          "data": {
            "image/png": "[encoded data removed]",
            "text/plain": [
              "<Figure size 1080x360 with 1 Axes>"
            ]
          },
          "metadata": {
            "needs_background": "light"
          },
          "output_type": "display_data"
        }
      ],
      "source": [
        "plt.figure(figsize=(15,5))\n",
        "plt.title('Gold Spot US Dollar Price')\n",
        "plt.scatter(x=\"Date\", y=\"xau_usd\", data = xau_usd_v2)"
      ]
    },
    {
      "cell_type": "code",
      "execution_count": null,
      "metadata": {
        "colab": {
          "base_uri": "https://localhost:8080/"
        },
        "id": "CP2Srt1Lhwxj",
        "outputId": "8ab3d50e-498f-4985-a70b-96b17a672c60"
      },
      "outputs": [
        {
          "data": {
            "text/plain": [
              "<matplotlib.axes._subplots.AxesSubplot at 0x7f85327ec050>"
            ]
          },
          "execution_count": 662,
          "metadata": {},
          "output_type": "execute_result"
        },
        {
          "data": {
            "image/png": "[encoded data removed]",
            "text/plain": [
              "<Figure size 1080x360 with 1 Axes>"
            ]
          },
          "metadata": {
            "needs_background": "light"
          },
          "output_type": "display_data"
        }
      ],
      "source": [
        "plt.figure(figsize=(15,5))\n",
        "plt.title('Gold Spot US Dollar Price')\n",
        "sns.lineplot(x=\"Date\", y = \"xau_usd\", data = xau_usd_v2)"
      ]
    },
    {
      "cell_type": "markdown",
      "metadata": {
        "id": "iDOv_6D5hwxj"
      },
      "source": [
        "# Gross Domestic Product(GDP) of US "
      ]
    },
    {
      "cell_type": "code",
      "execution_count": null,
      "metadata": {
        "colab": {
          "base_uri": "https://localhost:8080/"
        },
        "id": "VN_yO8FVhwxk",
        "outputId": "462e03f5-1fc8-4545-9c14-5da97fc39620",
        "scrolled": true
      },
      "outputs": [
        {
          "data": {
            "text/html": [
              "<div>\n",
              "<style scoped>\n",
              "    .dataframe tbody tr th:only-of-type {\n",
              "        vertical-align: middle;\n",
              "    }\n",
              "\n",
              "    .dataframe tbody tr th {\n",
              "        vertical-align: top;\n",
              "    }\n",
              "\n",
              "    .dataframe thead th {\n",
              "        text-align: right;\n",
              "    }\n",
              "</style>\n",
              "<table border=\"1\" class=\"dataframe\">\n",
              "  <thead>\n",
              "    <tr style=\"text-align: right;\">\n",
              "      <th></th>\n",
              "      <th>Date</th>\n",
              "      <th>Gross Domestic Product (GDP)</th>\n",
              "    </tr>\n",
              "  </thead>\n",
              "  <tbody>\n",
              "    <tr>\n",
              "      <th>0</th>\n",
              "      <td>2019-12-31</td>\n",
              "      <td>65133.731652</td>\n",
              "    </tr>\n",
              "    <tr>\n",
              "      <th>1</th>\n",
              "      <td>2018-12-31</td>\n",
              "      <td>63014.663283</td>\n",
              "    </tr>\n",
              "    <tr>\n",
              "      <th>2</th>\n",
              "      <td>2017-12-31</td>\n",
              "      <td>60116.568493</td>\n",
              "    </tr>\n",
              "    <tr>\n",
              "      <th>3</th>\n",
              "      <td>2016-12-31</td>\n",
              "      <td>58031.414203</td>\n",
              "    </tr>\n",
              "    <tr>\n",
              "      <th>4</th>\n",
              "      <td>2015-12-31</td>\n",
              "      <td>56838.684422</td>\n",
              "    </tr>\n",
              "    <tr>\n",
              "      <th>5</th>\n",
              "      <td>2014-12-31</td>\n",
              "      <td>55000.691601</td>\n",
              "    </tr>\n",
              "    <tr>\n",
              "      <th>6</th>\n",
              "      <td>2013-12-31</td>\n",
              "      <td>53049.375662</td>\n",
              "    </tr>\n",
              "    <tr>\n",
              "      <th>7</th>\n",
              "      <td>2012-12-31</td>\n",
              "      <td>51575.616573</td>\n",
              "    </tr>\n",
              "    <tr>\n",
              "      <th>8</th>\n",
              "      <td>2011-12-31</td>\n",
              "      <td>49882.470395</td>\n",
              "    </tr>\n",
              "    <tr>\n",
              "      <th>9</th>\n",
              "      <td>2010-12-31</td>\n",
              "      <td>48516.165945</td>\n",
              "    </tr>\n",
              "  </tbody>\n",
              "</table>\n",
              "</div>"
            ],
            "text/plain": [
              "         Date  Gross Domestic Product (GDP)\n",
              "0  2019-12-31                  65133.731652\n",
              "1  2018-12-31                  63014.663283\n",
              "2  2017-12-31                  60116.568493\n",
              "3  2016-12-31                  58031.414203\n",
              "4  2015-12-31                  56838.684422\n",
              "5  2014-12-31                  55000.691601\n",
              "6  2013-12-31                  53049.375662\n",
              "7  2012-12-31                  51575.616573\n",
              "8  2011-12-31                  49882.470395\n",
              "9  2010-12-31                  48516.165945"
            ]
          },
          "execution_count": 663,
          "metadata": {},
          "output_type": "execute_result"
        }
      ],
      "source": [
        "gdp_us = pd.read_csv(path + '/UNAE-GDPCDPC_USA.csv') #GDP degerleri, yıllık degisiyor 2020 yok, 2020 yerine 2019\n",
        "gdp_us.head(10)"
      ]
    },
    {
      "cell_type": "code",
      "execution_count": null,
      "metadata": {
        "id": "7wMjLAWvhwxk"
      },
      "outputs": [],
      "source": [
        "gdp_us.rename(columns={'Gross Domestic Product (GDP)':'GDP'}, inplace = True)"
      ]
    },
    {
      "cell_type": "code",
      "execution_count": null,
      "metadata": {
        "colab": {
          "base_uri": "https://localhost:8080/"
        },
        "id": "IJOQosVEhwxk",
        "outputId": "c5a2db71-2147-4bb9-b403-13b9baf60930"
      },
      "outputs": [
        {
          "data": {
            "text/plain": [
              "Date    datetime64[ns]\n",
              "GDP            float64\n",
              "dtype: object"
            ]
          },
          "execution_count": 665,
          "metadata": {},
          "output_type": "execute_result"
        }
      ],
      "source": [
        "gdp_us['Date'] = pd.to_datetime(gdp_us['Date'], format = '%Y-%m-%d') #tarih formatlarini ayni formata getirme\n",
        "gdp_us.dtypes"
      ]
    },
    {
      "cell_type": "code",
      "execution_count": null,
      "metadata": {
        "colab": {
          "base_uri": "https://localhost:8080/"
        },
        "id": "cZVDNfNQhwxl",
        "outputId": "d9a4ef25-47b9-42aa-9e5f-b5afae0e0533"
      },
      "outputs": [
        {
          "data": {
            "text/html": [
              "<div>\n",
              "<style scoped>\n",
              "    .dataframe tbody tr th:only-of-type {\n",
              "        vertical-align: middle;\n",
              "    }\n",
              "\n",
              "    .dataframe tbody tr th {\n",
              "        vertical-align: top;\n",
              "    }\n",
              "\n",
              "    .dataframe thead th {\n",
              "        text-align: right;\n",
              "    }\n",
              "</style>\n",
              "<table border=\"1\" class=\"dataframe\">\n",
              "  <thead>\n",
              "    <tr style=\"text-align: right;\">\n",
              "      <th></th>\n",
              "      <th>Date</th>\n",
              "      <th>GDP</th>\n",
              "    </tr>\n",
              "  </thead>\n",
              "  <tbody>\n",
              "    <tr>\n",
              "      <th>0</th>\n",
              "      <td>2016-12-31</td>\n",
              "      <td>58031.414203</td>\n",
              "    </tr>\n",
              "    <tr>\n",
              "      <th>1</th>\n",
              "      <td>2015-12-31</td>\n",
              "      <td>56838.684422</td>\n",
              "    </tr>\n",
              "    <tr>\n",
              "      <th>2</th>\n",
              "      <td>2014-12-31</td>\n",
              "      <td>55000.691601</td>\n",
              "    </tr>\n",
              "    <tr>\n",
              "      <th>3</th>\n",
              "      <td>2013-12-31</td>\n",
              "      <td>53049.375662</td>\n",
              "    </tr>\n",
              "    <tr>\n",
              "      <th>4</th>\n",
              "      <td>2012-12-31</td>\n",
              "      <td>51575.616573</td>\n",
              "    </tr>\n",
              "    <tr>\n",
              "      <th>5</th>\n",
              "      <td>2011-12-31</td>\n",
              "      <td>49882.470395</td>\n",
              "    </tr>\n",
              "    <tr>\n",
              "      <th>6</th>\n",
              "      <td>2010-12-31</td>\n",
              "      <td>48516.165945</td>\n",
              "    </tr>\n",
              "    <tr>\n",
              "      <th>7</th>\n",
              "      <td>2009-12-31</td>\n",
              "      <td>47171.319147</td>\n",
              "    </tr>\n",
              "    <tr>\n",
              "      <th>8</th>\n",
              "      <td>2008-12-31</td>\n",
              "      <td>48479.483133</td>\n",
              "    </tr>\n",
              "    <tr>\n",
              "      <th>9</th>\n",
              "      <td>2007-12-31</td>\n",
              "      <td>48075.365179</td>\n",
              "    </tr>\n",
              "  </tbody>\n",
              "</table>\n",
              "</div>"
            ],
            "text/plain": [
              "        Date           GDP\n",
              "0 2016-12-31  58031.414203\n",
              "1 2015-12-31  56838.684422\n",
              "2 2014-12-31  55000.691601\n",
              "3 2013-12-31  53049.375662\n",
              "4 2012-12-31  51575.616573\n",
              "5 2011-12-31  49882.470395\n",
              "6 2010-12-31  48516.165945\n",
              "7 2009-12-31  47171.319147\n",
              "8 2008-12-31  48479.483133\n",
              "9 2007-12-31  48075.365179"
            ]
          },
          "execution_count": 666,
          "metadata": {},
          "output_type": "execute_result"
        }
      ],
      "source": [
        "gdp_us = data_filter_by_time(gdp_us)\n",
        "gdp_us.head(10)"
      ]
    },
    {
      "cell_type": "code",
      "execution_count": null,
      "metadata": {
        "colab": {
          "base_uri": "https://localhost:8080/"
        },
        "id": "3-AtsKRyhwxl",
        "outputId": "97fd6719-6040-48fe-b904-7b7ccb280ea7"
      },
      "outputs": [
        {
          "data": {
            "text/plain": [
              "<matplotlib.collections.PathCollection at 0x7f853280d2d0>"
            ]
          },
          "execution_count": 667,
          "metadata": {},
          "output_type": "execute_result"
        },
        {
          "data": {
            "image/png": "[encoded data removed]",
            "text/plain": [
              "<Figure size 1080x360 with 1 Axes>"
            ]
          },
          "metadata": {
            "needs_background": "light"
          },
          "output_type": "display_data"
        }
      ],
      "source": [
        "plt.figure(figsize=(15,5))\n",
        "plt.title('GDP')\n",
        "plt.scatter(x=\"Date\", y=\"GDP\", data = gdp_us)"
      ]
    },
    {
      "cell_type": "code",
      "execution_count": null,
      "metadata": {
        "colab": {
          "base_uri": "https://localhost:8080/"
        },
        "id": "wCkpevOmhwxm",
        "outputId": "468d9d60-f041-4af1-91f5-782946207b7c"
      },
      "outputs": [
        {
          "data": {
            "text/plain": [
              "<matplotlib.axes._subplots.AxesSubplot at 0x7f85326b0c50>"
            ]
          },
          "execution_count": 668,
          "metadata": {},
          "output_type": "execute_result"
        },
        {
          "data": {
            "image/png": "[encoded data removed]",
            "text/plain": [
              "<Figure size 1080x360 with 1 Axes>"
            ]
          },
          "metadata": {
            "needs_background": "light"
          },
          "output_type": "display_data"
        }
      ],
      "source": [
        "plt.figure(figsize=(15,5))\n",
        "plt.title('GDP')\n",
        "sns.lineplot(x=\"Date\", y=\"GDP\", data = gdp_us)"
      ]
    },
    {
      "cell_type": "markdown",
      "metadata": {
        "id": "mjNP9LsIhwxm"
      },
      "source": [
        "# Consumer Price Index(CPI) values of US"
      ]
    },
    {
      "cell_type": "code",
      "execution_count": null,
      "metadata": {
        "colab": {
          "base_uri": "https://localhost:8080/"
        },
        "id": "94luRxKDhwxm",
        "outputId": "18abb8e9-d2a3-410f-ad6b-655ad218c52d",
        "scrolled": true
      },
      "outputs": [
        {
          "data": {
            "text/html": [
              "<div>\n",
              "<style scoped>\n",
              "    .dataframe tbody tr th:only-of-type {\n",
              "        vertical-align: middle;\n",
              "    }\n",
              "\n",
              "    .dataframe tbody tr th {\n",
              "        vertical-align: top;\n",
              "    }\n",
              "\n",
              "    .dataframe thead th {\n",
              "        text-align: right;\n",
              "    }\n",
              "</style>\n",
              "<table border=\"1\" class=\"dataframe\">\n",
              "  <thead>\n",
              "    <tr style=\"text-align: right;\">\n",
              "      <th></th>\n",
              "      <th>Date</th>\n",
              "      <th>Value</th>\n",
              "    </tr>\n",
              "  </thead>\n",
              "  <tbody>\n",
              "    <tr>\n",
              "      <th>0</th>\n",
              "      <td>2021-01-31</td>\n",
              "      <td>261.582</td>\n",
              "    </tr>\n",
              "    <tr>\n",
              "      <th>1</th>\n",
              "      <td>2020-12-31</td>\n",
              "      <td>260.474</td>\n",
              "    </tr>\n",
              "    <tr>\n",
              "      <th>2</th>\n",
              "      <td>2020-11-30</td>\n",
              "      <td>260.229</td>\n",
              "    </tr>\n",
              "    <tr>\n",
              "      <th>3</th>\n",
              "      <td>2020-10-31</td>\n",
              "      <td>260.388</td>\n",
              "    </tr>\n",
              "    <tr>\n",
              "      <th>4</th>\n",
              "      <td>2020-09-30</td>\n",
              "      <td>260.280</td>\n",
              "    </tr>\n",
              "    <tr>\n",
              "      <th>...</th>\n",
              "      <td>...</td>\n",
              "      <td>...</td>\n",
              "    </tr>\n",
              "    <tr>\n",
              "      <th>1292</th>\n",
              "      <td>1913-05-31</td>\n",
              "      <td>9.700</td>\n",
              "    </tr>\n",
              "    <tr>\n",
              "      <th>1293</th>\n",
              "      <td>1913-04-30</td>\n",
              "      <td>9.800</td>\n",
              "    </tr>\n",
              "    <tr>\n",
              "      <th>1294</th>\n",
              "      <td>1913-03-31</td>\n",
              "      <td>9.800</td>\n",
              "    </tr>\n",
              "    <tr>\n",
              "      <th>1295</th>\n",
              "      <td>1913-02-28</td>\n",
              "      <td>9.800</td>\n",
              "    </tr>\n",
              "    <tr>\n",
              "      <th>1296</th>\n",
              "      <td>1913-01-31</td>\n",
              "      <td>9.800</td>\n",
              "    </tr>\n",
              "  </tbody>\n",
              "</table>\n",
              "<p>1297 rows × 2 columns</p>\n",
              "</div>"
            ],
            "text/plain": [
              "            Date    Value\n",
              "0     2021-01-31  261.582\n",
              "1     2020-12-31  260.474\n",
              "2     2020-11-30  260.229\n",
              "3     2020-10-31  260.388\n",
              "4     2020-09-30  260.280\n",
              "...          ...      ...\n",
              "1292  1913-05-31    9.700\n",
              "1293  1913-04-30    9.800\n",
              "1294  1913-03-31    9.800\n",
              "1295  1913-02-28    9.800\n",
              "1296  1913-01-31    9.800\n",
              "\n",
              "[1297 rows x 2 columns]"
            ]
          },
          "execution_count": 669,
          "metadata": {},
          "output_type": "execute_result"
        }
      ],
      "source": [
        "cpi_us = pd.read_csv(path + '/RATEINF-CPI_USA.csv') #aylık degisiyor\n",
        "cpi_us"
      ]
    },
    {
      "cell_type": "code",
      "execution_count": null,
      "metadata": {
        "id": "g0EFzeENhwxn"
      },
      "outputs": [],
      "source": [
        "cpi_us.rename(columns={'Value':'CPI'}, inplace = True)"
      ]
    },
    {
      "cell_type": "code",
      "execution_count": null,
      "metadata": {
        "colab": {
          "base_uri": "https://localhost:8080/"
        },
        "id": "0CmW2rnAhwxn",
        "outputId": "8b7d18e0-c982-4021-b48d-5db244951ae2"
      },
      "outputs": [
        {
          "data": {
            "text/plain": [
              "Date    datetime64[ns]\n",
              "CPI            float64\n",
              "dtype: object"
            ]
          },
          "execution_count": 671,
          "metadata": {},
          "output_type": "execute_result"
        }
      ],
      "source": [
        "cpi_us['Date'] = pd.to_datetime(cpi_us['Date'], format = '%Y-%m-%d') #tarih formatlarini ayni formata getirme\n",
        "cpi_us.dtypes "
      ]
    },
    {
      "cell_type": "code",
      "execution_count": null,
      "metadata": {
        "colab": {
          "base_uri": "https://localhost:8080/"
        },
        "id": "TkTGy9ofhwxn",
        "outputId": "eb911e7b-f74e-4bb2-d2be-e0e4ffade75d"
      },
      "outputs": [
        {
          "data": {
            "text/html": [
              "<div>\n",
              "<style scoped>\n",
              "    .dataframe tbody tr th:only-of-type {\n",
              "        vertical-align: middle;\n",
              "    }\n",
              "\n",
              "    .dataframe tbody tr th {\n",
              "        vertical-align: top;\n",
              "    }\n",
              "\n",
              "    .dataframe thead th {\n",
              "        text-align: right;\n",
              "    }\n",
              "</style>\n",
              "<table border=\"1\" class=\"dataframe\">\n",
              "  <thead>\n",
              "    <tr style=\"text-align: right;\">\n",
              "      <th></th>\n",
              "      <th>Date</th>\n",
              "      <th>CPI</th>\n",
              "    </tr>\n",
              "  </thead>\n",
              "  <tbody>\n",
              "    <tr>\n",
              "      <th>0</th>\n",
              "      <td>2017-06-30</td>\n",
              "      <td>244.955</td>\n",
              "    </tr>\n",
              "    <tr>\n",
              "      <th>1</th>\n",
              "      <td>2017-05-31</td>\n",
              "      <td>244.733</td>\n",
              "    </tr>\n",
              "    <tr>\n",
              "      <th>2</th>\n",
              "      <td>2017-04-30</td>\n",
              "      <td>244.524</td>\n",
              "    </tr>\n",
              "    <tr>\n",
              "      <th>3</th>\n",
              "      <td>2017-03-31</td>\n",
              "      <td>243.801</td>\n",
              "    </tr>\n",
              "    <tr>\n",
              "      <th>4</th>\n",
              "      <td>2017-02-28</td>\n",
              "      <td>243.603</td>\n",
              "    </tr>\n",
              "    <tr>\n",
              "      <th>...</th>\n",
              "      <td>...</td>\n",
              "      <td>...</td>\n",
              "    </tr>\n",
              "    <tr>\n",
              "      <th>373</th>\n",
              "      <td>1986-05-31</td>\n",
              "      <td>108.900</td>\n",
              "    </tr>\n",
              "    <tr>\n",
              "      <th>374</th>\n",
              "      <td>1986-04-30</td>\n",
              "      <td>108.600</td>\n",
              "    </tr>\n",
              "    <tr>\n",
              "      <th>375</th>\n",
              "      <td>1986-03-31</td>\n",
              "      <td>108.800</td>\n",
              "    </tr>\n",
              "    <tr>\n",
              "      <th>376</th>\n",
              "      <td>1986-02-28</td>\n",
              "      <td>109.300</td>\n",
              "    </tr>\n",
              "    <tr>\n",
              "      <th>377</th>\n",
              "      <td>1986-01-31</td>\n",
              "      <td>109.600</td>\n",
              "    </tr>\n",
              "  </tbody>\n",
              "</table>\n",
              "<p>378 rows × 2 columns</p>\n",
              "</div>"
            ],
            "text/plain": [
              "          Date      CPI\n",
              "0   2017-06-30  244.955\n",
              "1   2017-05-31  244.733\n",
              "2   2017-04-30  244.524\n",
              "3   2017-03-31  243.801\n",
              "4   2017-02-28  243.603\n",
              "..         ...      ...\n",
              "373 1986-05-31  108.900\n",
              "374 1986-04-30  108.600\n",
              "375 1986-03-31  108.800\n",
              "376 1986-02-28  109.300\n",
              "377 1986-01-31  109.600\n",
              "\n",
              "[378 rows x 2 columns]"
            ]
          },
          "execution_count": 672,
          "metadata": {},
          "output_type": "execute_result"
        }
      ],
      "source": [
        "cpi_us = data_filter_by_time(cpi_us)\n",
        "cpi_us"
      ]
    },
    {
      "cell_type": "code",
      "execution_count": null,
      "metadata": {
        "colab": {
          "base_uri": "https://localhost:8080/"
        },
        "id": "pDHj8JZ_hwxo",
        "outputId": "e9991f6b-2b65-494e-a080-cc5be44182e4"
      },
      "outputs": [
        {
          "data": {
            "text/plain": [
              "<matplotlib.collections.PathCollection at 0x7f85326f1d50>"
            ]
          },
          "execution_count": 673,
          "metadata": {},
          "output_type": "execute_result"
        },
        {
          "data": {
            "image/png": "[encoded data removed]",
            "text/plain": [
              "<Figure size 1080x360 with 1 Axes>"
            ]
          },
          "metadata": {
            "needs_background": "light"
          },
          "output_type": "display_data"
        }
      ],
      "source": [
        "plt.figure(figsize=(15,5))\n",
        "plt.title('CPI')\n",
        "plt.scatter(x=\"Date\", y = \"CPI\", data = cpi_us)"
      ]
    },
    {
      "cell_type": "code",
      "execution_count": null,
      "metadata": {
        "colab": {
          "base_uri": "https://localhost:8080/"
        },
        "id": "u73ov5OEhwxo",
        "outputId": "cf28c19f-08ee-4328-bd98-89b74453c724"
      },
      "outputs": [
        {
          "data": {
            "text/plain": [
              "<matplotlib.axes._subplots.AxesSubplot at 0x7f85326a09d0>"
            ]
          },
          "execution_count": 674,
          "metadata": {},
          "output_type": "execute_result"
        },
        {
          "data": {
            "image/png": "[encoded data removed]",
            "text/plain": [
              "<Figure size 1080x360 with 1 Axes>"
            ]
          },
          "metadata": {
            "needs_background": "light"
          },
          "output_type": "display_data"
        }
      ],
      "source": [
        "plt.figure(figsize=(15,5))\n",
        "plt.title('CPI')\n",
        "sns.lineplot(x=\"Date\", y = \"CPI\", data = cpi_us)"
      ]
    },
    {
      "cell_type": "markdown",
      "metadata": {
        "id": "Z0OygBL3hwxp"
      },
      "source": [
        "# Inflation Ratio of US"
      ]
    },
    {
      "cell_type": "code",
      "execution_count": null,
      "metadata": {
        "id": "XX413S98hwxp"
      },
      "outputs": [],
      "source": [
        "# https://fred.stlouisfed.org/series/FPCPITOTLZGUSA"
      ]
    },
    {
      "cell_type": "code",
      "execution_count": null,
      "metadata": {
        "colab": {
          "base_uri": "https://localhost:8080/"
        },
        "id": "C7f807Gjhwxp",
        "outputId": "7f4adf47-31f0-471b-d390-39acd13d2840"
      },
      "outputs": [
        {
          "data": {
            "text/html": [
              "<div>\n",
              "<style scoped>\n",
              "    .dataframe tbody tr th:only-of-type {\n",
              "        vertical-align: middle;\n",
              "    }\n",
              "\n",
              "    .dataframe tbody tr th {\n",
              "        vertical-align: top;\n",
              "    }\n",
              "\n",
              "    .dataframe thead th {\n",
              "        text-align: right;\n",
              "    }\n",
              "</style>\n",
              "<table border=\"1\" class=\"dataframe\">\n",
              "  <thead>\n",
              "    <tr style=\"text-align: right;\">\n",
              "      <th></th>\n",
              "      <th>DATE</th>\n",
              "      <th>FPCPITOTLZGUSA</th>\n",
              "    </tr>\n",
              "  </thead>\n",
              "  <tbody>\n",
              "    <tr>\n",
              "      <th>0</th>\n",
              "      <td>1960-01-01</td>\n",
              "      <td>1.457976</td>\n",
              "    </tr>\n",
              "    <tr>\n",
              "      <th>1</th>\n",
              "      <td>1961-01-01</td>\n",
              "      <td>1.070724</td>\n",
              "    </tr>\n",
              "    <tr>\n",
              "      <th>2</th>\n",
              "      <td>1962-01-01</td>\n",
              "      <td>1.198773</td>\n",
              "    </tr>\n",
              "    <tr>\n",
              "      <th>3</th>\n",
              "      <td>1963-01-01</td>\n",
              "      <td>1.239669</td>\n",
              "    </tr>\n",
              "    <tr>\n",
              "      <th>4</th>\n",
              "      <td>1964-01-01</td>\n",
              "      <td>1.278912</td>\n",
              "    </tr>\n",
              "    <tr>\n",
              "      <th>...</th>\n",
              "      <td>...</td>\n",
              "      <td>...</td>\n",
              "    </tr>\n",
              "    <tr>\n",
              "      <th>57</th>\n",
              "      <td>2017-01-01</td>\n",
              "      <td>2.130110</td>\n",
              "    </tr>\n",
              "    <tr>\n",
              "      <th>58</th>\n",
              "      <td>2018-01-01</td>\n",
              "      <td>2.442583</td>\n",
              "    </tr>\n",
              "    <tr>\n",
              "      <th>59</th>\n",
              "      <td>2019-01-01</td>\n",
              "      <td>1.812210</td>\n",
              "    </tr>\n",
              "    <tr>\n",
              "      <th>60</th>\n",
              "      <td>2020-01-01</td>\n",
              "      <td>0.620000</td>\n",
              "    </tr>\n",
              "    <tr>\n",
              "      <th>61</th>\n",
              "      <td>2021-01-01</td>\n",
              "      <td>2.240000</td>\n",
              "    </tr>\n",
              "  </tbody>\n",
              "</table>\n",
              "<p>62 rows × 2 columns</p>\n",
              "</div>"
            ],
            "text/plain": [
              "          DATE  FPCPITOTLZGUSA\n",
              "0   1960-01-01        1.457976\n",
              "1   1961-01-01        1.070724\n",
              "2   1962-01-01        1.198773\n",
              "3   1963-01-01        1.239669\n",
              "4   1964-01-01        1.278912\n",
              "..         ...             ...\n",
              "57  2017-01-01        2.130110\n",
              "58  2018-01-01        2.442583\n",
              "59  2019-01-01        1.812210\n",
              "60  2020-01-01        0.620000\n",
              "61  2021-01-01        2.240000\n",
              "\n",
              "[62 rows x 2 columns]"
            ]
          },
          "execution_count": 676,
          "metadata": {},
          "output_type": "execute_result"
        }
      ],
      "source": [
        "inflation_us = pd.read_csv(path + '/inflation_rate_us.csv') #enflasyon(US) verileri mevcut ve yıllık değişiyor\n",
        "inflation_us"
      ]
    },
    {
      "cell_type": "code",
      "execution_count": null,
      "metadata": {
        "id": "g3N3EiEchwxq"
      },
      "outputs": [],
      "source": [
        "inflation_us.rename(columns={'DATE':'Date', 'FPCPITOTLZGUSA' : 'Inflation_Rate'}, inplace = True)"
      ]
    },
    {
      "cell_type": "code",
      "execution_count": null,
      "metadata": {
        "colab": {
          "base_uri": "https://localhost:8080/"
        },
        "id": "dz7LPpGAhwxq",
        "outputId": "a634173b-7259-4b0d-cb14-27eeb526e3d8"
      },
      "outputs": [
        {
          "data": {
            "text/plain": [
              "Date              datetime64[ns]\n",
              "Inflation_Rate           float64\n",
              "dtype: object"
            ]
          },
          "execution_count": 678,
          "metadata": {},
          "output_type": "execute_result"
        }
      ],
      "source": [
        "inflation_us['Date'] = pd.to_datetime(inflation_us['Date'], format = '%Y-%m-%d') #tarih formatlarini ayni formata getirme\n",
        "inflation_us.dtypes"
      ]
    },
    {
      "cell_type": "code",
      "execution_count": null,
      "metadata": {
        "id": "EAOvEadUhwxq"
      },
      "outputs": [],
      "source": [
        "inflation_us = data_sorter(inflation_us)"
      ]
    },
    {
      "cell_type": "code",
      "execution_count": null,
      "metadata": {
        "id": "bu_MwAoghwxq"
      },
      "outputs": [],
      "source": [
        "inflation_us = data_filter_by_time(inflation_us)"
      ]
    },
    {
      "cell_type": "code",
      "execution_count": null,
      "metadata": {
        "colab": {
          "base_uri": "https://localhost:8080/"
        },
        "id": "bMqQ0fjIhwxr",
        "outputId": "e0e4bc51-64ec-4cc8-ea0a-12e2ee1f8a32"
      },
      "outputs": [
        {
          "data": {
            "text/html": [
              "<div>\n",
              "<style scoped>\n",
              "    .dataframe tbody tr th:only-of-type {\n",
              "        vertical-align: middle;\n",
              "    }\n",
              "\n",
              "    .dataframe tbody tr th {\n",
              "        vertical-align: top;\n",
              "    }\n",
              "\n",
              "    .dataframe thead th {\n",
              "        text-align: right;\n",
              "    }\n",
              "</style>\n",
              "<table border=\"1\" class=\"dataframe\">\n",
              "  <thead>\n",
              "    <tr style=\"text-align: right;\">\n",
              "      <th></th>\n",
              "      <th>Date</th>\n",
              "      <th>Inflation_Rate</th>\n",
              "    </tr>\n",
              "  </thead>\n",
              "  <tbody>\n",
              "    <tr>\n",
              "      <th>0</th>\n",
              "      <td>2017-01-01</td>\n",
              "      <td>2.130110</td>\n",
              "    </tr>\n",
              "    <tr>\n",
              "      <th>1</th>\n",
              "      <td>2016-01-01</td>\n",
              "      <td>1.261583</td>\n",
              "    </tr>\n",
              "    <tr>\n",
              "      <th>2</th>\n",
              "      <td>2015-01-01</td>\n",
              "      <td>0.118627</td>\n",
              "    </tr>\n",
              "    <tr>\n",
              "      <th>3</th>\n",
              "      <td>2014-01-01</td>\n",
              "      <td>1.622223</td>\n",
              "    </tr>\n",
              "    <tr>\n",
              "      <th>4</th>\n",
              "      <td>2013-01-01</td>\n",
              "      <td>1.464833</td>\n",
              "    </tr>\n",
              "    <tr>\n",
              "      <th>5</th>\n",
              "      <td>2012-01-01</td>\n",
              "      <td>2.069337</td>\n",
              "    </tr>\n",
              "    <tr>\n",
              "      <th>6</th>\n",
              "      <td>2011-01-01</td>\n",
              "      <td>3.156842</td>\n",
              "    </tr>\n",
              "    <tr>\n",
              "      <th>7</th>\n",
              "      <td>2010-01-01</td>\n",
              "      <td>1.640043</td>\n",
              "    </tr>\n",
              "    <tr>\n",
              "      <th>8</th>\n",
              "      <td>2009-01-01</td>\n",
              "      <td>-0.355546</td>\n",
              "    </tr>\n",
              "    <tr>\n",
              "      <th>9</th>\n",
              "      <td>2008-01-01</td>\n",
              "      <td>3.839100</td>\n",
              "    </tr>\n",
              "  </tbody>\n",
              "</table>\n",
              "</div>"
            ],
            "text/plain": [
              "        Date  Inflation_Rate\n",
              "0 2017-01-01        2.130110\n",
              "1 2016-01-01        1.261583\n",
              "2 2015-01-01        0.118627\n",
              "3 2014-01-01        1.622223\n",
              "4 2013-01-01        1.464833\n",
              "5 2012-01-01        2.069337\n",
              "6 2011-01-01        3.156842\n",
              "7 2010-01-01        1.640043\n",
              "8 2009-01-01       -0.355546\n",
              "9 2008-01-01        3.839100"
            ]
          },
          "execution_count": 681,
          "metadata": {},
          "output_type": "execute_result"
        }
      ],
      "source": [
        "inflation_us.head(10)"
      ]
    },
    {
      "cell_type": "code",
      "execution_count": null,
      "metadata": {
        "colab": {
          "base_uri": "https://localhost:8080/"
        },
        "id": "pijMCZl5hwxr",
        "outputId": "5d4bcade-9a8c-4c47-8bb0-6e36ff29a2ff"
      },
      "outputs": [
        {
          "data": {
            "text/plain": [
              "<matplotlib.collections.PathCollection at 0x7f8532666e90>"
            ]
          },
          "execution_count": 682,
          "metadata": {},
          "output_type": "execute_result"
        },
        {
          "data": {
            "image/png": "[encoded data removed]",
            "text/plain": [
              "<Figure size 1080x360 with 1 Axes>"
            ]
          },
          "metadata": {
            "needs_background": "light"
          },
          "output_type": "display_data"
        }
      ],
      "source": [
        "plt.figure(figsize=(15,5))\n",
        "plt.title('Inflation Rate')\n",
        "plt.scatter(x=\"Date\", y = \"Inflation_Rate\", data = inflation_us)"
      ]
    },
    {
      "cell_type": "code",
      "execution_count": null,
      "metadata": {
        "colab": {
          "base_uri": "https://localhost:8080/"
        },
        "id": "nVrXxHGLhwxr",
        "outputId": "0ee7cf15-fce2-4445-d18b-9cc38708cab0"
      },
      "outputs": [
        {
          "data": {
            "text/plain": [
              "<matplotlib.axes._subplots.AxesSubplot at 0x7f8532532710>"
            ]
          },
          "execution_count": 683,
          "metadata": {},
          "output_type": "execute_result"
        },
        {
          "data": {
            "image/png": "[encoded data removed]",
            "text/plain": [
              "<Figure size 1080x360 with 1 Axes>"
            ]
          },
          "metadata": {
            "needs_background": "light"
          },
          "output_type": "display_data"
        }
      ],
      "source": [
        "plt.figure(figsize=(15,5))\n",
        "plt.title('Inflation Rate')\n",
        "sns.lineplot(x=\"Date\", y = \"Inflation_Rate\", data = inflation_us)"
      ]
    },
    {
      "cell_type": "markdown",
      "metadata": {
        "id": "k7nURh6xhwxs"
      },
      "source": [
        "# IXIC - NASDAQ"
      ]
    },
    {
      "cell_type": "code",
      "execution_count": null,
      "metadata": {
        "colab": {
          "base_uri": "https://localhost:8080/"
        },
        "id": "tzK5Om6xhwxs",
        "outputId": "139fb2b4-e7b1-4b5a-9827-512eb3fea342"
      },
      "outputs": [
        {
          "data": {
            "text/html": [
              "<div>\n",
              "<style scoped>\n",
              "    .dataframe tbody tr th:only-of-type {\n",
              "        vertical-align: middle;\n",
              "    }\n",
              "\n",
              "    .dataframe tbody tr th {\n",
              "        vertical-align: top;\n",
              "    }\n",
              "\n",
              "    .dataframe thead th {\n",
              "        text-align: right;\n",
              "    }\n",
              "</style>\n",
              "<table border=\"1\" class=\"dataframe\">\n",
              "  <thead>\n",
              "    <tr style=\"text-align: right;\">\n",
              "      <th></th>\n",
              "      <th>Date</th>\n",
              "      <th>Open</th>\n",
              "      <th>High</th>\n",
              "      <th>Low</th>\n",
              "      <th>Close</th>\n",
              "      <th>Adj Close</th>\n",
              "      <th>Volume</th>\n",
              "    </tr>\n",
              "  </thead>\n",
              "  <tbody>\n",
              "    <tr>\n",
              "      <th>0</th>\n",
              "      <td>1971-02-05</td>\n",
              "      <td>100.000000</td>\n",
              "      <td>100.000000</td>\n",
              "      <td>100.000000</td>\n",
              "      <td>100.000000</td>\n",
              "      <td>100.000000</td>\n",
              "      <td>0</td>\n",
              "    </tr>\n",
              "    <tr>\n",
              "      <th>1</th>\n",
              "      <td>1971-02-08</td>\n",
              "      <td>100.839996</td>\n",
              "      <td>100.839996</td>\n",
              "      <td>100.839996</td>\n",
              "      <td>100.839996</td>\n",
              "      <td>100.839996</td>\n",
              "      <td>0</td>\n",
              "    </tr>\n",
              "    <tr>\n",
              "      <th>2</th>\n",
              "      <td>1971-02-09</td>\n",
              "      <td>100.760002</td>\n",
              "      <td>100.760002</td>\n",
              "      <td>100.760002</td>\n",
              "      <td>100.760002</td>\n",
              "      <td>100.760002</td>\n",
              "      <td>0</td>\n",
              "    </tr>\n",
              "    <tr>\n",
              "      <th>3</th>\n",
              "      <td>1971-02-10</td>\n",
              "      <td>100.690002</td>\n",
              "      <td>100.690002</td>\n",
              "      <td>100.690002</td>\n",
              "      <td>100.690002</td>\n",
              "      <td>100.690002</td>\n",
              "      <td>0</td>\n",
              "    </tr>\n",
              "    <tr>\n",
              "      <th>4</th>\n",
              "      <td>1971-02-11</td>\n",
              "      <td>101.449997</td>\n",
              "      <td>101.449997</td>\n",
              "      <td>101.449997</td>\n",
              "      <td>101.449997</td>\n",
              "      <td>101.449997</td>\n",
              "      <td>0</td>\n",
              "    </tr>\n",
              "    <tr>\n",
              "      <th>...</th>\n",
              "      <td>...</td>\n",
              "      <td>...</td>\n",
              "      <td>...</td>\n",
              "      <td>...</td>\n",
              "      <td>...</td>\n",
              "      <td>...</td>\n",
              "      <td>...</td>\n",
              "    </tr>\n",
              "    <tr>\n",
              "      <th>12719</th>\n",
              "      <td>2021-07-13</td>\n",
              "      <td>14715.129883</td>\n",
              "      <td>14803.679688</td>\n",
              "      <td>14660.190430</td>\n",
              "      <td>14677.650391</td>\n",
              "      <td>14677.650391</td>\n",
              "      <td>4553380000</td>\n",
              "    </tr>\n",
              "    <tr>\n",
              "      <th>12720</th>\n",
              "      <td>2021-07-14</td>\n",
              "      <td>14780.900391</td>\n",
              "      <td>14790.549805</td>\n",
              "      <td>14632.950195</td>\n",
              "      <td>14644.950195</td>\n",
              "      <td>14644.950195</td>\n",
              "      <td>4461730000</td>\n",
              "    </tr>\n",
              "    <tr>\n",
              "      <th>12721</th>\n",
              "      <td>2021-07-15</td>\n",
              "      <td>14635.780273</td>\n",
              "      <td>14650.370117</td>\n",
              "      <td>14451.799805</td>\n",
              "      <td>14543.129883</td>\n",
              "      <td>14543.129883</td>\n",
              "      <td>4493540000</td>\n",
              "    </tr>\n",
              "    <tr>\n",
              "      <th>12722</th>\n",
              "      <td>2021-07-16</td>\n",
              "      <td>14597.509766</td>\n",
              "      <td>14623.019531</td>\n",
              "      <td>14413.320313</td>\n",
              "      <td>14427.240234</td>\n",
              "      <td>14427.240234</td>\n",
              "      <td>4048940000</td>\n",
              "    </tr>\n",
              "    <tr>\n",
              "      <th>12723</th>\n",
              "      <td>2021-07-19</td>\n",
              "      <td>14235.980469</td>\n",
              "      <td>14313.599609</td>\n",
              "      <td>14178.660156</td>\n",
              "      <td>14274.980469</td>\n",
              "      <td>14274.980469</td>\n",
              "      <td>4507040000</td>\n",
              "    </tr>\n",
              "  </tbody>\n",
              "</table>\n",
              "<p>12724 rows × 7 columns</p>\n",
              "</div>"
            ],
            "text/plain": [
              "             Date          Open  ...     Adj Close      Volume\n",
              "0      1971-02-05    100.000000  ...    100.000000           0\n",
              "1      1971-02-08    100.839996  ...    100.839996           0\n",
              "2      1971-02-09    100.760002  ...    100.760002           0\n",
              "3      1971-02-10    100.690002  ...    100.690002           0\n",
              "4      1971-02-11    101.449997  ...    101.449997           0\n",
              "...           ...           ...  ...           ...         ...\n",
              "12719  2021-07-13  14715.129883  ...  14677.650391  4553380000\n",
              "12720  2021-07-14  14780.900391  ...  14644.950195  4461730000\n",
              "12721  2021-07-15  14635.780273  ...  14543.129883  4493540000\n",
              "12722  2021-07-16  14597.509766  ...  14427.240234  4048940000\n",
              "12723  2021-07-19  14235.980469  ...  14274.980469  4507040000\n",
              "\n",
              "[12724 rows x 7 columns]"
            ]
          },
          "execution_count": 684,
          "metadata": {},
          "output_type": "execute_result"
        }
      ],
      "source": [
        "nasdaq_all = pd.read_csv(path + '/IXIC_402.csv') #yahoo finance 'den elde edildi (date range: max : 1971-2021)\n",
        "#nasdaq = pd.read_csv(path + '/AAL.csv') #yahoo finance 'den elde edildi \n",
        "nasdaq_all"
      ]
    },
    {
      "cell_type": "code",
      "execution_count": null,
      "metadata": {
        "colab": {
          "base_uri": "https://localhost:8080/"
        },
        "id": "ttXhSnSfhwxs",
        "outputId": "996f92a0-3d8c-498c-fca6-e659c6338255"
      },
      "outputs": [
        {
          "data": {
            "text/plain": [
              "Date      datetime64[ns]\n",
              "Close            float64\n",
              "Volume             int64\n",
              "dtype: object"
            ]
          },
          "execution_count": 685,
          "metadata": {},
          "output_type": "execute_result"
        }
      ],
      "source": [
        "nasdaq = nasdaq_all\n",
        "nasdaq.drop([\"Open\", \"High\", \"Low\", \"Adj Close\"], axis = 1, inplace = True)  #fiyat bilgisi icin \"Close\" kullanildi\n",
        "\n",
        "nasdaq['Date'] = pd.to_datetime(nasdaq['Date'], format = '%Y-%m-%d') #tarih formatlarini ayni formata getirme\n",
        "nasdaq.dtypes"
      ]
    },
    {
      "cell_type": "code",
      "execution_count": null,
      "metadata": {
        "id": "C9WklWhxhwxt"
      },
      "outputs": [],
      "source": [
        "nasdaq = data_sorter(nasdaq)"
      ]
    },
    {
      "cell_type": "code",
      "execution_count": null,
      "metadata": {
        "id": "nMX3RmBkhwxt"
      },
      "outputs": [],
      "source": [
        "nasdaq = data_filter_by_time(nasdaq)"
      ]
    },
    {
      "cell_type": "code",
      "execution_count": null,
      "metadata": {
        "colab": {
          "base_uri": "https://localhost:8080/"
        },
        "id": "eEjpzDIEhwxt",
        "outputId": "a6fa0df8-51ac-4a53-d595-d3763e766265"
      },
      "outputs": [
        {
          "data": {
            "text/html": [
              "<div>\n",
              "<style scoped>\n",
              "    .dataframe tbody tr th:only-of-type {\n",
              "        vertical-align: middle;\n",
              "    }\n",
              "\n",
              "    .dataframe tbody tr th {\n",
              "        vertical-align: top;\n",
              "    }\n",
              "\n",
              "    .dataframe thead th {\n",
              "        text-align: right;\n",
              "    }\n",
              "</style>\n",
              "<table border=\"1\" class=\"dataframe\">\n",
              "  <thead>\n",
              "    <tr style=\"text-align: right;\">\n",
              "      <th></th>\n",
              "      <th>Date</th>\n",
              "      <th>Close</th>\n",
              "      <th>Volume</th>\n",
              "    </tr>\n",
              "  </thead>\n",
              "  <tbody>\n",
              "    <tr>\n",
              "      <th>0</th>\n",
              "      <td>2017-07-14</td>\n",
              "      <td>6312.470215</td>\n",
              "      <td>1608120000</td>\n",
              "    </tr>\n",
              "    <tr>\n",
              "      <th>1</th>\n",
              "      <td>2017-07-13</td>\n",
              "      <td>6274.439941</td>\n",
              "      <td>1803810000</td>\n",
              "    </tr>\n",
              "    <tr>\n",
              "      <th>2</th>\n",
              "      <td>2017-07-12</td>\n",
              "      <td>6261.169922</td>\n",
              "      <td>1820550000</td>\n",
              "    </tr>\n",
              "    <tr>\n",
              "      <th>3</th>\n",
              "      <td>2017-07-11</td>\n",
              "      <td>6193.299805</td>\n",
              "      <td>1808110000</td>\n",
              "    </tr>\n",
              "    <tr>\n",
              "      <th>4</th>\n",
              "      <td>2017-07-10</td>\n",
              "      <td>6176.390137</td>\n",
              "      <td>1675470000</td>\n",
              "    </tr>\n",
              "    <tr>\n",
              "      <th>...</th>\n",
              "      <td>...</td>\n",
              "      <td>...</td>\n",
              "      <td>...</td>\n",
              "    </tr>\n",
              "    <tr>\n",
              "      <th>7945</th>\n",
              "      <td>1986-01-08</td>\n",
              "      <td>328.100006</td>\n",
              "      <td>140000000</td>\n",
              "    </tr>\n",
              "    <tr>\n",
              "      <th>7946</th>\n",
              "      <td>1986-01-07</td>\n",
              "      <td>329.700012</td>\n",
              "      <td>127500000</td>\n",
              "    </tr>\n",
              "    <tr>\n",
              "      <th>7947</th>\n",
              "      <td>1986-01-06</td>\n",
              "      <td>326.000000</td>\n",
              "      <td>99240000</td>\n",
              "    </tr>\n",
              "    <tr>\n",
              "      <th>7948</th>\n",
              "      <td>1986-01-03</td>\n",
              "      <td>325.700012</td>\n",
              "      <td>89180000</td>\n",
              "    </tr>\n",
              "    <tr>\n",
              "      <th>7949</th>\n",
              "      <td>1986-01-02</td>\n",
              "      <td>325.000000</td>\n",
              "      <td>75810000</td>\n",
              "    </tr>\n",
              "  </tbody>\n",
              "</table>\n",
              "<p>7950 rows × 3 columns</p>\n",
              "</div>"
            ],
            "text/plain": [
              "           Date        Close      Volume\n",
              "0    2017-07-14  6312.470215  1608120000\n",
              "1    2017-07-13  6274.439941  1803810000\n",
              "2    2017-07-12  6261.169922  1820550000\n",
              "3    2017-07-11  6193.299805  1808110000\n",
              "4    2017-07-10  6176.390137  1675470000\n",
              "...         ...          ...         ...\n",
              "7945 1986-01-08   328.100006   140000000\n",
              "7946 1986-01-07   329.700012   127500000\n",
              "7947 1986-01-06   326.000000    99240000\n",
              "7948 1986-01-03   325.700012    89180000\n",
              "7949 1986-01-02   325.000000    75810000\n",
              "\n",
              "[7950 rows x 3 columns]"
            ]
          },
          "execution_count": 688,
          "metadata": {},
          "output_type": "execute_result"
        }
      ],
      "source": [
        "nasdaq"
      ]
    },
    {
      "cell_type": "code",
      "execution_count": null,
      "metadata": {
        "colab": {
          "base_uri": "https://localhost:8080/"
        },
        "id": "HIpf7Fxjhwxu",
        "outputId": "4431513f-c71d-427b-bcda-27b3cfaa2ad7",
        "scrolled": true
      },
      "outputs": [
        {
          "data": {
            "text/plain": [
              "<matplotlib.collections.PathCollection at 0x7f8532559b10>"
            ]
          },
          "execution_count": 689,
          "metadata": {},
          "output_type": "execute_result"
        },
        {
          "data": {
            "image/png": "[encoded data removed]",
            "text/plain": [
              "<Figure size 1080x360 with 1 Axes>"
            ]
          },
          "metadata": {
            "needs_background": "light"
          },
          "output_type": "display_data"
        }
      ],
      "source": [
        "plt.figure(figsize=(15,5))\n",
        "plt.title('Close($)')\n",
        "plt.scatter(x=\"Date\", y=\"Close\", data = nasdaq)"
      ]
    },
    {
      "cell_type": "code",
      "execution_count": null,
      "metadata": {
        "colab": {
          "base_uri": "https://localhost:8080/"
        },
        "id": "YVz-cg4Qhwxu",
        "outputId": "d64602e9-dcbc-49d8-ac3c-ea03e0914072"
      },
      "outputs": [
        {
          "data": {
            "text/plain": [
              "<matplotlib.axes._subplots.AxesSubplot at 0x7f8532487e50>"
            ]
          },
          "execution_count": 690,
          "metadata": {},
          "output_type": "execute_result"
        },
        {
          "data": {
            "image/png": "[encoded data removed]",
            "text/plain": [
              "<Figure size 1080x360 with 1 Axes>"
            ]
          },
          "metadata": {
            "needs_background": "light"
          },
          "output_type": "display_data"
        }
      ],
      "source": [
        "plt.figure(figsize=(15,5))\n",
        "plt.title('Close($)')\n",
        "sns.lineplot(x=\"Date\", y=\"Close\", data = nasdaq)"
      ]
    },
    {
      "cell_type": "code",
      "execution_count": null,
      "metadata": {
        "colab": {
          "base_uri": "https://localhost:8080/"
        },
        "id": "IVSFNhVqpQlb",
        "outputId": "b72198a0-fd5f-4f2a-cd8d-c5cfdceb5b35"
      },
      "outputs": [
        {
          "data": {
            "text/plain": [
              "<matplotlib.axes._subplots.AxesSubplot at 0x7f8532487410>"
            ]
          },
          "execution_count": 691,
          "metadata": {},
          "output_type": "execute_result"
        },
        {
          "data": {
            "image/png": "[encoded data removed]",
            "text/plain": [
              "<Figure size 1080x360 with 1 Axes>"
            ]
          },
          "metadata": {
            "needs_background": "light"
          },
          "output_type": "display_data"
        }
      ],
      "source": [
        "plt.figure(figsize=(15,5))\n",
        "plt.title('Volume($)')\n",
        "sns.lineplot(x=\"Date\", y=\"Volume\", data = nasdaq)"
      ]
    },
    {
      "cell_type": "code",
      "execution_count": null,
      "metadata": {
        "colab": {
          "base_uri": "https://localhost:8080/"
        },
        "id": "D1OxcM5Lhwxu",
        "outputId": "0a3b6926-fb40-4842-bc2e-08c9f9892586"
      },
      "outputs": [
        {
          "name": "stdout",
          "output_type": "stream",
          "text": [
            "<class 'pandas.core.frame.DataFrame'>\n",
            "RangeIndex: 7950 entries, 0 to 7949\n",
            "Data columns (total 3 columns):\n",
            " #   Column  Non-Null Count  Dtype         \n",
            "---  ------  --------------  -----         \n",
            " 0   Date    7950 non-null   datetime64[ns]\n",
            " 1   Close   7950 non-null   float64       \n",
            " 2   Volume  7950 non-null   int64         \n",
            "dtypes: datetime64[ns](1), float64(1), int64(1)\n",
            "memory usage: 186.5 KB\n"
          ]
        }
      ],
      "source": [
        "nasdaq.info()"
      ]
    },
    {
      "cell_type": "code",
      "execution_count": null,
      "metadata": {
        "colab": {
          "base_uri": "https://localhost:8080/"
        },
        "id": "PVgqCLwohwxv",
        "outputId": "701364f9-455e-45eb-f4b0-9c46f3939e1a"
      },
      "outputs": [
        {
          "data": {
            "text/html": [
              "<div>\n",
              "<style scoped>\n",
              "    .dataframe tbody tr th:only-of-type {\n",
              "        vertical-align: middle;\n",
              "    }\n",
              "\n",
              "    .dataframe tbody tr th {\n",
              "        vertical-align: top;\n",
              "    }\n",
              "\n",
              "    .dataframe thead th {\n",
              "        text-align: right;\n",
              "    }\n",
              "</style>\n",
              "<table border=\"1\" class=\"dataframe\">\n",
              "  <thead>\n",
              "    <tr style=\"text-align: right;\">\n",
              "      <th></th>\n",
              "      <th>Close</th>\n",
              "      <th>Volume</th>\n",
              "    </tr>\n",
              "  </thead>\n",
              "  <tbody>\n",
              "    <tr>\n",
              "      <th>count</th>\n",
              "      <td>7950.000000</td>\n",
              "      <td>7.950000e+03</td>\n",
              "    </tr>\n",
              "    <tr>\n",
              "      <th>mean</th>\n",
              "      <td>2013.939792</td>\n",
              "      <td>1.212732e+09</td>\n",
              "    </tr>\n",
              "    <tr>\n",
              "      <th>std</th>\n",
              "      <td>1421.590595</td>\n",
              "      <td>8.460065e+08</td>\n",
              "    </tr>\n",
              "    <tr>\n",
              "      <th>min</th>\n",
              "      <td>291.899994</td>\n",
              "      <td>4.404000e+07</td>\n",
              "    </tr>\n",
              "    <tr>\n",
              "      <th>25%</th>\n",
              "      <td>727.529984</td>\n",
              "      <td>2.700425e+08</td>\n",
              "    </tr>\n",
              "    <tr>\n",
              "      <th>50%</th>\n",
              "      <td>1894.525024</td>\n",
              "      <td>1.476165e+09</td>\n",
              "    </tr>\n",
              "    <tr>\n",
              "      <th>75%</th>\n",
              "      <td>2649.560059</td>\n",
              "      <td>1.902535e+09</td>\n",
              "    </tr>\n",
              "    <tr>\n",
              "      <th>max</th>\n",
              "      <td>6321.759766</td>\n",
              "      <td>4.553600e+09</td>\n",
              "    </tr>\n",
              "  </tbody>\n",
              "</table>\n",
              "</div>"
            ],
            "text/plain": [
              "             Close        Volume\n",
              "count  7950.000000  7.950000e+03\n",
              "mean   2013.939792  1.212732e+09\n",
              "std    1421.590595  8.460065e+08\n",
              "min     291.899994  4.404000e+07\n",
              "25%     727.529984  2.700425e+08\n",
              "50%    1894.525024  1.476165e+09\n",
              "75%    2649.560059  1.902535e+09\n",
              "max    6321.759766  4.553600e+09"
            ]
          },
          "execution_count": 693,
          "metadata": {},
          "output_type": "execute_result"
        }
      ],
      "source": [
        "nasdaq.describe()"
      ]
    },
    {
      "cell_type": "code",
      "execution_count": null,
      "metadata": {
        "colab": {
          "base_uri": "https://localhost:8080/"
        },
        "id": "V23EunGNhwxv",
        "outputId": "8de2447e-b4ed-446f-8942-254e8353bcff"
      },
      "outputs": [
        {
          "data": {
            "text/plain": [
              "Date      False\n",
              "Close     False\n",
              "Volume    False\n",
              "dtype: bool"
            ]
          },
          "execution_count": 694,
          "metadata": {},
          "output_type": "execute_result"
        }
      ],
      "source": [
        "nasdaq.isnull().any()"
      ]
    },
    {
      "cell_type": "code",
      "execution_count": null,
      "metadata": {
        "id": "AgwoHaKMhwxv"
      },
      "outputs": [],
      "source": []
    },
    {
      "cell_type": "markdown",
      "metadata": {
        "id": "Ag4hsXgahwxv"
      },
      "source": [
        "# Concetination of DataFrames"
      ]
    },
    {
      "cell_type": "code",
      "execution_count": null,
      "metadata": {
        "id": "TCBfaS2Chwxw"
      },
      "outputs": [],
      "source": [
        "#“Merging” two datasets is the process of bringing two datasets together into one\n",
        "# outer: use union of keys from both frames,\n",
        "\n",
        "all_data = pd.merge(nasdaq, fedfunds, how =\"outer\", on=[\"Date\"]) \n",
        "all_data = pd.merge(all_data, xau_usd_v2, how =\"outer\", on=[\"Date\"])\n",
        "all_data = pd.merge(all_data, gdp_us, how =\"outer\", on=[\"Date\"])\n",
        "all_data = pd.merge(all_data, cpi_us, how =\"outer\", on=[\"Date\"])\n",
        "all_data = pd.merge(all_data, inflation_us, how=\"outer\", on=[\"Date\"])"
      ]
    },
    {
      "cell_type": "code",
      "execution_count": null,
      "metadata": {
        "id": "DdgASfCohwxw",
        "scrolled": true
      },
      "outputs": [],
      "source": [
        "all_data = all_data.sort_values(by='Date')\n",
        "#all_data = data_sorter(all_data)\n",
        "all_data = data_filter_by_time(all_data)"
      ]
    },
    {
      "cell_type": "code",
      "execution_count": null,
      "metadata": {
        "colab": {
          "base_uri": "https://localhost:8080/"
        },
        "id": "94shRpBZhwxw",
        "outputId": "e318646a-4fda-4b7b-e845-dd5714aa248c",
        "scrolled": true
      },
      "outputs": [
        {
          "data": {
            "text/html": [
              "<div>\n",
              "<style scoped>\n",
              "    .dataframe tbody tr th:only-of-type {\n",
              "        vertical-align: middle;\n",
              "    }\n",
              "\n",
              "    .dataframe tbody tr th {\n",
              "        vertical-align: top;\n",
              "    }\n",
              "\n",
              "    .dataframe thead th {\n",
              "        text-align: right;\n",
              "    }\n",
              "</style>\n",
              "<table border=\"1\" class=\"dataframe\">\n",
              "  <thead>\n",
              "    <tr style=\"text-align: right;\">\n",
              "      <th></th>\n",
              "      <th>Date</th>\n",
              "      <th>Close</th>\n",
              "      <th>Volume</th>\n",
              "      <th>fedfunds</th>\n",
              "      <th>xau_usd</th>\n",
              "      <th>GDP</th>\n",
              "      <th>CPI</th>\n",
              "      <th>Inflation_Rate</th>\n",
              "    </tr>\n",
              "  </thead>\n",
              "  <tbody>\n",
              "    <tr>\n",
              "      <th>0</th>\n",
              "      <td>1986-01-01</td>\n",
              "      <td>NaN</td>\n",
              "      <td>NaN</td>\n",
              "      <td>8.14</td>\n",
              "      <td>NaN</td>\n",
              "      <td>NaN</td>\n",
              "      <td>NaN</td>\n",
              "      <td>1.898048</td>\n",
              "    </tr>\n",
              "    <tr>\n",
              "      <th>1</th>\n",
              "      <td>1986-01-02</td>\n",
              "      <td>325.000000</td>\n",
              "      <td>7.581000e+07</td>\n",
              "      <td>NaN</td>\n",
              "      <td>328.90</td>\n",
              "      <td>NaN</td>\n",
              "      <td>NaN</td>\n",
              "      <td>NaN</td>\n",
              "    </tr>\n",
              "    <tr>\n",
              "      <th>2</th>\n",
              "      <td>1986-01-03</td>\n",
              "      <td>325.700012</td>\n",
              "      <td>8.918000e+07</td>\n",
              "      <td>NaN</td>\n",
              "      <td>330.00</td>\n",
              "      <td>NaN</td>\n",
              "      <td>NaN</td>\n",
              "      <td>NaN</td>\n",
              "    </tr>\n",
              "    <tr>\n",
              "      <th>3</th>\n",
              "      <td>1986-01-06</td>\n",
              "      <td>326.000000</td>\n",
              "      <td>9.924000e+07</td>\n",
              "      <td>NaN</td>\n",
              "      <td>330.70</td>\n",
              "      <td>NaN</td>\n",
              "      <td>NaN</td>\n",
              "      <td>NaN</td>\n",
              "    </tr>\n",
              "    <tr>\n",
              "      <th>4</th>\n",
              "      <td>1986-01-07</td>\n",
              "      <td>329.700012</td>\n",
              "      <td>1.275000e+08</td>\n",
              "      <td>NaN</td>\n",
              "      <td>332.80</td>\n",
              "      <td>NaN</td>\n",
              "      <td>NaN</td>\n",
              "      <td>NaN</td>\n",
              "    </tr>\n",
              "    <tr>\n",
              "      <th>...</th>\n",
              "      <td>...</td>\n",
              "      <td>...</td>\n",
              "      <td>...</td>\n",
              "      <td>...</td>\n",
              "      <td>...</td>\n",
              "      <td>...</td>\n",
              "      <td>...</td>\n",
              "      <td>...</td>\n",
              "    </tr>\n",
              "    <tr>\n",
              "      <th>8352</th>\n",
              "      <td>2017-07-10</td>\n",
              "      <td>6176.390137</td>\n",
              "      <td>1.675470e+09</td>\n",
              "      <td>NaN</td>\n",
              "      <td>1214.39</td>\n",
              "      <td>NaN</td>\n",
              "      <td>NaN</td>\n",
              "      <td>NaN</td>\n",
              "    </tr>\n",
              "    <tr>\n",
              "      <th>8353</th>\n",
              "      <td>2017-07-11</td>\n",
              "      <td>6193.299805</td>\n",
              "      <td>1.808110e+09</td>\n",
              "      <td>NaN</td>\n",
              "      <td>1218.18</td>\n",
              "      <td>NaN</td>\n",
              "      <td>NaN</td>\n",
              "      <td>NaN</td>\n",
              "    </tr>\n",
              "    <tr>\n",
              "      <th>8354</th>\n",
              "      <td>2017-07-12</td>\n",
              "      <td>6261.169922</td>\n",
              "      <td>1.820550e+09</td>\n",
              "      <td>NaN</td>\n",
              "      <td>1218.29</td>\n",
              "      <td>NaN</td>\n",
              "      <td>NaN</td>\n",
              "      <td>NaN</td>\n",
              "    </tr>\n",
              "    <tr>\n",
              "      <th>8355</th>\n",
              "      <td>2017-07-13</td>\n",
              "      <td>6274.439941</td>\n",
              "      <td>1.803810e+09</td>\n",
              "      <td>NaN</td>\n",
              "      <td>1217.57</td>\n",
              "      <td>NaN</td>\n",
              "      <td>NaN</td>\n",
              "      <td>NaN</td>\n",
              "    </tr>\n",
              "    <tr>\n",
              "      <th>8356</th>\n",
              "      <td>2017-07-14</td>\n",
              "      <td>6312.470215</td>\n",
              "      <td>1.608120e+09</td>\n",
              "      <td>NaN</td>\n",
              "      <td>1228.47</td>\n",
              "      <td>NaN</td>\n",
              "      <td>NaN</td>\n",
              "      <td>NaN</td>\n",
              "    </tr>\n",
              "  </tbody>\n",
              "</table>\n",
              "<p>8357 rows × 8 columns</p>\n",
              "</div>"
            ],
            "text/plain": [
              "           Date        Close        Volume  ...  GDP  CPI  Inflation_Rate\n",
              "0    1986-01-01          NaN           NaN  ...  NaN  NaN        1.898048\n",
              "1    1986-01-02   325.000000  7.581000e+07  ...  NaN  NaN             NaN\n",
              "2    1986-01-03   325.700012  8.918000e+07  ...  NaN  NaN             NaN\n",
              "3    1986-01-06   326.000000  9.924000e+07  ...  NaN  NaN             NaN\n",
              "4    1986-01-07   329.700012  1.275000e+08  ...  NaN  NaN             NaN\n",
              "...         ...          ...           ...  ...  ...  ...             ...\n",
              "8352 2017-07-10  6176.390137  1.675470e+09  ...  NaN  NaN             NaN\n",
              "8353 2017-07-11  6193.299805  1.808110e+09  ...  NaN  NaN             NaN\n",
              "8354 2017-07-12  6261.169922  1.820550e+09  ...  NaN  NaN             NaN\n",
              "8355 2017-07-13  6274.439941  1.803810e+09  ...  NaN  NaN             NaN\n",
              "8356 2017-07-14  6312.470215  1.608120e+09  ...  NaN  NaN             NaN\n",
              "\n",
              "[8357 rows x 8 columns]"
            ]
          },
          "execution_count": 697,
          "metadata": {},
          "output_type": "execute_result"
        }
      ],
      "source": [
        "#pd.set_option('display.max_rows', None)  #bütün datayı gösterebilmek için\n",
        "all_data"
      ]
    },
    {
      "cell_type": "code",
      "execution_count": null,
      "metadata": {
        "id": "XAFHr00khwxx"
      },
      "outputs": [],
      "source": [
        "columns_for_previos = [\"Close\", \"Volume\", \"fedfunds\", \"xau_usd\", \"GDP\",\"CPI\", \"Inflation_Rate\"]\n",
        "all_data.update(all_data[columns_for_previos].fillna(method=\"bfill\",axis=0))"
      ]
    },
    {
      "cell_type": "code",
      "execution_count": null,
      "metadata": {
        "colab": {
          "base_uri": "https://localhost:8080/"
        },
        "id": "KRVChlkpJARF",
        "outputId": "a71e60cc-135d-4d79-f6e2-91e8fb4b79ba"
      },
      "outputs": [
        {
          "data": {
            "text/html": [
              "<div>\n",
              "<style scoped>\n",
              "    .dataframe tbody tr th:only-of-type {\n",
              "        vertical-align: middle;\n",
              "    }\n",
              "\n",
              "    .dataframe tbody tr th {\n",
              "        vertical-align: top;\n",
              "    }\n",
              "\n",
              "    .dataframe thead th {\n",
              "        text-align: right;\n",
              "    }\n",
              "</style>\n",
              "<table border=\"1\" class=\"dataframe\">\n",
              "  <thead>\n",
              "    <tr style=\"text-align: right;\">\n",
              "      <th></th>\n",
              "      <th>Date</th>\n",
              "      <th>Close</th>\n",
              "      <th>Volume</th>\n",
              "      <th>fedfunds</th>\n",
              "      <th>xau_usd</th>\n",
              "      <th>GDP</th>\n",
              "      <th>CPI</th>\n",
              "      <th>Inflation_Rate</th>\n",
              "    </tr>\n",
              "  </thead>\n",
              "  <tbody>\n",
              "    <tr>\n",
              "      <th>0</th>\n",
              "      <td>1986-01-01</td>\n",
              "      <td>325.000000</td>\n",
              "      <td>7.581000e+07</td>\n",
              "      <td>8.14</td>\n",
              "      <td>328.90</td>\n",
              "      <td>18864.60543</td>\n",
              "      <td>109.6</td>\n",
              "      <td>1.898048</td>\n",
              "    </tr>\n",
              "    <tr>\n",
              "      <th>1</th>\n",
              "      <td>1986-01-02</td>\n",
              "      <td>325.000000</td>\n",
              "      <td>7.581000e+07</td>\n",
              "      <td>7.86</td>\n",
              "      <td>328.90</td>\n",
              "      <td>18864.60543</td>\n",
              "      <td>109.6</td>\n",
              "      <td>3.664563</td>\n",
              "    </tr>\n",
              "    <tr>\n",
              "      <th>2</th>\n",
              "      <td>1986-01-03</td>\n",
              "      <td>325.700012</td>\n",
              "      <td>8.918000e+07</td>\n",
              "      <td>7.86</td>\n",
              "      <td>330.00</td>\n",
              "      <td>18864.60543</td>\n",
              "      <td>109.6</td>\n",
              "      <td>3.664563</td>\n",
              "    </tr>\n",
              "    <tr>\n",
              "      <th>3</th>\n",
              "      <td>1986-01-06</td>\n",
              "      <td>326.000000</td>\n",
              "      <td>9.924000e+07</td>\n",
              "      <td>7.86</td>\n",
              "      <td>330.70</td>\n",
              "      <td>18864.60543</td>\n",
              "      <td>109.6</td>\n",
              "      <td>3.664563</td>\n",
              "    </tr>\n",
              "    <tr>\n",
              "      <th>4</th>\n",
              "      <td>1986-01-07</td>\n",
              "      <td>329.700012</td>\n",
              "      <td>1.275000e+08</td>\n",
              "      <td>7.86</td>\n",
              "      <td>332.80</td>\n",
              "      <td>18864.60543</td>\n",
              "      <td>109.6</td>\n",
              "      <td>3.664563</td>\n",
              "    </tr>\n",
              "    <tr>\n",
              "      <th>...</th>\n",
              "      <td>...</td>\n",
              "      <td>...</td>\n",
              "      <td>...</td>\n",
              "      <td>...</td>\n",
              "      <td>...</td>\n",
              "      <td>...</td>\n",
              "      <td>...</td>\n",
              "      <td>...</td>\n",
              "    </tr>\n",
              "    <tr>\n",
              "      <th>8352</th>\n",
              "      <td>2017-07-10</td>\n",
              "      <td>6176.390137</td>\n",
              "      <td>1.675470e+09</td>\n",
              "      <td>NaN</td>\n",
              "      <td>1214.39</td>\n",
              "      <td>NaN</td>\n",
              "      <td>NaN</td>\n",
              "      <td>NaN</td>\n",
              "    </tr>\n",
              "    <tr>\n",
              "      <th>8353</th>\n",
              "      <td>2017-07-11</td>\n",
              "      <td>6193.299805</td>\n",
              "      <td>1.808110e+09</td>\n",
              "      <td>NaN</td>\n",
              "      <td>1218.18</td>\n",
              "      <td>NaN</td>\n",
              "      <td>NaN</td>\n",
              "      <td>NaN</td>\n",
              "    </tr>\n",
              "    <tr>\n",
              "      <th>8354</th>\n",
              "      <td>2017-07-12</td>\n",
              "      <td>6261.169922</td>\n",
              "      <td>1.820550e+09</td>\n",
              "      <td>NaN</td>\n",
              "      <td>1218.29</td>\n",
              "      <td>NaN</td>\n",
              "      <td>NaN</td>\n",
              "      <td>NaN</td>\n",
              "    </tr>\n",
              "    <tr>\n",
              "      <th>8355</th>\n",
              "      <td>2017-07-13</td>\n",
              "      <td>6274.439941</td>\n",
              "      <td>1.803810e+09</td>\n",
              "      <td>NaN</td>\n",
              "      <td>1217.57</td>\n",
              "      <td>NaN</td>\n",
              "      <td>NaN</td>\n",
              "      <td>NaN</td>\n",
              "    </tr>\n",
              "    <tr>\n",
              "      <th>8356</th>\n",
              "      <td>2017-07-14</td>\n",
              "      <td>6312.470215</td>\n",
              "      <td>1.608120e+09</td>\n",
              "      <td>NaN</td>\n",
              "      <td>1228.47</td>\n",
              "      <td>NaN</td>\n",
              "      <td>NaN</td>\n",
              "      <td>NaN</td>\n",
              "    </tr>\n",
              "  </tbody>\n",
              "</table>\n",
              "<p>8357 rows × 8 columns</p>\n",
              "</div>"
            ],
            "text/plain": [
              "           Date        Close        Volume  ...          GDP    CPI  Inflation_Rate\n",
              "0    1986-01-01   325.000000  7.581000e+07  ...  18864.60543  109.6        1.898048\n",
              "1    1986-01-02   325.000000  7.581000e+07  ...  18864.60543  109.6        3.664563\n",
              "2    1986-01-03   325.700012  8.918000e+07  ...  18864.60543  109.6        3.664563\n",
              "3    1986-01-06   326.000000  9.924000e+07  ...  18864.60543  109.6        3.664563\n",
              "4    1986-01-07   329.700012  1.275000e+08  ...  18864.60543  109.6        3.664563\n",
              "...         ...          ...           ...  ...          ...    ...             ...\n",
              "8352 2017-07-10  6176.390137  1.675470e+09  ...          NaN    NaN             NaN\n",
              "8353 2017-07-11  6193.299805  1.808110e+09  ...          NaN    NaN             NaN\n",
              "8354 2017-07-12  6261.169922  1.820550e+09  ...          NaN    NaN             NaN\n",
              "8355 2017-07-13  6274.439941  1.803810e+09  ...          NaN    NaN             NaN\n",
              "8356 2017-07-14  6312.470215  1.608120e+09  ...          NaN    NaN             NaN\n",
              "\n",
              "[8357 rows x 8 columns]"
            ]
          },
          "execution_count": 699,
          "metadata": {},
          "output_type": "execute_result"
        }
      ],
      "source": [
        "all_data"
      ]
    },
    {
      "cell_type": "code",
      "execution_count": null,
      "metadata": {
        "colab": {
          "base_uri": "https://localhost:8080/"
        },
        "id": "472YG3oBhwxx",
        "outputId": "33eb0fcc-e7d5-46a7-9201-243e07ce9496",
        "scrolled": true
      },
      "outputs": [
        {
          "data": {
            "text/html": [
              "<div>\n",
              "<style scoped>\n",
              "    .dataframe tbody tr th:only-of-type {\n",
              "        vertical-align: middle;\n",
              "    }\n",
              "\n",
              "    .dataframe tbody tr th {\n",
              "        vertical-align: top;\n",
              "    }\n",
              "\n",
              "    .dataframe thead th {\n",
              "        text-align: right;\n",
              "    }\n",
              "</style>\n",
              "<table border=\"1\" class=\"dataframe\">\n",
              "  <thead>\n",
              "    <tr style=\"text-align: right;\">\n",
              "      <th></th>\n",
              "      <th>Date</th>\n",
              "      <th>Close</th>\n",
              "      <th>Volume</th>\n",
              "      <th>fedfunds</th>\n",
              "      <th>xau_usd</th>\n",
              "      <th>GDP</th>\n",
              "      <th>CPI</th>\n",
              "      <th>Inflation_Rate</th>\n",
              "    </tr>\n",
              "  </thead>\n",
              "  <tbody>\n",
              "    <tr>\n",
              "      <th>8347</th>\n",
              "      <td>2017-07-03</td>\n",
              "      <td>6110.060059</td>\n",
              "      <td>1.099560e+09</td>\n",
              "      <td>NaN</td>\n",
              "      <td>1219.22</td>\n",
              "      <td>NaN</td>\n",
              "      <td>NaN</td>\n",
              "      <td>NaN</td>\n",
              "    </tr>\n",
              "    <tr>\n",
              "      <th>8348</th>\n",
              "      <td>2017-07-04</td>\n",
              "      <td>6150.859863</td>\n",
              "      <td>1.872130e+09</td>\n",
              "      <td>NaN</td>\n",
              "      <td>1223.98</td>\n",
              "      <td>NaN</td>\n",
              "      <td>NaN</td>\n",
              "      <td>NaN</td>\n",
              "    </tr>\n",
              "    <tr>\n",
              "      <th>8349</th>\n",
              "      <td>2017-07-05</td>\n",
              "      <td>6150.859863</td>\n",
              "      <td>1.872130e+09</td>\n",
              "      <td>NaN</td>\n",
              "      <td>1227.35</td>\n",
              "      <td>NaN</td>\n",
              "      <td>NaN</td>\n",
              "      <td>NaN</td>\n",
              "    </tr>\n",
              "    <tr>\n",
              "      <th>8350</th>\n",
              "      <td>2017-07-06</td>\n",
              "      <td>6089.459961</td>\n",
              "      <td>1.990590e+09</td>\n",
              "      <td>NaN</td>\n",
              "      <td>1224.60</td>\n",
              "      <td>NaN</td>\n",
              "      <td>NaN</td>\n",
              "      <td>NaN</td>\n",
              "    </tr>\n",
              "    <tr>\n",
              "      <th>8351</th>\n",
              "      <td>2017-07-07</td>\n",
              "      <td>6153.080078</td>\n",
              "      <td>1.700630e+09</td>\n",
              "      <td>NaN</td>\n",
              "      <td>1211.97</td>\n",
              "      <td>NaN</td>\n",
              "      <td>NaN</td>\n",
              "      <td>NaN</td>\n",
              "    </tr>\n",
              "    <tr>\n",
              "      <th>8352</th>\n",
              "      <td>2017-07-10</td>\n",
              "      <td>6176.390137</td>\n",
              "      <td>1.675470e+09</td>\n",
              "      <td>NaN</td>\n",
              "      <td>1214.39</td>\n",
              "      <td>NaN</td>\n",
              "      <td>NaN</td>\n",
              "      <td>NaN</td>\n",
              "    </tr>\n",
              "    <tr>\n",
              "      <th>8353</th>\n",
              "      <td>2017-07-11</td>\n",
              "      <td>6193.299805</td>\n",
              "      <td>1.808110e+09</td>\n",
              "      <td>NaN</td>\n",
              "      <td>1218.18</td>\n",
              "      <td>NaN</td>\n",
              "      <td>NaN</td>\n",
              "      <td>NaN</td>\n",
              "    </tr>\n",
              "    <tr>\n",
              "      <th>8354</th>\n",
              "      <td>2017-07-12</td>\n",
              "      <td>6261.169922</td>\n",
              "      <td>1.820550e+09</td>\n",
              "      <td>NaN</td>\n",
              "      <td>1218.29</td>\n",
              "      <td>NaN</td>\n",
              "      <td>NaN</td>\n",
              "      <td>NaN</td>\n",
              "    </tr>\n",
              "    <tr>\n",
              "      <th>8355</th>\n",
              "      <td>2017-07-13</td>\n",
              "      <td>6274.439941</td>\n",
              "      <td>1.803810e+09</td>\n",
              "      <td>NaN</td>\n",
              "      <td>1217.57</td>\n",
              "      <td>NaN</td>\n",
              "      <td>NaN</td>\n",
              "      <td>NaN</td>\n",
              "    </tr>\n",
              "    <tr>\n",
              "      <th>8356</th>\n",
              "      <td>2017-07-14</td>\n",
              "      <td>6312.470215</td>\n",
              "      <td>1.608120e+09</td>\n",
              "      <td>NaN</td>\n",
              "      <td>1228.47</td>\n",
              "      <td>NaN</td>\n",
              "      <td>NaN</td>\n",
              "      <td>NaN</td>\n",
              "    </tr>\n",
              "  </tbody>\n",
              "</table>\n",
              "</div>"
            ],
            "text/plain": [
              "           Date        Close        Volume  ...  GDP  CPI  Inflation_Rate\n",
              "8347 2017-07-03  6110.060059  1.099560e+09  ...  NaN  NaN             NaN\n",
              "8348 2017-07-04  6150.859863  1.872130e+09  ...  NaN  NaN             NaN\n",
              "8349 2017-07-05  6150.859863  1.872130e+09  ...  NaN  NaN             NaN\n",
              "8350 2017-07-06  6089.459961  1.990590e+09  ...  NaN  NaN             NaN\n",
              "8351 2017-07-07  6153.080078  1.700630e+09  ...  NaN  NaN             NaN\n",
              "8352 2017-07-10  6176.390137  1.675470e+09  ...  NaN  NaN             NaN\n",
              "8353 2017-07-11  6193.299805  1.808110e+09  ...  NaN  NaN             NaN\n",
              "8354 2017-07-12  6261.169922  1.820550e+09  ...  NaN  NaN             NaN\n",
              "8355 2017-07-13  6274.439941  1.803810e+09  ...  NaN  NaN             NaN\n",
              "8356 2017-07-14  6312.470215  1.608120e+09  ...  NaN  NaN             NaN\n",
              "\n",
              "[10 rows x 8 columns]"
            ]
          },
          "execution_count": 700,
          "metadata": {},
          "output_type": "execute_result"
        }
      ],
      "source": [
        "#pd.set_option('display.max_rows', None)  #bütün datayı gösterebilmek için\n",
        "all_data.tail(10)"
      ]
    },
    {
      "cell_type": "code",
      "execution_count": null,
      "metadata": {
        "id": "lned-s94KJq1"
      },
      "outputs": [],
      "source": [
        "all_data.update(all_data.GDP.interpolate())\n",
        "all_data.update(all_data.CPI.interpolate())"
      ]
    },
    {
      "cell_type": "code",
      "execution_count": null,
      "metadata": {
        "id": "s4SxIMQsK2Oq"
      },
      "outputs": [],
      "source": [
        "all_data = all_data.fillna(method=\"ffill\", axis=0)"
      ]
    },
    {
      "cell_type": "code",
      "execution_count": null,
      "metadata": {
        "id": "B4ldr1ByJfEy"
      },
      "outputs": [],
      "source": [
        "all_data.dropna(how=\"any\", inplace=True) #thresh: En az iki düzgün veri var ise silme, axis=0: satır\n",
        "all_data.reset_index(inplace=True, drop=True)"
      ]
    },
    {
      "cell_type": "code",
      "execution_count": null,
      "metadata": {
        "colab": {
          "base_uri": "https://localhost:8080/"
        },
        "id": "9_fXGJBrJDix",
        "outputId": "04973cf4-e380-479a-b7c0-2386d88c3250"
      },
      "outputs": [
        {
          "data": {
            "text/html": [
              "<div>\n",
              "<style scoped>\n",
              "    .dataframe tbody tr th:only-of-type {\n",
              "        vertical-align: middle;\n",
              "    }\n",
              "\n",
              "    .dataframe tbody tr th {\n",
              "        vertical-align: top;\n",
              "    }\n",
              "\n",
              "    .dataframe thead th {\n",
              "        text-align: right;\n",
              "    }\n",
              "</style>\n",
              "<table border=\"1\" class=\"dataframe\">\n",
              "  <thead>\n",
              "    <tr style=\"text-align: right;\">\n",
              "      <th></th>\n",
              "      <th>Date</th>\n",
              "      <th>Close</th>\n",
              "      <th>Volume</th>\n",
              "      <th>fedfunds</th>\n",
              "      <th>xau_usd</th>\n",
              "      <th>GDP</th>\n",
              "      <th>CPI</th>\n",
              "      <th>Inflation_Rate</th>\n",
              "    </tr>\n",
              "  </thead>\n",
              "  <tbody>\n",
              "    <tr>\n",
              "      <th>8337</th>\n",
              "      <td>2017-06-20</td>\n",
              "      <td>6188.029785</td>\n",
              "      <td>2.570130e+09</td>\n",
              "      <td>1.15</td>\n",
              "      <td>1243.68</td>\n",
              "      <td>58031.414203</td>\n",
              "      <td>244.955</td>\n",
              "      <td>2.13011</td>\n",
              "    </tr>\n",
              "    <tr>\n",
              "      <th>8338</th>\n",
              "      <td>2017-06-21</td>\n",
              "      <td>6233.950195</td>\n",
              "      <td>2.401440e+09</td>\n",
              "      <td>1.15</td>\n",
              "      <td>1247.68</td>\n",
              "      <td>58031.414203</td>\n",
              "      <td>244.955</td>\n",
              "      <td>2.13011</td>\n",
              "    </tr>\n",
              "    <tr>\n",
              "      <th>8339</th>\n",
              "      <td>2017-06-22</td>\n",
              "      <td>6236.689941</td>\n",
              "      <td>2.170250e+09</td>\n",
              "      <td>1.15</td>\n",
              "      <td>1250.58</td>\n",
              "      <td>58031.414203</td>\n",
              "      <td>244.955</td>\n",
              "      <td>2.13011</td>\n",
              "    </tr>\n",
              "    <tr>\n",
              "      <th>8340</th>\n",
              "      <td>2017-06-23</td>\n",
              "      <td>6265.250000</td>\n",
              "      <td>2.704600e+09</td>\n",
              "      <td>1.15</td>\n",
              "      <td>1255.86</td>\n",
              "      <td>58031.414203</td>\n",
              "      <td>244.955</td>\n",
              "      <td>2.13011</td>\n",
              "    </tr>\n",
              "    <tr>\n",
              "      <th>8341</th>\n",
              "      <td>2017-06-26</td>\n",
              "      <td>6247.149902</td>\n",
              "      <td>2.150630e+09</td>\n",
              "      <td>1.15</td>\n",
              "      <td>1245.31</td>\n",
              "      <td>58031.414203</td>\n",
              "      <td>244.955</td>\n",
              "      <td>2.13011</td>\n",
              "    </tr>\n",
              "    <tr>\n",
              "      <th>8342</th>\n",
              "      <td>2017-06-27</td>\n",
              "      <td>6146.620117</td>\n",
              "      <td>2.181830e+09</td>\n",
              "      <td>1.15</td>\n",
              "      <td>1247.63</td>\n",
              "      <td>58031.414203</td>\n",
              "      <td>244.955</td>\n",
              "      <td>2.13011</td>\n",
              "    </tr>\n",
              "    <tr>\n",
              "      <th>8343</th>\n",
              "      <td>2017-06-28</td>\n",
              "      <td>6234.410156</td>\n",
              "      <td>2.069400e+09</td>\n",
              "      <td>1.15</td>\n",
              "      <td>1249.49</td>\n",
              "      <td>58031.414203</td>\n",
              "      <td>244.955</td>\n",
              "      <td>2.13011</td>\n",
              "    </tr>\n",
              "    <tr>\n",
              "      <th>8344</th>\n",
              "      <td>2017-06-29</td>\n",
              "      <td>6144.350098</td>\n",
              "      <td>2.402250e+09</td>\n",
              "      <td>1.15</td>\n",
              "      <td>1244.72</td>\n",
              "      <td>58031.414203</td>\n",
              "      <td>244.955</td>\n",
              "      <td>2.13011</td>\n",
              "    </tr>\n",
              "    <tr>\n",
              "      <th>8345</th>\n",
              "      <td>2017-06-30</td>\n",
              "      <td>6140.419922</td>\n",
              "      <td>1.998330e+09</td>\n",
              "      <td>1.15</td>\n",
              "      <td>1241.38</td>\n",
              "      <td>58031.414203</td>\n",
              "      <td>244.955</td>\n",
              "      <td>2.13011</td>\n",
              "    </tr>\n",
              "    <tr>\n",
              "      <th>8346</th>\n",
              "      <td>2017-07-01</td>\n",
              "      <td>6110.060059</td>\n",
              "      <td>1.099560e+09</td>\n",
              "      <td>1.15</td>\n",
              "      <td>1219.22</td>\n",
              "      <td>58031.414203</td>\n",
              "      <td>244.955</td>\n",
              "      <td>2.13011</td>\n",
              "    </tr>\n",
              "    <tr>\n",
              "      <th>8347</th>\n",
              "      <td>2017-07-03</td>\n",
              "      <td>6110.060059</td>\n",
              "      <td>1.099560e+09</td>\n",
              "      <td>1.15</td>\n",
              "      <td>1219.22</td>\n",
              "      <td>58031.414203</td>\n",
              "      <td>244.955</td>\n",
              "      <td>2.13011</td>\n",
              "    </tr>\n",
              "    <tr>\n",
              "      <th>8348</th>\n",
              "      <td>2017-07-04</td>\n",
              "      <td>6150.859863</td>\n",
              "      <td>1.872130e+09</td>\n",
              "      <td>1.15</td>\n",
              "      <td>1223.98</td>\n",
              "      <td>58031.414203</td>\n",
              "      <td>244.955</td>\n",
              "      <td>2.13011</td>\n",
              "    </tr>\n",
              "    <tr>\n",
              "      <th>8349</th>\n",
              "      <td>2017-07-05</td>\n",
              "      <td>6150.859863</td>\n",
              "      <td>1.872130e+09</td>\n",
              "      <td>1.15</td>\n",
              "      <td>1227.35</td>\n",
              "      <td>58031.414203</td>\n",
              "      <td>244.955</td>\n",
              "      <td>2.13011</td>\n",
              "    </tr>\n",
              "    <tr>\n",
              "      <th>8350</th>\n",
              "      <td>2017-07-06</td>\n",
              "      <td>6089.459961</td>\n",
              "      <td>1.990590e+09</td>\n",
              "      <td>1.15</td>\n",
              "      <td>1224.60</td>\n",
              "      <td>58031.414203</td>\n",
              "      <td>244.955</td>\n",
              "      <td>2.13011</td>\n",
              "    </tr>\n",
              "    <tr>\n",
              "      <th>8351</th>\n",
              "      <td>2017-07-07</td>\n",
              "      <td>6153.080078</td>\n",
              "      <td>1.700630e+09</td>\n",
              "      <td>1.15</td>\n",
              "      <td>1211.97</td>\n",
              "      <td>58031.414203</td>\n",
              "      <td>244.955</td>\n",
              "      <td>2.13011</td>\n",
              "    </tr>\n",
              "    <tr>\n",
              "      <th>8352</th>\n",
              "      <td>2017-07-10</td>\n",
              "      <td>6176.390137</td>\n",
              "      <td>1.675470e+09</td>\n",
              "      <td>1.15</td>\n",
              "      <td>1214.39</td>\n",
              "      <td>58031.414203</td>\n",
              "      <td>244.955</td>\n",
              "      <td>2.13011</td>\n",
              "    </tr>\n",
              "    <tr>\n",
              "      <th>8353</th>\n",
              "      <td>2017-07-11</td>\n",
              "      <td>6193.299805</td>\n",
              "      <td>1.808110e+09</td>\n",
              "      <td>1.15</td>\n",
              "      <td>1218.18</td>\n",
              "      <td>58031.414203</td>\n",
              "      <td>244.955</td>\n",
              "      <td>2.13011</td>\n",
              "    </tr>\n",
              "    <tr>\n",
              "      <th>8354</th>\n",
              "      <td>2017-07-12</td>\n",
              "      <td>6261.169922</td>\n",
              "      <td>1.820550e+09</td>\n",
              "      <td>1.15</td>\n",
              "      <td>1218.29</td>\n",
              "      <td>58031.414203</td>\n",
              "      <td>244.955</td>\n",
              "      <td>2.13011</td>\n",
              "    </tr>\n",
              "    <tr>\n",
              "      <th>8355</th>\n",
              "      <td>2017-07-13</td>\n",
              "      <td>6274.439941</td>\n",
              "      <td>1.803810e+09</td>\n",
              "      <td>1.15</td>\n",
              "      <td>1217.57</td>\n",
              "      <td>58031.414203</td>\n",
              "      <td>244.955</td>\n",
              "      <td>2.13011</td>\n",
              "    </tr>\n",
              "    <tr>\n",
              "      <th>8356</th>\n",
              "      <td>2017-07-14</td>\n",
              "      <td>6312.470215</td>\n",
              "      <td>1.608120e+09</td>\n",
              "      <td>1.15</td>\n",
              "      <td>1228.47</td>\n",
              "      <td>58031.414203</td>\n",
              "      <td>244.955</td>\n",
              "      <td>2.13011</td>\n",
              "    </tr>\n",
              "  </tbody>\n",
              "</table>\n",
              "</div>"
            ],
            "text/plain": [
              "           Date        Close  ...      CPI  Inflation_Rate\n",
              "8337 2017-06-20  6188.029785  ...  244.955         2.13011\n",
              "8338 2017-06-21  6233.950195  ...  244.955         2.13011\n",
              "8339 2017-06-22  6236.689941  ...  244.955         2.13011\n",
              "8340 2017-06-23  6265.250000  ...  244.955         2.13011\n",
              "8341 2017-06-26  6247.149902  ...  244.955         2.13011\n",
              "8342 2017-06-27  6146.620117  ...  244.955         2.13011\n",
              "8343 2017-06-28  6234.410156  ...  244.955         2.13011\n",
              "8344 2017-06-29  6144.350098  ...  244.955         2.13011\n",
              "8345 2017-06-30  6140.419922  ...  244.955         2.13011\n",
              "8346 2017-07-01  6110.060059  ...  244.955         2.13011\n",
              "8347 2017-07-03  6110.060059  ...  244.955         2.13011\n",
              "8348 2017-07-04  6150.859863  ...  244.955         2.13011\n",
              "8349 2017-07-05  6150.859863  ...  244.955         2.13011\n",
              "8350 2017-07-06  6089.459961  ...  244.955         2.13011\n",
              "8351 2017-07-07  6153.080078  ...  244.955         2.13011\n",
              "8352 2017-07-10  6176.390137  ...  244.955         2.13011\n",
              "8353 2017-07-11  6193.299805  ...  244.955         2.13011\n",
              "8354 2017-07-12  6261.169922  ...  244.955         2.13011\n",
              "8355 2017-07-13  6274.439941  ...  244.955         2.13011\n",
              "8356 2017-07-14  6312.470215  ...  244.955         2.13011\n",
              "\n",
              "[20 rows x 8 columns]"
            ]
          },
          "execution_count": 704,
          "metadata": {},
          "output_type": "execute_result"
        }
      ],
      "source": [
        "all_data.tail(20)"
      ]
    },
    {
      "cell_type": "code",
      "execution_count": null,
      "metadata": {
        "colab": {
          "base_uri": "https://localhost:8080/"
        },
        "id": "mIZ4xQCRhwxy",
        "outputId": "59e29ce5-ce4b-4e27-e4aa-f8d14f799964"
      },
      "outputs": [
        {
          "data": {
            "text/html": [
              "<div>\n",
              "<style scoped>\n",
              "    .dataframe tbody tr th:only-of-type {\n",
              "        vertical-align: middle;\n",
              "    }\n",
              "\n",
              "    .dataframe tbody tr th {\n",
              "        vertical-align: top;\n",
              "    }\n",
              "\n",
              "    .dataframe thead th {\n",
              "        text-align: right;\n",
              "    }\n",
              "</style>\n",
              "<table border=\"1\" class=\"dataframe\">\n",
              "  <thead>\n",
              "    <tr style=\"text-align: right;\">\n",
              "      <th></th>\n",
              "      <th>Close</th>\n",
              "      <th>Volume</th>\n",
              "      <th>fedfunds</th>\n",
              "      <th>xau_usd</th>\n",
              "      <th>GDP</th>\n",
              "      <th>CPI</th>\n",
              "      <th>Inflation_Rate</th>\n",
              "    </tr>\n",
              "  </thead>\n",
              "  <tbody>\n",
              "    <tr>\n",
              "      <th>Close</th>\n",
              "      <td>1.000000</td>\n",
              "      <td>0.696980</td>\n",
              "      <td>-0.617178</td>\n",
              "      <td>0.642889</td>\n",
              "      <td>0.869729</td>\n",
              "      <td>0.851358</td>\n",
              "      <td>-0.535335</td>\n",
              "    </tr>\n",
              "    <tr>\n",
              "      <th>Volume</th>\n",
              "      <td>0.696980</td>\n",
              "      <td>1.000000</td>\n",
              "      <td>-0.701431</td>\n",
              "      <td>0.551859</td>\n",
              "      <td>0.861900</td>\n",
              "      <td>0.853647</td>\n",
              "      <td>-0.531597</td>\n",
              "    </tr>\n",
              "    <tr>\n",
              "      <th>fedfunds</th>\n",
              "      <td>-0.617178</td>\n",
              "      <td>-0.701431</td>\n",
              "      <td>1.000000</td>\n",
              "      <td>-0.710357</td>\n",
              "      <td>-0.814604</td>\n",
              "      <td>-0.839566</td>\n",
              "      <td>0.689426</td>\n",
              "    </tr>\n",
              "    <tr>\n",
              "      <th>xau_usd</th>\n",
              "      <td>0.642889</td>\n",
              "      <td>0.551859</td>\n",
              "      <td>-0.710357</td>\n",
              "      <td>1.000000</td>\n",
              "      <td>0.776450</td>\n",
              "      <td>0.792526</td>\n",
              "      <td>-0.477835</td>\n",
              "    </tr>\n",
              "    <tr>\n",
              "      <th>GDP</th>\n",
              "      <td>0.869729</td>\n",
              "      <td>0.861900</td>\n",
              "      <td>-0.814604</td>\n",
              "      <td>0.776450</td>\n",
              "      <td>1.000000</td>\n",
              "      <td>0.994871</td>\n",
              "      <td>-0.628495</td>\n",
              "    </tr>\n",
              "    <tr>\n",
              "      <th>CPI</th>\n",
              "      <td>0.851358</td>\n",
              "      <td>0.853647</td>\n",
              "      <td>-0.839566</td>\n",
              "      <td>0.792526</td>\n",
              "      <td>0.994871</td>\n",
              "      <td>1.000000</td>\n",
              "      <td>-0.663824</td>\n",
              "    </tr>\n",
              "    <tr>\n",
              "      <th>Inflation_Rate</th>\n",
              "      <td>-0.535335</td>\n",
              "      <td>-0.531597</td>\n",
              "      <td>0.689426</td>\n",
              "      <td>-0.477835</td>\n",
              "      <td>-0.628495</td>\n",
              "      <td>-0.663824</td>\n",
              "      <td>1.000000</td>\n",
              "    </tr>\n",
              "  </tbody>\n",
              "</table>\n",
              "</div>"
            ],
            "text/plain": [
              "                   Close    Volume  ...       CPI  Inflation_Rate\n",
              "Close           1.000000  0.696980  ...  0.851358       -0.535335\n",
              "Volume          0.696980  1.000000  ...  0.853647       -0.531597\n",
              "fedfunds       -0.617178 -0.701431  ... -0.839566        0.689426\n",
              "xau_usd         0.642889  0.551859  ...  0.792526       -0.477835\n",
              "GDP             0.869729  0.861900  ...  0.994871       -0.628495\n",
              "CPI             0.851358  0.853647  ...  1.000000       -0.663824\n",
              "Inflation_Rate -0.535335 -0.531597  ... -0.663824        1.000000\n",
              "\n",
              "[7 rows x 7 columns]"
            ]
          },
          "execution_count": 705,
          "metadata": {},
          "output_type": "execute_result"
        }
      ],
      "source": [
        "all_data.corr()"
      ]
    },
    {
      "cell_type": "code",
      "execution_count": null,
      "metadata": {
        "colab": {
          "base_uri": "https://localhost:8080/"
        },
        "id": "-otFCeQ4hwxz",
        "outputId": "b74053b2-545f-42aa-8645-5a282a9e735d"
      },
      "outputs": [
        {
          "data": {
            "text/html": [
              "<div>\n",
              "<style scoped>\n",
              "    .dataframe tbody tr th:only-of-type {\n",
              "        vertical-align: middle;\n",
              "    }\n",
              "\n",
              "    .dataframe tbody tr th {\n",
              "        vertical-align: top;\n",
              "    }\n",
              "\n",
              "    .dataframe thead th {\n",
              "        text-align: right;\n",
              "    }\n",
              "</style>\n",
              "<table border=\"1\" class=\"dataframe\">\n",
              "  <thead>\n",
              "    <tr style=\"text-align: right;\">\n",
              "      <th></th>\n",
              "      <th>Close</th>\n",
              "      <th>Volume</th>\n",
              "      <th>fedfunds</th>\n",
              "      <th>xau_usd</th>\n",
              "      <th>GDP</th>\n",
              "      <th>CPI</th>\n",
              "      <th>Inflation_Rate</th>\n",
              "    </tr>\n",
              "  </thead>\n",
              "  <tbody>\n",
              "    <tr>\n",
              "      <th>Close</th>\n",
              "      <td>2.016869e+06</td>\n",
              "      <td>8.340995e+11</td>\n",
              "      <td>-2.418806e+03</td>\n",
              "      <td>3.966339e+05</td>\n",
              "      <td>1.486405e+07</td>\n",
              "      <td>4.888771e+04</td>\n",
              "      <td>-9.137749e+02</td>\n",
              "    </tr>\n",
              "    <tr>\n",
              "      <th>Volume</th>\n",
              "      <td>8.340995e+11</td>\n",
              "      <td>7.100974e+17</td>\n",
              "      <td>-1.631157e+09</td>\n",
              "      <td>2.020233e+11</td>\n",
              "      <td>8.740376e+12</td>\n",
              "      <td>2.908614e+10</td>\n",
              "      <td>-5.384139e+08</td>\n",
              "    </tr>\n",
              "    <tr>\n",
              "      <th>fedfunds</th>\n",
              "      <td>-2.418806e+03</td>\n",
              "      <td>-1.631157e+09</td>\n",
              "      <td>7.615598e+00</td>\n",
              "      <td>-8.516147e+02</td>\n",
              "      <td>-2.705284e+04</td>\n",
              "      <td>-9.368186e+01</td>\n",
              "      <td>2.286725e+00</td>\n",
              "    </tr>\n",
              "    <tr>\n",
              "      <th>xau_usd</th>\n",
              "      <td>3.966339e+05</td>\n",
              "      <td>2.020233e+11</td>\n",
              "      <td>-8.516147e+02</td>\n",
              "      <td>1.887250e+05</td>\n",
              "      <td>4.059223e+06</td>\n",
              "      <td>1.392120e+04</td>\n",
              "      <td>-2.494979e+02</td>\n",
              "    </tr>\n",
              "    <tr>\n",
              "      <th>GDP</th>\n",
              "      <td>1.486405e+07</td>\n",
              "      <td>8.740376e+12</td>\n",
              "      <td>-2.705284e+04</td>\n",
              "      <td>4.059223e+06</td>\n",
              "      <td>1.448201e+08</td>\n",
              "      <td>4.840940e+05</td>\n",
              "      <td>-9.090567e+03</td>\n",
              "    </tr>\n",
              "    <tr>\n",
              "      <th>CPI</th>\n",
              "      <td>4.888771e+04</td>\n",
              "      <td>2.908614e+10</td>\n",
              "      <td>-9.368186e+01</td>\n",
              "      <td>1.392120e+04</td>\n",
              "      <td>4.840940e+05</td>\n",
              "      <td>1.634923e+03</td>\n",
              "      <td>-3.226085e+01</td>\n",
              "    </tr>\n",
              "    <tr>\n",
              "      <th>Inflation_Rate</th>\n",
              "      <td>-9.137749e+02</td>\n",
              "      <td>-5.384139e+08</td>\n",
              "      <td>2.286725e+00</td>\n",
              "      <td>-2.494979e+02</td>\n",
              "      <td>-9.090567e+03</td>\n",
              "      <td>-3.226085e+01</td>\n",
              "      <td>1.444604e+00</td>\n",
              "    </tr>\n",
              "  </tbody>\n",
              "</table>\n",
              "</div>"
            ],
            "text/plain": [
              "                       Close        Volume  ...           CPI  Inflation_Rate\n",
              "Close           2.016869e+06  8.340995e+11  ...  4.888771e+04   -9.137749e+02\n",
              "Volume          8.340995e+11  7.100974e+17  ...  2.908614e+10   -5.384139e+08\n",
              "fedfunds       -2.418806e+03 -1.631157e+09  ... -9.368186e+01    2.286725e+00\n",
              "xau_usd         3.966339e+05  2.020233e+11  ...  1.392120e+04   -2.494979e+02\n",
              "GDP             1.486405e+07  8.740376e+12  ...  4.840940e+05   -9.090567e+03\n",
              "CPI             4.888771e+04  2.908614e+10  ...  1.634923e+03   -3.226085e+01\n",
              "Inflation_Rate -9.137749e+02 -5.384139e+08  ... -3.226085e+01    1.444604e+00\n",
              "\n",
              "[7 rows x 7 columns]"
            ]
          },
          "execution_count": 706,
          "metadata": {},
          "output_type": "execute_result"
        }
      ],
      "source": [
        "all_data.cov()"
      ]
    },
    {
      "cell_type": "code",
      "execution_count": null,
      "metadata": {
        "colab": {
          "base_uri": "https://localhost:8080/"
        },
        "id": "K4q3444Mhwxz",
        "outputId": "12b76d16-6307-444d-8d86-99a879da7f5e"
      },
      "outputs": [
        {
          "data": {
            "text/plain": [
              "Date              datetime64[ns]\n",
              "Close                    float64\n",
              "Volume                   float64\n",
              "fedfunds                 float64\n",
              "xau_usd                  float64\n",
              "GDP                      float64\n",
              "CPI                      float64\n",
              "Inflation_Rate           float64\n",
              "dtype: object"
            ]
          },
          "execution_count": 707,
          "metadata": {},
          "output_type": "execute_result"
        }
      ],
      "source": [
        "all_data.dtypes"
      ]
    },
    {
      "cell_type": "code",
      "execution_count": null,
      "metadata": {
        "colab": {
          "base_uri": "https://localhost:8080/"
        },
        "id": "NmIJwN0jhwxz",
        "outputId": "b65a3968-c4c6-4741-ba36-f76612223b5e",
        "scrolled": true
      },
      "outputs": [
        {
          "data": {
            "text/plain": [
              "Date              0\n",
              "Close             0\n",
              "Volume            0\n",
              "fedfunds          0\n",
              "xau_usd           0\n",
              "GDP               0\n",
              "CPI               0\n",
              "Inflation_Rate    0\n",
              "dtype: int64"
            ]
          },
          "execution_count": 708,
          "metadata": {},
          "output_type": "execute_result"
        }
      ],
      "source": [
        "all_data.isnull().sum()"
      ]
    },
    {
      "cell_type": "code",
      "execution_count": null,
      "metadata": {
        "colab": {
          "base_uri": "https://localhost:8080/"
        },
        "id": "IuKbjYJQhwxz",
        "outputId": "0d76072c-2fb7-40a3-fbc1-b383798d53e9"
      },
      "outputs": [
        {
          "data": {
            "text/html": [
              "<div>\n",
              "<style scoped>\n",
              "    .dataframe tbody tr th:only-of-type {\n",
              "        vertical-align: middle;\n",
              "    }\n",
              "\n",
              "    .dataframe tbody tr th {\n",
              "        vertical-align: top;\n",
              "    }\n",
              "\n",
              "    .dataframe thead th {\n",
              "        text-align: right;\n",
              "    }\n",
              "</style>\n",
              "<table border=\"1\" class=\"dataframe\">\n",
              "  <thead>\n",
              "    <tr style=\"text-align: right;\">\n",
              "      <th></th>\n",
              "      <th>Close</th>\n",
              "      <th>Volume</th>\n",
              "      <th>fedfunds</th>\n",
              "      <th>xau_usd</th>\n",
              "      <th>GDP</th>\n",
              "      <th>CPI</th>\n",
              "      <th>Inflation_Rate</th>\n",
              "    </tr>\n",
              "  </thead>\n",
              "  <tbody>\n",
              "    <tr>\n",
              "      <th>count</th>\n",
              "      <td>8357.000000</td>\n",
              "      <td>8.357000e+03</td>\n",
              "      <td>8357.000000</td>\n",
              "      <td>8357.000000</td>\n",
              "      <td>8357.000000</td>\n",
              "      <td>8357.000000</td>\n",
              "      <td>8357.000000</td>\n",
              "    </tr>\n",
              "    <tr>\n",
              "      <th>mean</th>\n",
              "      <td>2021.818987</td>\n",
              "      <td>1.213063e+09</td>\n",
              "      <td>3.549010</td>\n",
              "      <td>653.900360</td>\n",
              "      <td>38078.877457</td>\n",
              "      <td>179.390542</td>\n",
              "      <td>2.621790</td>\n",
              "    </tr>\n",
              "    <tr>\n",
              "      <th>std</th>\n",
              "      <td>1420.165013</td>\n",
              "      <td>8.426728e+08</td>\n",
              "      <td>2.759637</td>\n",
              "      <td>434.424919</td>\n",
              "      <td>12034.123978</td>\n",
              "      <td>40.434175</td>\n",
              "      <td>1.201917</td>\n",
              "    </tr>\n",
              "    <tr>\n",
              "      <th>min</th>\n",
              "      <td>291.899994</td>\n",
              "      <td>4.404000e+07</td>\n",
              "      <td>0.070000</td>\n",
              "      <td>252.350000</td>\n",
              "      <td>18864.605430</td>\n",
              "      <td>108.600000</td>\n",
              "      <td>-0.355546</td>\n",
              "    </tr>\n",
              "    <tr>\n",
              "      <th>25%</th>\n",
              "      <td>734.270020</td>\n",
              "      <td>2.731300e+08</td>\n",
              "      <td>0.400000</td>\n",
              "      <td>352.300000</td>\n",
              "      <td>26426.627895</td>\n",
              "      <td>145.800000</td>\n",
              "      <td>1.640043</td>\n",
              "    </tr>\n",
              "    <tr>\n",
              "      <th>50%</th>\n",
              "      <td>1900.569946</td>\n",
              "      <td>1.477150e+09</td>\n",
              "      <td>3.770000</td>\n",
              "      <td>403.300000</td>\n",
              "      <td>37180.340188</td>\n",
              "      <td>177.700000</td>\n",
              "      <td>2.805420</td>\n",
              "    </tr>\n",
              "    <tr>\n",
              "      <th>75%</th>\n",
              "      <td>2652.280029</td>\n",
              "      <td>1.901080e+09</td>\n",
              "      <td>5.540000</td>\n",
              "      <td>992.980000</td>\n",
              "      <td>48479.483133</td>\n",
              "      <td>216.687000</td>\n",
              "      <td>3.376857</td>\n",
              "    </tr>\n",
              "    <tr>\n",
              "      <th>max</th>\n",
              "      <td>6321.759766</td>\n",
              "      <td>4.553600e+09</td>\n",
              "      <td>9.850000</td>\n",
              "      <td>1901.340000</td>\n",
              "      <td>58031.414203</td>\n",
              "      <td>244.955000</td>\n",
              "      <td>5.397956</td>\n",
              "    </tr>\n",
              "  </tbody>\n",
              "</table>\n",
              "</div>"
            ],
            "text/plain": [
              "             Close        Volume  ...          CPI  Inflation_Rate\n",
              "count  8357.000000  8.357000e+03  ...  8357.000000     8357.000000\n",
              "mean   2021.818987  1.213063e+09  ...   179.390542        2.621790\n",
              "std    1420.165013  8.426728e+08  ...    40.434175        1.201917\n",
              "min     291.899994  4.404000e+07  ...   108.600000       -0.355546\n",
              "25%     734.270020  2.731300e+08  ...   145.800000        1.640043\n",
              "50%    1900.569946  1.477150e+09  ...   177.700000        2.805420\n",
              "75%    2652.280029  1.901080e+09  ...   216.687000        3.376857\n",
              "max    6321.759766  4.553600e+09  ...   244.955000        5.397956\n",
              "\n",
              "[8 rows x 7 columns]"
            ]
          },
          "execution_count": 709,
          "metadata": {},
          "output_type": "execute_result"
        }
      ],
      "source": [
        "all_data.describe()"
      ]
    },
    {
      "cell_type": "code",
      "execution_count": null,
      "metadata": {
        "colab": {
          "base_uri": "https://localhost:8080/"
        },
        "id": "3KRIafZchwx0",
        "outputId": "1e446019-ad78-4f91-de79-20b529eee1b9"
      },
      "outputs": [
        {
          "name": "stdout",
          "output_type": "stream",
          "text": [
            "<class 'pandas.core.frame.DataFrame'>\n",
            "RangeIndex: 8357 entries, 0 to 8356\n",
            "Data columns (total 8 columns):\n",
            " #   Column          Non-Null Count  Dtype         \n",
            "---  ------          --------------  -----         \n",
            " 0   Date            8357 non-null   datetime64[ns]\n",
            " 1   Close           8357 non-null   float64       \n",
            " 2   Volume          8357 non-null   float64       \n",
            " 3   fedfunds        8357 non-null   float64       \n",
            " 4   xau_usd         8357 non-null   float64       \n",
            " 5   GDP             8357 non-null   float64       \n",
            " 6   CPI             8357 non-null   float64       \n",
            " 7   Inflation_Rate  8357 non-null   float64       \n",
            "dtypes: datetime64[ns](1), float64(7)\n",
            "memory usage: 522.4 KB\n"
          ]
        }
      ],
      "source": [
        "all_data.info()"
      ]
    },
    {
      "cell_type": "code",
      "execution_count": null,
      "metadata": {
        "colab": {
          "base_uri": "https://localhost:8080/"
        },
        "id": "DDTfAE8mhwx1",
        "outputId": "09903c37-c812-47fe-bda6-71610d5be0cd"
      },
      "outputs": [
        {
          "data": {
            "text/html": [
              "<div>\n",
              "<style scoped>\n",
              "    .dataframe tbody tr th:only-of-type {\n",
              "        vertical-align: middle;\n",
              "    }\n",
              "\n",
              "    .dataframe tbody tr th {\n",
              "        vertical-align: top;\n",
              "    }\n",
              "\n",
              "    .dataframe thead th {\n",
              "        text-align: right;\n",
              "    }\n",
              "</style>\n",
              "<table border=\"1\" class=\"dataframe\">\n",
              "  <thead>\n",
              "    <tr style=\"text-align: right;\">\n",
              "      <th></th>\n",
              "      <th>Date</th>\n",
              "      <th>Close</th>\n",
              "      <th>Volume</th>\n",
              "      <th>fedfunds</th>\n",
              "      <th>xau_usd</th>\n",
              "      <th>GDP</th>\n",
              "      <th>CPI</th>\n",
              "      <th>Inflation_Rate</th>\n",
              "    </tr>\n",
              "  </thead>\n",
              "  <tbody>\n",
              "    <tr>\n",
              "      <th>0</th>\n",
              "      <td>1986-01-01</td>\n",
              "      <td>325.000000</td>\n",
              "      <td>7.581000e+07</td>\n",
              "      <td>8.14</td>\n",
              "      <td>328.90</td>\n",
              "      <td>18864.605430</td>\n",
              "      <td>109.600</td>\n",
              "      <td>1.898048</td>\n",
              "    </tr>\n",
              "    <tr>\n",
              "      <th>1</th>\n",
              "      <td>1986-01-02</td>\n",
              "      <td>325.000000</td>\n",
              "      <td>7.581000e+07</td>\n",
              "      <td>7.86</td>\n",
              "      <td>328.90</td>\n",
              "      <td>18864.605430</td>\n",
              "      <td>109.600</td>\n",
              "      <td>3.664563</td>\n",
              "    </tr>\n",
              "    <tr>\n",
              "      <th>2</th>\n",
              "      <td>1986-01-03</td>\n",
              "      <td>325.700012</td>\n",
              "      <td>8.918000e+07</td>\n",
              "      <td>7.86</td>\n",
              "      <td>330.00</td>\n",
              "      <td>18864.605430</td>\n",
              "      <td>109.600</td>\n",
              "      <td>3.664563</td>\n",
              "    </tr>\n",
              "    <tr>\n",
              "      <th>3</th>\n",
              "      <td>1986-01-06</td>\n",
              "      <td>326.000000</td>\n",
              "      <td>9.924000e+07</td>\n",
              "      <td>7.86</td>\n",
              "      <td>330.70</td>\n",
              "      <td>18864.605430</td>\n",
              "      <td>109.600</td>\n",
              "      <td>3.664563</td>\n",
              "    </tr>\n",
              "    <tr>\n",
              "      <th>4</th>\n",
              "      <td>1986-01-07</td>\n",
              "      <td>329.700012</td>\n",
              "      <td>1.275000e+08</td>\n",
              "      <td>7.86</td>\n",
              "      <td>332.80</td>\n",
              "      <td>18864.605430</td>\n",
              "      <td>109.600</td>\n",
              "      <td>3.664563</td>\n",
              "    </tr>\n",
              "    <tr>\n",
              "      <th>...</th>\n",
              "      <td>...</td>\n",
              "      <td>...</td>\n",
              "      <td>...</td>\n",
              "      <td>...</td>\n",
              "      <td>...</td>\n",
              "      <td>...</td>\n",
              "      <td>...</td>\n",
              "      <td>...</td>\n",
              "    </tr>\n",
              "    <tr>\n",
              "      <th>8352</th>\n",
              "      <td>2017-07-10</td>\n",
              "      <td>6176.390137</td>\n",
              "      <td>1.675470e+09</td>\n",
              "      <td>1.15</td>\n",
              "      <td>1214.39</td>\n",
              "      <td>58031.414203</td>\n",
              "      <td>244.955</td>\n",
              "      <td>2.130110</td>\n",
              "    </tr>\n",
              "    <tr>\n",
              "      <th>8353</th>\n",
              "      <td>2017-07-11</td>\n",
              "      <td>6193.299805</td>\n",
              "      <td>1.808110e+09</td>\n",
              "      <td>1.15</td>\n",
              "      <td>1218.18</td>\n",
              "      <td>58031.414203</td>\n",
              "      <td>244.955</td>\n",
              "      <td>2.130110</td>\n",
              "    </tr>\n",
              "    <tr>\n",
              "      <th>8354</th>\n",
              "      <td>2017-07-12</td>\n",
              "      <td>6261.169922</td>\n",
              "      <td>1.820550e+09</td>\n",
              "      <td>1.15</td>\n",
              "      <td>1218.29</td>\n",
              "      <td>58031.414203</td>\n",
              "      <td>244.955</td>\n",
              "      <td>2.130110</td>\n",
              "    </tr>\n",
              "    <tr>\n",
              "      <th>8355</th>\n",
              "      <td>2017-07-13</td>\n",
              "      <td>6274.439941</td>\n",
              "      <td>1.803810e+09</td>\n",
              "      <td>1.15</td>\n",
              "      <td>1217.57</td>\n",
              "      <td>58031.414203</td>\n",
              "      <td>244.955</td>\n",
              "      <td>2.130110</td>\n",
              "    </tr>\n",
              "    <tr>\n",
              "      <th>8356</th>\n",
              "      <td>2017-07-14</td>\n",
              "      <td>6312.470215</td>\n",
              "      <td>1.608120e+09</td>\n",
              "      <td>1.15</td>\n",
              "      <td>1228.47</td>\n",
              "      <td>58031.414203</td>\n",
              "      <td>244.955</td>\n",
              "      <td>2.130110</td>\n",
              "    </tr>\n",
              "  </tbody>\n",
              "</table>\n",
              "<p>8357 rows × 8 columns</p>\n",
              "</div>"
            ],
            "text/plain": [
              "           Date        Close  ...      CPI  Inflation_Rate\n",
              "0    1986-01-01   325.000000  ...  109.600        1.898048\n",
              "1    1986-01-02   325.000000  ...  109.600        3.664563\n",
              "2    1986-01-03   325.700012  ...  109.600        3.664563\n",
              "3    1986-01-06   326.000000  ...  109.600        3.664563\n",
              "4    1986-01-07   329.700012  ...  109.600        3.664563\n",
              "...         ...          ...  ...      ...             ...\n",
              "8352 2017-07-10  6176.390137  ...  244.955        2.130110\n",
              "8353 2017-07-11  6193.299805  ...  244.955        2.130110\n",
              "8354 2017-07-12  6261.169922  ...  244.955        2.130110\n",
              "8355 2017-07-13  6274.439941  ...  244.955        2.130110\n",
              "8356 2017-07-14  6312.470215  ...  244.955        2.130110\n",
              "\n",
              "[8357 rows x 8 columns]"
            ]
          },
          "execution_count": 711,
          "metadata": {},
          "output_type": "execute_result"
        }
      ],
      "source": [
        "#pd.set_option('display.max_rows', None)  #bütün datayı gösterebilmek için\n",
        "all_data"
      ]
    },
    {
      "cell_type": "code",
      "execution_count": null,
      "metadata": {
        "colab": {
          "base_uri": "https://localhost:8080/"
        },
        "id": "XWtM1D3guLGv",
        "outputId": "0983935e-807a-4f37-d3f6-a2d9b90f1db2"
      },
      "outputs": [
        {
          "data": {
            "text/plain": [
              "<matplotlib.axes._subplots.AxesSubplot at 0x7f8532310150>"
            ]
          },
          "execution_count": 712,
          "metadata": {},
          "output_type": "execute_result"
        },
        {
          "data": {
            "image/png": "[encoded data removed]",
            "text/plain": [
              "<Figure size 576x576 with 2 Axes>"
            ]
          },
          "metadata": {
            "needs_background": "light"
          },
          "output_type": "display_data"
        }
      ],
      "source": [
        "plt.figure(figsize=(8,8))\n",
        "sns.heatmap(all_data.corr(), annot=True, cmap='coolwarm')"
      ]
    },
    {
      "cell_type": "code",
      "execution_count": null,
      "metadata": {
        "colab": {
          "base_uri": "https://localhost:8080/"
        },
        "id": "DeqSgAMrhwx1",
        "outputId": "ab589d6c-4703-4c67-ac1c-7b50bca16132"
      },
      "outputs": [
        {
          "data": {
            "text/plain": [
              "Date              datetime64[ns]\n",
              "Close                    float64\n",
              "Volume                   float64\n",
              "fedfunds                 float64\n",
              "xau_usd                  float64\n",
              "GDP                      float64\n",
              "CPI                      float64\n",
              "Inflation_Rate           float64\n",
              "dtype: object"
            ]
          },
          "execution_count": 713,
          "metadata": {},
          "output_type": "execute_result"
        }
      ],
      "source": [
        "all_data.dtypes"
      ]
    },
    {
      "cell_type": "code",
      "execution_count": null,
      "metadata": {
        "colab": {
          "base_uri": "https://localhost:8080/"
        },
        "id": "mlgz6CBzhwx1",
        "outputId": "d7a79547-90ca-4412-a922-511451fa2f4b"
      },
      "outputs": [
        {
          "name": "stdout",
          "output_type": "stream",
          "text": [
            "<class 'pandas.core.frame.DataFrame'>\n",
            "RangeIndex: 8357 entries, 0 to 8356\n",
            "Data columns (total 8 columns):\n",
            " #   Column          Non-Null Count  Dtype         \n",
            "---  ------          --------------  -----         \n",
            " 0   Date            8357 non-null   datetime64[ns]\n",
            " 1   Close           8357 non-null   float64       \n",
            " 2   Volume          8357 non-null   float64       \n",
            " 3   fedfunds        8357 non-null   float64       \n",
            " 4   xau_usd         8357 non-null   float64       \n",
            " 5   GDP             8357 non-null   float64       \n",
            " 6   CPI             8357 non-null   float64       \n",
            " 7   Inflation_Rate  8357 non-null   float64       \n",
            "dtypes: datetime64[ns](1), float64(7)\n",
            "memory usage: 522.4 KB\n"
          ]
        }
      ],
      "source": [
        "all_data.info()"
      ]
    },
    {
      "cell_type": "code",
      "execution_count": null,
      "metadata": {
        "colab": {
          "base_uri": "https://localhost:8080/"
        },
        "id": "Pd5S6dndhwx2",
        "outputId": "6f6a22a1-2799-434c-b81e-0f6ee49f7afa"
      },
      "outputs": [
        {
          "data": {
            "text/html": [
              "<div>\n",
              "<style scoped>\n",
              "    .dataframe tbody tr th:only-of-type {\n",
              "        vertical-align: middle;\n",
              "    }\n",
              "\n",
              "    .dataframe tbody tr th {\n",
              "        vertical-align: top;\n",
              "    }\n",
              "\n",
              "    .dataframe thead th {\n",
              "        text-align: right;\n",
              "    }\n",
              "</style>\n",
              "<table border=\"1\" class=\"dataframe\">\n",
              "  <thead>\n",
              "    <tr style=\"text-align: right;\">\n",
              "      <th></th>\n",
              "      <th>Close</th>\n",
              "      <th>Volume</th>\n",
              "      <th>fedfunds</th>\n",
              "      <th>xau_usd</th>\n",
              "      <th>GDP</th>\n",
              "      <th>CPI</th>\n",
              "      <th>Inflation_Rate</th>\n",
              "    </tr>\n",
              "  </thead>\n",
              "  <tbody>\n",
              "    <tr>\n",
              "      <th>count</th>\n",
              "      <td>8357.000000</td>\n",
              "      <td>8.357000e+03</td>\n",
              "      <td>8357.000000</td>\n",
              "      <td>8357.000000</td>\n",
              "      <td>8357.000000</td>\n",
              "      <td>8357.000000</td>\n",
              "      <td>8357.000000</td>\n",
              "    </tr>\n",
              "    <tr>\n",
              "      <th>mean</th>\n",
              "      <td>2021.818987</td>\n",
              "      <td>1.213063e+09</td>\n",
              "      <td>3.549010</td>\n",
              "      <td>653.900360</td>\n",
              "      <td>38078.877457</td>\n",
              "      <td>179.390542</td>\n",
              "      <td>2.621790</td>\n",
              "    </tr>\n",
              "    <tr>\n",
              "      <th>std</th>\n",
              "      <td>1420.165013</td>\n",
              "      <td>8.426728e+08</td>\n",
              "      <td>2.759637</td>\n",
              "      <td>434.424919</td>\n",
              "      <td>12034.123978</td>\n",
              "      <td>40.434175</td>\n",
              "      <td>1.201917</td>\n",
              "    </tr>\n",
              "    <tr>\n",
              "      <th>min</th>\n",
              "      <td>291.899994</td>\n",
              "      <td>4.404000e+07</td>\n",
              "      <td>0.070000</td>\n",
              "      <td>252.350000</td>\n",
              "      <td>18864.605430</td>\n",
              "      <td>108.600000</td>\n",
              "      <td>-0.355546</td>\n",
              "    </tr>\n",
              "    <tr>\n",
              "      <th>25%</th>\n",
              "      <td>734.270020</td>\n",
              "      <td>2.731300e+08</td>\n",
              "      <td>0.400000</td>\n",
              "      <td>352.300000</td>\n",
              "      <td>26426.627895</td>\n",
              "      <td>145.800000</td>\n",
              "      <td>1.640043</td>\n",
              "    </tr>\n",
              "    <tr>\n",
              "      <th>50%</th>\n",
              "      <td>1900.569946</td>\n",
              "      <td>1.477150e+09</td>\n",
              "      <td>3.770000</td>\n",
              "      <td>403.300000</td>\n",
              "      <td>37180.340188</td>\n",
              "      <td>177.700000</td>\n",
              "      <td>2.805420</td>\n",
              "    </tr>\n",
              "    <tr>\n",
              "      <th>75%</th>\n",
              "      <td>2652.280029</td>\n",
              "      <td>1.901080e+09</td>\n",
              "      <td>5.540000</td>\n",
              "      <td>992.980000</td>\n",
              "      <td>48479.483133</td>\n",
              "      <td>216.687000</td>\n",
              "      <td>3.376857</td>\n",
              "    </tr>\n",
              "    <tr>\n",
              "      <th>max</th>\n",
              "      <td>6321.759766</td>\n",
              "      <td>4.553600e+09</td>\n",
              "      <td>9.850000</td>\n",
              "      <td>1901.340000</td>\n",
              "      <td>58031.414203</td>\n",
              "      <td>244.955000</td>\n",
              "      <td>5.397956</td>\n",
              "    </tr>\n",
              "  </tbody>\n",
              "</table>\n",
              "</div>"
            ],
            "text/plain": [
              "             Close        Volume  ...          CPI  Inflation_Rate\n",
              "count  8357.000000  8.357000e+03  ...  8357.000000     8357.000000\n",
              "mean   2021.818987  1.213063e+09  ...   179.390542        2.621790\n",
              "std    1420.165013  8.426728e+08  ...    40.434175        1.201917\n",
              "min     291.899994  4.404000e+07  ...   108.600000       -0.355546\n",
              "25%     734.270020  2.731300e+08  ...   145.800000        1.640043\n",
              "50%    1900.569946  1.477150e+09  ...   177.700000        2.805420\n",
              "75%    2652.280029  1.901080e+09  ...   216.687000        3.376857\n",
              "max    6321.759766  4.553600e+09  ...   244.955000        5.397956\n",
              "\n",
              "[8 rows x 7 columns]"
            ]
          },
          "execution_count": 715,
          "metadata": {},
          "output_type": "execute_result"
        }
      ],
      "source": [
        "all_data.describe()"
      ]
    },
    {
      "cell_type": "code",
      "execution_count": null,
      "metadata": {
        "colab": {
          "base_uri": "https://localhost:8080/"
        },
        "id": "pAgu35N-hwx2",
        "outputId": "a564d5e6-9fc3-414a-81a4-84604bf08224"
      },
      "outputs": [
        {
          "data": {
            "text/plain": [
              "(8357, 8)"
            ]
          },
          "execution_count": 716,
          "metadata": {},
          "output_type": "execute_result"
        }
      ],
      "source": [
        "all_data.shape"
      ]
    },
    {
      "cell_type": "code",
      "execution_count": null,
      "metadata": {
        "colab": {
          "base_uri": "https://localhost:8080/"
        },
        "id": "UVfcs-rfhwx2",
        "outputId": "2a23c934-2633-4ce2-eba9-409ec2617f37"
      },
      "outputs": [
        {
          "data": {
            "text/plain": [
              "(8357,)"
            ]
          },
          "execution_count": 717,
          "metadata": {},
          "output_type": "execute_result"
        }
      ],
      "source": [
        "all_data[\"Date\"].value_counts().shape    #kaç tane unique date var"
      ]
    },
    {
      "cell_type": "code",
      "execution_count": null,
      "metadata": {
        "colab": {
          "base_uri": "https://localhost:8080/"
        },
        "id": "iBrupO7hhwx3",
        "outputId": "414c6e6a-0326-4af7-9675-8eb56916865c"
      },
      "outputs": [
        {
          "name": "stdout",
          "output_type": "stream",
          "text": [
            "<class 'pandas.core.frame.DataFrame'>\n",
            "RangeIndex: 8357 entries, 0 to 8356\n",
            "Data columns (total 8 columns):\n",
            " #   Column          Non-Null Count  Dtype         \n",
            "---  ------          --------------  -----         \n",
            " 0   Date            8357 non-null   datetime64[ns]\n",
            " 1   Close           8357 non-null   float64       \n",
            " 2   Volume          8357 non-null   float64       \n",
            " 3   fedfunds        8357 non-null   float64       \n",
            " 4   xau_usd         8357 non-null   float64       \n",
            " 5   GDP             8357 non-null   float64       \n",
            " 6   CPI             8357 non-null   float64       \n",
            " 7   Inflation_Rate  8357 non-null   float64       \n",
            "dtypes: datetime64[ns](1), float64(7)\n",
            "memory usage: 522.4 KB\n"
          ]
        }
      ],
      "source": [
        "all_data.info()"
      ]
    },
    {
      "cell_type": "code",
      "execution_count": null,
      "metadata": {
        "id": "Odhv-Vm9hwx3"
      },
      "outputs": [],
      "source": []
    },
    {
      "cell_type": "code",
      "execution_count": null,
      "metadata": {
        "id": "7GnhpwyVhwx4"
      },
      "outputs": [],
      "source": [
        "# type(all_data[\"fedfunds\"])   :pandas serisi\n",
        "# type(all_data[[\"fedfunds\"]]) :dataframe serisi\n",
        "\n",
        "# all_data[[\"fedfunds\", \"GDP\"]]   :grup halinde almak\n",
        "\n",
        "# all_data[all_data[\"Date\"] == \"2011-01-05\"]    :direkt o tarihi ve degerleri dondurur\n",
        "\n",
        "# all_data[all_data[\"fedfunds\"] > 0.16]  :fedfunds degeri 0.16'dan buyuk olan tarihleri ve dataları dondurur"
      ]
    },
    {
      "cell_type": "code",
      "execution_count": null,
      "metadata": {
        "colab": {
          "base_uri": "https://localhost:8080/"
        },
        "id": "v5q5djTGUjD1",
        "outputId": "21c773a7-f733-4707-cbf0-9087c99eaad6"
      },
      "outputs": [
        {
          "data": {
            "text/html": [
              "<div>\n",
              "<style scoped>\n",
              "    .dataframe tbody tr th:only-of-type {\n",
              "        vertical-align: middle;\n",
              "    }\n",
              "\n",
              "    .dataframe tbody tr th {\n",
              "        vertical-align: top;\n",
              "    }\n",
              "\n",
              "    .dataframe thead th {\n",
              "        text-align: right;\n",
              "    }\n",
              "</style>\n",
              "<table border=\"1\" class=\"dataframe\">\n",
              "  <thead>\n",
              "    <tr style=\"text-align: right;\">\n",
              "      <th></th>\n",
              "      <th>Date</th>\n",
              "      <th>Close</th>\n",
              "      <th>Volume</th>\n",
              "      <th>fedfunds</th>\n",
              "      <th>xau_usd</th>\n",
              "      <th>GDP</th>\n",
              "      <th>CPI</th>\n",
              "      <th>Inflation_Rate</th>\n",
              "    </tr>\n",
              "  </thead>\n",
              "  <tbody>\n",
              "    <tr>\n",
              "      <th>0</th>\n",
              "      <td>1986-01-01</td>\n",
              "      <td>325.000000</td>\n",
              "      <td>7.581000e+07</td>\n",
              "      <td>8.14</td>\n",
              "      <td>328.90</td>\n",
              "      <td>18864.605430</td>\n",
              "      <td>109.600</td>\n",
              "      <td>1.898048</td>\n",
              "    </tr>\n",
              "    <tr>\n",
              "      <th>1</th>\n",
              "      <td>1986-01-02</td>\n",
              "      <td>325.000000</td>\n",
              "      <td>7.581000e+07</td>\n",
              "      <td>7.86</td>\n",
              "      <td>328.90</td>\n",
              "      <td>18864.605430</td>\n",
              "      <td>109.600</td>\n",
              "      <td>3.664563</td>\n",
              "    </tr>\n",
              "    <tr>\n",
              "      <th>2</th>\n",
              "      <td>1986-01-03</td>\n",
              "      <td>325.700012</td>\n",
              "      <td>8.918000e+07</td>\n",
              "      <td>7.86</td>\n",
              "      <td>330.00</td>\n",
              "      <td>18864.605430</td>\n",
              "      <td>109.600</td>\n",
              "      <td>3.664563</td>\n",
              "    </tr>\n",
              "    <tr>\n",
              "      <th>3</th>\n",
              "      <td>1986-01-06</td>\n",
              "      <td>326.000000</td>\n",
              "      <td>9.924000e+07</td>\n",
              "      <td>7.86</td>\n",
              "      <td>330.70</td>\n",
              "      <td>18864.605430</td>\n",
              "      <td>109.600</td>\n",
              "      <td>3.664563</td>\n",
              "    </tr>\n",
              "    <tr>\n",
              "      <th>4</th>\n",
              "      <td>1986-01-07</td>\n",
              "      <td>329.700012</td>\n",
              "      <td>1.275000e+08</td>\n",
              "      <td>7.86</td>\n",
              "      <td>332.80</td>\n",
              "      <td>18864.605430</td>\n",
              "      <td>109.600</td>\n",
              "      <td>3.664563</td>\n",
              "    </tr>\n",
              "    <tr>\n",
              "      <th>...</th>\n",
              "      <td>...</td>\n",
              "      <td>...</td>\n",
              "      <td>...</td>\n",
              "      <td>...</td>\n",
              "      <td>...</td>\n",
              "      <td>...</td>\n",
              "      <td>...</td>\n",
              "      <td>...</td>\n",
              "    </tr>\n",
              "    <tr>\n",
              "      <th>8352</th>\n",
              "      <td>2017-07-10</td>\n",
              "      <td>6176.390137</td>\n",
              "      <td>1.675470e+09</td>\n",
              "      <td>1.15</td>\n",
              "      <td>1214.39</td>\n",
              "      <td>58031.414203</td>\n",
              "      <td>244.955</td>\n",
              "      <td>2.130110</td>\n",
              "    </tr>\n",
              "    <tr>\n",
              "      <th>8353</th>\n",
              "      <td>2017-07-11</td>\n",
              "      <td>6193.299805</td>\n",
              "      <td>1.808110e+09</td>\n",
              "      <td>1.15</td>\n",
              "      <td>1218.18</td>\n",
              "      <td>58031.414203</td>\n",
              "      <td>244.955</td>\n",
              "      <td>2.130110</td>\n",
              "    </tr>\n",
              "    <tr>\n",
              "      <th>8354</th>\n",
              "      <td>2017-07-12</td>\n",
              "      <td>6261.169922</td>\n",
              "      <td>1.820550e+09</td>\n",
              "      <td>1.15</td>\n",
              "      <td>1218.29</td>\n",
              "      <td>58031.414203</td>\n",
              "      <td>244.955</td>\n",
              "      <td>2.130110</td>\n",
              "    </tr>\n",
              "    <tr>\n",
              "      <th>8355</th>\n",
              "      <td>2017-07-13</td>\n",
              "      <td>6274.439941</td>\n",
              "      <td>1.803810e+09</td>\n",
              "      <td>1.15</td>\n",
              "      <td>1217.57</td>\n",
              "      <td>58031.414203</td>\n",
              "      <td>244.955</td>\n",
              "      <td>2.130110</td>\n",
              "    </tr>\n",
              "    <tr>\n",
              "      <th>8356</th>\n",
              "      <td>2017-07-14</td>\n",
              "      <td>6312.470215</td>\n",
              "      <td>1.608120e+09</td>\n",
              "      <td>1.15</td>\n",
              "      <td>1228.47</td>\n",
              "      <td>58031.414203</td>\n",
              "      <td>244.955</td>\n",
              "      <td>2.130110</td>\n",
              "    </tr>\n",
              "  </tbody>\n",
              "</table>\n",
              "<p>8357 rows × 8 columns</p>\n",
              "</div>"
            ],
            "text/plain": [
              "           Date        Close  ...      CPI  Inflation_Rate\n",
              "0    1986-01-01   325.000000  ...  109.600        1.898048\n",
              "1    1986-01-02   325.000000  ...  109.600        3.664563\n",
              "2    1986-01-03   325.700012  ...  109.600        3.664563\n",
              "3    1986-01-06   326.000000  ...  109.600        3.664563\n",
              "4    1986-01-07   329.700012  ...  109.600        3.664563\n",
              "...         ...          ...  ...      ...             ...\n",
              "8352 2017-07-10  6176.390137  ...  244.955        2.130110\n",
              "8353 2017-07-11  6193.299805  ...  244.955        2.130110\n",
              "8354 2017-07-12  6261.169922  ...  244.955        2.130110\n",
              "8355 2017-07-13  6274.439941  ...  244.955        2.130110\n",
              "8356 2017-07-14  6312.470215  ...  244.955        2.130110\n",
              "\n",
              "[8357 rows x 8 columns]"
            ]
          },
          "execution_count": 720,
          "metadata": {},
          "output_type": "execute_result"
        }
      ],
      "source": [
        "all_data"
      ]
    },
    {
      "cell_type": "code",
      "execution_count": null,
      "metadata": {
        "id": "EiYpYBTUIPOz"
      },
      "outputs": [],
      "source": [
        "#all_data = all_data.drop(['CPI'], axis = 1)\n",
        "\n",
        "#all_data = all_data.drop(['CPI', 'GDP'], axis = 1)\n",
        "#all_data = all_data[all_data[\"Date\"] > \"2011-01-05\"] \n"
      ]
    },
    {
      "cell_type": "code",
      "execution_count": null,
      "metadata": {
        "colab": {
          "base_uri": "https://localhost:8080/"
        },
        "id": "Ud1ft_dcEEA7",
        "outputId": "556d539b-f163-4b28-c452-6ffa1e224c66"
      },
      "outputs": [
        {
          "data": {
            "text/plain": [
              "(23, 8)"
            ]
          },
          "execution_count": 722,
          "metadata": {},
          "output_type": "execute_result"
        }
      ],
      "source": [
        "next_real_30 =  all_data[all_data[\"Date\"] > \"2017-06-14\"] \n",
        "next_real_30.shape"
      ]
    },
    {
      "cell_type": "code",
      "execution_count": null,
      "metadata": {
        "colab": {
          "base_uri": "https://localhost:8080/"
        },
        "id": "V1jIcVUpEOg3",
        "outputId": "845e2bc6-d7d5-44d5-b60b-ed9cbd08de08"
      },
      "outputs": [
        {
          "data": {
            "text/html": [
              "<div>\n",
              "<style scoped>\n",
              "    .dataframe tbody tr th:only-of-type {\n",
              "        vertical-align: middle;\n",
              "    }\n",
              "\n",
              "    .dataframe tbody tr th {\n",
              "        vertical-align: top;\n",
              "    }\n",
              "\n",
              "    .dataframe thead th {\n",
              "        text-align: right;\n",
              "    }\n",
              "</style>\n",
              "<table border=\"1\" class=\"dataframe\">\n",
              "  <thead>\n",
              "    <tr style=\"text-align: right;\">\n",
              "      <th></th>\n",
              "      <th>Date</th>\n",
              "      <th>Close</th>\n",
              "      <th>Volume</th>\n",
              "      <th>fedfunds</th>\n",
              "      <th>xau_usd</th>\n",
              "      <th>GDP</th>\n",
              "      <th>CPI</th>\n",
              "      <th>Inflation_Rate</th>\n",
              "    </tr>\n",
              "  </thead>\n",
              "  <tbody>\n",
              "    <tr>\n",
              "      <th>0</th>\n",
              "      <td>1986-01-01</td>\n",
              "      <td>325.000000</td>\n",
              "      <td>7.581000e+07</td>\n",
              "      <td>8.14</td>\n",
              "      <td>328.90</td>\n",
              "      <td>18864.605430</td>\n",
              "      <td>109.600</td>\n",
              "      <td>1.898048</td>\n",
              "    </tr>\n",
              "    <tr>\n",
              "      <th>1</th>\n",
              "      <td>1986-01-02</td>\n",
              "      <td>325.000000</td>\n",
              "      <td>7.581000e+07</td>\n",
              "      <td>7.86</td>\n",
              "      <td>328.90</td>\n",
              "      <td>18864.605430</td>\n",
              "      <td>109.600</td>\n",
              "      <td>3.664563</td>\n",
              "    </tr>\n",
              "    <tr>\n",
              "      <th>2</th>\n",
              "      <td>1986-01-03</td>\n",
              "      <td>325.700012</td>\n",
              "      <td>8.918000e+07</td>\n",
              "      <td>7.86</td>\n",
              "      <td>330.00</td>\n",
              "      <td>18864.605430</td>\n",
              "      <td>109.600</td>\n",
              "      <td>3.664563</td>\n",
              "    </tr>\n",
              "    <tr>\n",
              "      <th>3</th>\n",
              "      <td>1986-01-06</td>\n",
              "      <td>326.000000</td>\n",
              "      <td>9.924000e+07</td>\n",
              "      <td>7.86</td>\n",
              "      <td>330.70</td>\n",
              "      <td>18864.605430</td>\n",
              "      <td>109.600</td>\n",
              "      <td>3.664563</td>\n",
              "    </tr>\n",
              "    <tr>\n",
              "      <th>4</th>\n",
              "      <td>1986-01-07</td>\n",
              "      <td>329.700012</td>\n",
              "      <td>1.275000e+08</td>\n",
              "      <td>7.86</td>\n",
              "      <td>332.80</td>\n",
              "      <td>18864.605430</td>\n",
              "      <td>109.600</td>\n",
              "      <td>3.664563</td>\n",
              "    </tr>\n",
              "    <tr>\n",
              "      <th>...</th>\n",
              "      <td>...</td>\n",
              "      <td>...</td>\n",
              "      <td>...</td>\n",
              "      <td>...</td>\n",
              "      <td>...</td>\n",
              "      <td>...</td>\n",
              "      <td>...</td>\n",
              "      <td>...</td>\n",
              "    </tr>\n",
              "    <tr>\n",
              "      <th>8329</th>\n",
              "      <td>2017-06-08</td>\n",
              "      <td>6321.759766</td>\n",
              "      <td>2.128780e+09</td>\n",
              "      <td>1.15</td>\n",
              "      <td>1277.27</td>\n",
              "      <td>58031.414203</td>\n",
              "      <td>244.955</td>\n",
              "      <td>2.130110</td>\n",
              "    </tr>\n",
              "    <tr>\n",
              "      <th>8330</th>\n",
              "      <td>2017-06-09</td>\n",
              "      <td>6207.919922</td>\n",
              "      <td>3.152050e+09</td>\n",
              "      <td>1.15</td>\n",
              "      <td>1267.65</td>\n",
              "      <td>58031.414203</td>\n",
              "      <td>244.955</td>\n",
              "      <td>2.130110</td>\n",
              "    </tr>\n",
              "    <tr>\n",
              "      <th>8331</th>\n",
              "      <td>2017-06-12</td>\n",
              "      <td>6175.459961</td>\n",
              "      <td>2.586540e+09</td>\n",
              "      <td>1.15</td>\n",
              "      <td>1266.19</td>\n",
              "      <td>58031.414203</td>\n",
              "      <td>244.955</td>\n",
              "      <td>2.130110</td>\n",
              "    </tr>\n",
              "    <tr>\n",
              "      <th>8332</th>\n",
              "      <td>2017-06-13</td>\n",
              "      <td>6220.370117</td>\n",
              "      <td>2.062110e+09</td>\n",
              "      <td>1.15</td>\n",
              "      <td>1266.31</td>\n",
              "      <td>58031.414203</td>\n",
              "      <td>244.955</td>\n",
              "      <td>2.130110</td>\n",
              "    </tr>\n",
              "    <tr>\n",
              "      <th>8333</th>\n",
              "      <td>2017-06-14</td>\n",
              "      <td>6194.890137</td>\n",
              "      <td>1.940440e+09</td>\n",
              "      <td>1.15</td>\n",
              "      <td>1261.26</td>\n",
              "      <td>58031.414203</td>\n",
              "      <td>244.955</td>\n",
              "      <td>2.130110</td>\n",
              "    </tr>\n",
              "  </tbody>\n",
              "</table>\n",
              "<p>8334 rows × 8 columns</p>\n",
              "</div>"
            ],
            "text/plain": [
              "           Date        Close  ...      CPI  Inflation_Rate\n",
              "0    1986-01-01   325.000000  ...  109.600        1.898048\n",
              "1    1986-01-02   325.000000  ...  109.600        3.664563\n",
              "2    1986-01-03   325.700012  ...  109.600        3.664563\n",
              "3    1986-01-06   326.000000  ...  109.600        3.664563\n",
              "4    1986-01-07   329.700012  ...  109.600        3.664563\n",
              "...         ...          ...  ...      ...             ...\n",
              "8329 2017-06-08  6321.759766  ...  244.955        2.130110\n",
              "8330 2017-06-09  6207.919922  ...  244.955        2.130110\n",
              "8331 2017-06-12  6175.459961  ...  244.955        2.130110\n",
              "8332 2017-06-13  6220.370117  ...  244.955        2.130110\n",
              "8333 2017-06-14  6194.890137  ...  244.955        2.130110\n",
              "\n",
              "[8334 rows x 8 columns]"
            ]
          },
          "execution_count": 723,
          "metadata": {},
          "output_type": "execute_result"
        }
      ],
      "source": [
        "all_data = all_data[all_data[\"Date\"] < \"2017-06-15\"] \n",
        "all_data"
      ]
    },
    {
      "cell_type": "markdown",
      "metadata": {
        "id": "PnJXUbnxcVWD"
      },
      "source": [
        "# To update index with Date"
      ]
    },
    {
      "cell_type": "code",
      "execution_count": null,
      "metadata": {
        "id": "OlxtBf7Q7eZR"
      },
      "outputs": [],
      "source": [
        "# multi_data1 = all_data.drop([\"fedfunds\",\t\"xau_usd\", \"GDP\",\t\"CPI\",\t\"Inflation_Rate\"], axis = 1)\n",
        "# multi_data1 = multi_data1.set_index('Date')\n",
        "# multi_data1"
      ]
    },
    {
      "cell_type": "markdown",
      "metadata": {
        "id": "cCSvge0vBFRN"
      },
      "source": [
        "# Date array"
      ]
    },
    {
      "cell_type": "code",
      "execution_count": null,
      "metadata": {
        "colab": {
          "base_uri": "https://localhost:8080/"
        },
        "id": "8LSMsAEDBLLd",
        "outputId": "3875e20e-fff7-4b97-9924-8be4a79da882"
      },
      "outputs": [
        {
          "data": {
            "text/plain": [
              "0      1986-01-01\n",
              "1      1986-01-02\n",
              "2      1986-01-03\n",
              "3      1986-01-06\n",
              "4      1986-01-07\n",
              "          ...    \n",
              "8329   2017-06-08\n",
              "8330   2017-06-09\n",
              "8331   2017-06-12\n",
              "8332   2017-06-13\n",
              "8333   2017-06-14\n",
              "Name: Date, Length: 8334, dtype: datetime64[ns]"
            ]
          },
          "execution_count": 725,
          "metadata": {},
          "output_type": "execute_result"
        }
      ],
      "source": [
        "data_dates = all_data['Date']\n",
        "data_dates"
      ]
    },
    {
      "cell_type": "markdown",
      "metadata": {
        "id": "EoTPleWtdf1D"
      },
      "source": [
        "# Multivariate Test"
      ]
    },
    {
      "cell_type": "markdown",
      "metadata": {
        "id": "zaUTBZM6dk_r"
      },
      "source": [
        "Source: https://machinelearningmastery.com/multivariate-time-series-forecasting-lstms-keras/"
      ]
    },
    {
      "cell_type": "code",
      "execution_count": null,
      "metadata": {
        "id": "jXsgvoLjjer6"
      },
      "outputs": [],
      "source": [
        "from math import sqrt\n",
        "from numpy import concatenate\n",
        "from matplotlib import pyplot\n",
        "from pandas import read_csv\n",
        "from pandas import DataFrame\n",
        "from pandas import concat\n",
        "from sklearn.preprocessing import MinMaxScaler\n",
        "from sklearn.preprocessing import LabelEncoder\n",
        "from sklearn.metrics import mean_squared_error\n",
        "from keras.models import Sequential\n",
        "from keras.layers import Dense\n",
        "from keras.layers import LSTM"
      ]
    },
    {
      "cell_type": "code",
      "execution_count": null,
      "metadata": {
        "colab": {
          "base_uri": "https://localhost:8080/",
          "height": 445
        },
        "id": "eKCvFgs5W758",
        "outputId": "a26d9514-cc72-4743-fc88-964a32a661c7"
      },
      "outputs": [
        {
          "data": {
            "text/html": [
              "<div>\n",
              "<style scoped>\n",
              "    .dataframe tbody tr th:only-of-type {\n",
              "        vertical-align: middle;\n",
              "    }\n",
              "\n",
              "    .dataframe tbody tr th {\n",
              "        vertical-align: top;\n",
              "    }\n",
              "\n",
              "    .dataframe thead th {\n",
              "        text-align: right;\n",
              "    }\n",
              "</style>\n",
              "<table border=\"1\" class=\"dataframe\">\n",
              "  <thead>\n",
              "    <tr style=\"text-align: right;\">\n",
              "      <th></th>\n",
              "      <th>Close</th>\n",
              "      <th>GDP</th>\n",
              "      <th>Inflation_Rate</th>\n",
              "    </tr>\n",
              "    <tr>\n",
              "      <th>Date</th>\n",
              "      <th></th>\n",
              "      <th></th>\n",
              "      <th></th>\n",
              "    </tr>\n",
              "  </thead>\n",
              "  <tbody>\n",
              "    <tr>\n",
              "      <th>1986-01-01</th>\n",
              "      <td>325.000000</td>\n",
              "      <td>18864.605430</td>\n",
              "      <td>1.898048</td>\n",
              "    </tr>\n",
              "    <tr>\n",
              "      <th>1986-01-02</th>\n",
              "      <td>325.000000</td>\n",
              "      <td>18864.605430</td>\n",
              "      <td>3.664563</td>\n",
              "    </tr>\n",
              "    <tr>\n",
              "      <th>1986-01-03</th>\n",
              "      <td>325.700012</td>\n",
              "      <td>18864.605430</td>\n",
              "      <td>3.664563</td>\n",
              "    </tr>\n",
              "    <tr>\n",
              "      <th>1986-01-06</th>\n",
              "      <td>326.000000</td>\n",
              "      <td>18864.605430</td>\n",
              "      <td>3.664563</td>\n",
              "    </tr>\n",
              "    <tr>\n",
              "      <th>1986-01-07</th>\n",
              "      <td>329.700012</td>\n",
              "      <td>18864.605430</td>\n",
              "      <td>3.664563</td>\n",
              "    </tr>\n",
              "    <tr>\n",
              "      <th>...</th>\n",
              "      <td>...</td>\n",
              "      <td>...</td>\n",
              "      <td>...</td>\n",
              "    </tr>\n",
              "    <tr>\n",
              "      <th>2017-06-08</th>\n",
              "      <td>6321.759766</td>\n",
              "      <td>58031.414203</td>\n",
              "      <td>2.130110</td>\n",
              "    </tr>\n",
              "    <tr>\n",
              "      <th>2017-06-09</th>\n",
              "      <td>6207.919922</td>\n",
              "      <td>58031.414203</td>\n",
              "      <td>2.130110</td>\n",
              "    </tr>\n",
              "    <tr>\n",
              "      <th>2017-06-12</th>\n",
              "      <td>6175.459961</td>\n",
              "      <td>58031.414203</td>\n",
              "      <td>2.130110</td>\n",
              "    </tr>\n",
              "    <tr>\n",
              "      <th>2017-06-13</th>\n",
              "      <td>6220.370117</td>\n",
              "      <td>58031.414203</td>\n",
              "      <td>2.130110</td>\n",
              "    </tr>\n",
              "    <tr>\n",
              "      <th>2017-06-14</th>\n",
              "      <td>6194.890137</td>\n",
              "      <td>58031.414203</td>\n",
              "      <td>2.130110</td>\n",
              "    </tr>\n",
              "  </tbody>\n",
              "</table>\n",
              "<p>8334 rows × 3 columns</p>\n",
              "</div>"
            ],
            "text/plain": [
              "                  Close           GDP  Inflation_Rate\n",
              "Date                                                 \n",
              "1986-01-01   325.000000  18864.605430        1.898048\n",
              "1986-01-02   325.000000  18864.605430        3.664563\n",
              "1986-01-03   325.700012  18864.605430        3.664563\n",
              "1986-01-06   326.000000  18864.605430        3.664563\n",
              "1986-01-07   329.700012  18864.605430        3.664563\n",
              "...                 ...           ...             ...\n",
              "2017-06-08  6321.759766  58031.414203        2.130110\n",
              "2017-06-09  6207.919922  58031.414203        2.130110\n",
              "2017-06-12  6175.459961  58031.414203        2.130110\n",
              "2017-06-13  6220.370117  58031.414203        2.130110\n",
              "2017-06-14  6194.890137  58031.414203        2.130110\n",
              "\n",
              "[8334 rows x 3 columns]"
            ]
          },
          "execution_count": 727,
          "metadata": {},
          "output_type": "execute_result"
        }
      ],
      "source": [
        "multi_data1 = all_data.drop([\"Volume\",\"fedfunds\",\t\"CPI\",\"xau_usd\"], axis = 1)\n",
        "multi_data1 = multi_data1.set_index('Date')\n",
        "multi_data1"
      ]
    },
    {
      "cell_type": "code",
      "execution_count": null,
      "metadata": {
        "id": "R9lmLt3CW72c"
      },
      "outputs": [],
      "source": [
        "multi_data1.index.name = 'date'"
      ]
    },
    {
      "cell_type": "code",
      "execution_count": null,
      "metadata": {
        "colab": {
          "base_uri": "https://localhost:8080/",
          "height": 445
        },
        "id": "e0TpZdT-eutb",
        "outputId": "1931b9f9-ed91-41ae-bf5b-60bdb308c3d0"
      },
      "outputs": [
        {
          "data": {
            "text/html": [
              "<div>\n",
              "<style scoped>\n",
              "    .dataframe tbody tr th:only-of-type {\n",
              "        vertical-align: middle;\n",
              "    }\n",
              "\n",
              "    .dataframe tbody tr th {\n",
              "        vertical-align: top;\n",
              "    }\n",
              "\n",
              "    .dataframe thead th {\n",
              "        text-align: right;\n",
              "    }\n",
              "</style>\n",
              "<table border=\"1\" class=\"dataframe\">\n",
              "  <thead>\n",
              "    <tr style=\"text-align: right;\">\n",
              "      <th></th>\n",
              "      <th>Close</th>\n",
              "      <th>GDP</th>\n",
              "      <th>Inflation_Rate</th>\n",
              "    </tr>\n",
              "    <tr>\n",
              "      <th>date</th>\n",
              "      <th></th>\n",
              "      <th></th>\n",
              "      <th></th>\n",
              "    </tr>\n",
              "  </thead>\n",
              "  <tbody>\n",
              "    <tr>\n",
              "      <th>1986-01-01</th>\n",
              "      <td>325.000000</td>\n",
              "      <td>18864.605430</td>\n",
              "      <td>1.898048</td>\n",
              "    </tr>\n",
              "    <tr>\n",
              "      <th>1986-01-02</th>\n",
              "      <td>325.000000</td>\n",
              "      <td>18864.605430</td>\n",
              "      <td>3.664563</td>\n",
              "    </tr>\n",
              "    <tr>\n",
              "      <th>1986-01-03</th>\n",
              "      <td>325.700012</td>\n",
              "      <td>18864.605430</td>\n",
              "      <td>3.664563</td>\n",
              "    </tr>\n",
              "    <tr>\n",
              "      <th>1986-01-06</th>\n",
              "      <td>326.000000</td>\n",
              "      <td>18864.605430</td>\n",
              "      <td>3.664563</td>\n",
              "    </tr>\n",
              "    <tr>\n",
              "      <th>1986-01-07</th>\n",
              "      <td>329.700012</td>\n",
              "      <td>18864.605430</td>\n",
              "      <td>3.664563</td>\n",
              "    </tr>\n",
              "    <tr>\n",
              "      <th>...</th>\n",
              "      <td>...</td>\n",
              "      <td>...</td>\n",
              "      <td>...</td>\n",
              "    </tr>\n",
              "    <tr>\n",
              "      <th>2017-06-08</th>\n",
              "      <td>6321.759766</td>\n",
              "      <td>58031.414203</td>\n",
              "      <td>2.130110</td>\n",
              "    </tr>\n",
              "    <tr>\n",
              "      <th>2017-06-09</th>\n",
              "      <td>6207.919922</td>\n",
              "      <td>58031.414203</td>\n",
              "      <td>2.130110</td>\n",
              "    </tr>\n",
              "    <tr>\n",
              "      <th>2017-06-12</th>\n",
              "      <td>6175.459961</td>\n",
              "      <td>58031.414203</td>\n",
              "      <td>2.130110</td>\n",
              "    </tr>\n",
              "    <tr>\n",
              "      <th>2017-06-13</th>\n",
              "      <td>6220.370117</td>\n",
              "      <td>58031.414203</td>\n",
              "      <td>2.130110</td>\n",
              "    </tr>\n",
              "    <tr>\n",
              "      <th>2017-06-14</th>\n",
              "      <td>6194.890137</td>\n",
              "      <td>58031.414203</td>\n",
              "      <td>2.130110</td>\n",
              "    </tr>\n",
              "  </tbody>\n",
              "</table>\n",
              "<p>8334 rows × 3 columns</p>\n",
              "</div>"
            ],
            "text/plain": [
              "                  Close           GDP  Inflation_Rate\n",
              "date                                                 \n",
              "1986-01-01   325.000000  18864.605430        1.898048\n",
              "1986-01-02   325.000000  18864.605430        3.664563\n",
              "1986-01-03   325.700012  18864.605430        3.664563\n",
              "1986-01-06   326.000000  18864.605430        3.664563\n",
              "1986-01-07   329.700012  18864.605430        3.664563\n",
              "...                 ...           ...             ...\n",
              "2017-06-08  6321.759766  58031.414203        2.130110\n",
              "2017-06-09  6207.919922  58031.414203        2.130110\n",
              "2017-06-12  6175.459961  58031.414203        2.130110\n",
              "2017-06-13  6220.370117  58031.414203        2.130110\n",
              "2017-06-14  6194.890137  58031.414203        2.130110\n",
              "\n",
              "[8334 rows x 3 columns]"
            ]
          },
          "execution_count": 729,
          "metadata": {},
          "output_type": "execute_result"
        }
      ],
      "source": [
        "multi_data1"
      ]
    },
    {
      "cell_type": "code",
      "execution_count": null,
      "metadata": {
        "colab": {
          "base_uri": "https://localhost:8080/"
        },
        "id": "bUTDbMjXevvn",
        "outputId": "fdecb943-95c0-4556-c1ea-e3808217f7e1"
      },
      "outputs": [
        {
          "name": "stdout",
          "output_type": "stream",
          "text": [
            "<class 'pandas.core.frame.DataFrame'>\n",
            "DatetimeIndex: 8334 entries, 1986-01-01 to 2017-06-14\n",
            "Data columns (total 3 columns):\n",
            " #   Column          Non-Null Count  Dtype  \n",
            "---  ------          --------------  -----  \n",
            " 0   Close           8334 non-null   float64\n",
            " 1   GDP             8334 non-null   float64\n",
            " 2   Inflation_Rate  8334 non-null   float64\n",
            "dtypes: float64(3)\n",
            "memory usage: 260.4 KB\n"
          ]
        }
      ],
      "source": [
        "multi_data1.info()"
      ]
    },
    {
      "cell_type": "code",
      "execution_count": null,
      "metadata": {
        "colab": {
          "base_uri": "https://localhost:8080/",
          "height": 445
        },
        "id": "07WdooVNg8wL",
        "outputId": "1eb13071-3c96-4a3f-92a8-cfab5f0712a5"
      },
      "outputs": [
        {
          "data": {
            "text/html": [
              "<div>\n",
              "<style scoped>\n",
              "    .dataframe tbody tr th:only-of-type {\n",
              "        vertical-align: middle;\n",
              "    }\n",
              "\n",
              "    .dataframe tbody tr th {\n",
              "        vertical-align: top;\n",
              "    }\n",
              "\n",
              "    .dataframe thead th {\n",
              "        text-align: right;\n",
              "    }\n",
              "</style>\n",
              "<table border=\"1\" class=\"dataframe\">\n",
              "  <thead>\n",
              "    <tr style=\"text-align: right;\">\n",
              "      <th></th>\n",
              "      <th>Close</th>\n",
              "      <th>GDP</th>\n",
              "      <th>Inflation_Rate</th>\n",
              "    </tr>\n",
              "    <tr>\n",
              "      <th>date</th>\n",
              "      <th></th>\n",
              "      <th></th>\n",
              "      <th></th>\n",
              "    </tr>\n",
              "  </thead>\n",
              "  <tbody>\n",
              "    <tr>\n",
              "      <th>1986-01-01</th>\n",
              "      <td>325.000000</td>\n",
              "      <td>18864.605430</td>\n",
              "      <td>1.898048</td>\n",
              "    </tr>\n",
              "    <tr>\n",
              "      <th>1986-01-02</th>\n",
              "      <td>325.000000</td>\n",
              "      <td>18864.605430</td>\n",
              "      <td>3.664563</td>\n",
              "    </tr>\n",
              "    <tr>\n",
              "      <th>1986-01-03</th>\n",
              "      <td>325.700012</td>\n",
              "      <td>18864.605430</td>\n",
              "      <td>3.664563</td>\n",
              "    </tr>\n",
              "    <tr>\n",
              "      <th>1986-01-06</th>\n",
              "      <td>326.000000</td>\n",
              "      <td>18864.605430</td>\n",
              "      <td>3.664563</td>\n",
              "    </tr>\n",
              "    <tr>\n",
              "      <th>1986-01-07</th>\n",
              "      <td>329.700012</td>\n",
              "      <td>18864.605430</td>\n",
              "      <td>3.664563</td>\n",
              "    </tr>\n",
              "    <tr>\n",
              "      <th>...</th>\n",
              "      <td>...</td>\n",
              "      <td>...</td>\n",
              "      <td>...</td>\n",
              "    </tr>\n",
              "    <tr>\n",
              "      <th>2017-06-08</th>\n",
              "      <td>6321.759766</td>\n",
              "      <td>58031.414203</td>\n",
              "      <td>2.130110</td>\n",
              "    </tr>\n",
              "    <tr>\n",
              "      <th>2017-06-09</th>\n",
              "      <td>6207.919922</td>\n",
              "      <td>58031.414203</td>\n",
              "      <td>2.130110</td>\n",
              "    </tr>\n",
              "    <tr>\n",
              "      <th>2017-06-12</th>\n",
              "      <td>6175.459961</td>\n",
              "      <td>58031.414203</td>\n",
              "      <td>2.130110</td>\n",
              "    </tr>\n",
              "    <tr>\n",
              "      <th>2017-06-13</th>\n",
              "      <td>6220.370117</td>\n",
              "      <td>58031.414203</td>\n",
              "      <td>2.130110</td>\n",
              "    </tr>\n",
              "    <tr>\n",
              "      <th>2017-06-14</th>\n",
              "      <td>6194.890137</td>\n",
              "      <td>58031.414203</td>\n",
              "      <td>2.130110</td>\n",
              "    </tr>\n",
              "  </tbody>\n",
              "</table>\n",
              "<p>8334 rows × 3 columns</p>\n",
              "</div>"
            ],
            "text/plain": [
              "                  Close           GDP  Inflation_Rate\n",
              "date                                                 \n",
              "1986-01-01   325.000000  18864.605430        1.898048\n",
              "1986-01-02   325.000000  18864.605430        3.664563\n",
              "1986-01-03   325.700012  18864.605430        3.664563\n",
              "1986-01-06   326.000000  18864.605430        3.664563\n",
              "1986-01-07   329.700012  18864.605430        3.664563\n",
              "...                 ...           ...             ...\n",
              "2017-06-08  6321.759766  58031.414203        2.130110\n",
              "2017-06-09  6207.919922  58031.414203        2.130110\n",
              "2017-06-12  6175.459961  58031.414203        2.130110\n",
              "2017-06-13  6220.370117  58031.414203        2.130110\n",
              "2017-06-14  6194.890137  58031.414203        2.130110\n",
              "\n",
              "[8334 rows x 3 columns]"
            ]
          },
          "execution_count": 731,
          "metadata": {},
          "output_type": "execute_result"
        }
      ],
      "source": [
        "multi_data1"
      ]
    },
    {
      "cell_type": "code",
      "execution_count": null,
      "metadata": {
        "id": "tim2e3ksg-Ua"
      },
      "outputs": [],
      "source": [
        "multi_data2 = multi_data1"
      ]
    },
    {
      "cell_type": "code",
      "execution_count": null,
      "metadata": {
        "id": "CqmiZTtnfVvG"
      },
      "outputs": [],
      "source": [
        "# prepare data for lstm\n",
        "from pandas import DataFrame\n",
        "from pandas import concat\n",
        "from sklearn.preprocessing import LabelEncoder\n",
        "from sklearn.preprocessing import MinMaxScaler\n",
        "\n",
        "# convert series to supervised learning\n",
        "def series_to_supervised(data, n_in=1, n_out=1, dropnan=True):\n",
        "\tn_vars = 1 if type(data) is list else data.shape[1]\n",
        "\tdf = DataFrame(data)\n",
        "\tcols, names = list(), list()\n",
        "\t# input sequence (t-n, ... t-1)\n",
        "\tfor i in range(n_in, 0, -1):\n",
        "\t\tcols.append(df.shift(i))\n",
        "\t\tnames += [('var%d(t-%d)' % (j+1, i)) for j in range(n_vars)]\n",
        "\t# forecast sequence (t, t+1, ... t+n)\n",
        "\tfor i in range(0, n_out):\n",
        "\t\tcols.append(df.shift(-i))\n",
        "\t\tif i == 0:\n",
        "\t\t\tnames += [('var%d(t)' % (j+1)) for j in range(n_vars)]\n",
        "\t\telse:\n",
        "\t\t\tnames += [('var%d(t+%d)' % (j+1, i)) for j in range(n_vars)]\n",
        "\t# put it all together\n",
        "\tagg = concat(cols, axis=1)\n",
        "\tagg.columns = names\n",
        "\t# drop rows with NaN values\n",
        "\tif dropnan:\n",
        "\t\tagg.dropna(inplace=True)\n",
        "\treturn agg\n",
        "\n",
        "# load dataset\n",
        "dataset = multi_data1\n",
        "values = dataset.values\n",
        "# ensure all data is float\n",
        "values = values.astype('float32')\n",
        "# normalize features\n",
        "scaler = MinMaxScaler(feature_range=(0, 1))\n",
        "scaled = scaler.fit_transform(values)\n",
        "# frame as supervised learning\n",
        "reframed = series_to_supervised(scaled, 1, 1)\n",
        "# drop columns we don't want to predict\n",
        "#reframed.drop(reframed.columns[[9,10,11,12,13,14,15]], axis=1, inplace=True)\n",
        "#print(reframed.head())"
      ]
    },
    {
      "cell_type": "code",
      "execution_count": null,
      "metadata": {
        "colab": {
          "base_uri": "https://localhost:8080/",
          "height": 414
        },
        "id": "Bh46VIlfhQGr",
        "outputId": "6a6783ca-61a0-4152-c3e4-f170db8b6c16"
      },
      "outputs": [
        {
          "data": {
            "text/html": [
              "<div>\n",
              "<style scoped>\n",
              "    .dataframe tbody tr th:only-of-type {\n",
              "        vertical-align: middle;\n",
              "    }\n",
              "\n",
              "    .dataframe tbody tr th {\n",
              "        vertical-align: top;\n",
              "    }\n",
              "\n",
              "    .dataframe thead th {\n",
              "        text-align: right;\n",
              "    }\n",
              "</style>\n",
              "<table border=\"1\" class=\"dataframe\">\n",
              "  <thead>\n",
              "    <tr style=\"text-align: right;\">\n",
              "      <th></th>\n",
              "      <th>var1(t-1)</th>\n",
              "      <th>var2(t-1)</th>\n",
              "      <th>var3(t-1)</th>\n",
              "      <th>var1(t)</th>\n",
              "      <th>var2(t)</th>\n",
              "      <th>var3(t)</th>\n",
              "    </tr>\n",
              "  </thead>\n",
              "  <tbody>\n",
              "    <tr>\n",
              "      <th>1</th>\n",
              "      <td>0.005489</td>\n",
              "      <td>0.0</td>\n",
              "      <td>0.391691</td>\n",
              "      <td>0.005489</td>\n",
              "      <td>0.0</td>\n",
              "      <td>0.698724</td>\n",
              "    </tr>\n",
              "    <tr>\n",
              "      <th>2</th>\n",
              "      <td>0.005489</td>\n",
              "      <td>0.0</td>\n",
              "      <td>0.698724</td>\n",
              "      <td>0.005605</td>\n",
              "      <td>0.0</td>\n",
              "      <td>0.698724</td>\n",
              "    </tr>\n",
              "    <tr>\n",
              "      <th>3</th>\n",
              "      <td>0.005605</td>\n",
              "      <td>0.0</td>\n",
              "      <td>0.698724</td>\n",
              "      <td>0.005655</td>\n",
              "      <td>0.0</td>\n",
              "      <td>0.698724</td>\n",
              "    </tr>\n",
              "    <tr>\n",
              "      <th>4</th>\n",
              "      <td>0.005655</td>\n",
              "      <td>0.0</td>\n",
              "      <td>0.698724</td>\n",
              "      <td>0.006269</td>\n",
              "      <td>0.0</td>\n",
              "      <td>0.698724</td>\n",
              "    </tr>\n",
              "    <tr>\n",
              "      <th>5</th>\n",
              "      <td>0.006269</td>\n",
              "      <td>0.0</td>\n",
              "      <td>0.698724</td>\n",
              "      <td>0.006003</td>\n",
              "      <td>0.0</td>\n",
              "      <td>0.698724</td>\n",
              "    </tr>\n",
              "    <tr>\n",
              "      <th>...</th>\n",
              "      <td>...</td>\n",
              "      <td>...</td>\n",
              "      <td>...</td>\n",
              "      <td>...</td>\n",
              "      <td>...</td>\n",
              "      <td>...</td>\n",
              "    </tr>\n",
              "    <tr>\n",
              "      <th>8329</th>\n",
              "      <td>0.995957</td>\n",
              "      <td>1.0</td>\n",
              "      <td>0.432025</td>\n",
              "      <td>1.000000</td>\n",
              "      <td>1.0</td>\n",
              "      <td>0.432025</td>\n",
              "    </tr>\n",
              "    <tr>\n",
              "      <th>8330</th>\n",
              "      <td>1.000000</td>\n",
              "      <td>1.0</td>\n",
              "      <td>0.432025</td>\n",
              "      <td>0.981121</td>\n",
              "      <td>1.0</td>\n",
              "      <td>0.432025</td>\n",
              "    </tr>\n",
              "    <tr>\n",
              "      <th>8331</th>\n",
              "      <td>0.981121</td>\n",
              "      <td>1.0</td>\n",
              "      <td>0.432025</td>\n",
              "      <td>0.975737</td>\n",
              "      <td>1.0</td>\n",
              "      <td>0.432025</td>\n",
              "    </tr>\n",
              "    <tr>\n",
              "      <th>8332</th>\n",
              "      <td>0.975737</td>\n",
              "      <td>1.0</td>\n",
              "      <td>0.432025</td>\n",
              "      <td>0.983185</td>\n",
              "      <td>1.0</td>\n",
              "      <td>0.432025</td>\n",
              "    </tr>\n",
              "    <tr>\n",
              "      <th>8333</th>\n",
              "      <td>0.983185</td>\n",
              "      <td>1.0</td>\n",
              "      <td>0.432025</td>\n",
              "      <td>0.978960</td>\n",
              "      <td>1.0</td>\n",
              "      <td>0.432025</td>\n",
              "    </tr>\n",
              "  </tbody>\n",
              "</table>\n",
              "<p>8333 rows × 6 columns</p>\n",
              "</div>"
            ],
            "text/plain": [
              "      var1(t-1)  var2(t-1)  var3(t-1)   var1(t)  var2(t)   var3(t)\n",
              "1      0.005489        0.0   0.391691  0.005489      0.0  0.698724\n",
              "2      0.005489        0.0   0.698724  0.005605      0.0  0.698724\n",
              "3      0.005605        0.0   0.698724  0.005655      0.0  0.698724\n",
              "4      0.005655        0.0   0.698724  0.006269      0.0  0.698724\n",
              "5      0.006269        0.0   0.698724  0.006003      0.0  0.698724\n",
              "...         ...        ...        ...       ...      ...       ...\n",
              "8329   0.995957        1.0   0.432025  1.000000      1.0  0.432025\n",
              "8330   1.000000        1.0   0.432025  0.981121      1.0  0.432025\n",
              "8331   0.981121        1.0   0.432025  0.975737      1.0  0.432025\n",
              "8332   0.975737        1.0   0.432025  0.983185      1.0  0.432025\n",
              "8333   0.983185        1.0   0.432025  0.978960      1.0  0.432025\n",
              "\n",
              "[8333 rows x 6 columns]"
            ]
          },
          "execution_count": 734,
          "metadata": {},
          "output_type": "execute_result"
        }
      ],
      "source": [
        "reframed"
      ]
    },
    {
      "cell_type": "code",
      "execution_count": null,
      "metadata": {
        "colab": {
          "base_uri": "https://localhost:8080/"
        },
        "id": "gE-FTSaphRRT",
        "outputId": "63353645-fb0f-442f-d842-ee75cde3b23b"
      },
      "outputs": [
        {
          "name": "stdout",
          "output_type": "stream",
          "text": [
            "   var1(t-1)  var2(t-1)  var3(t-1)   var1(t)\n",
            "1   0.005489        0.0   0.391691  0.005489\n",
            "2   0.005489        0.0   0.698724  0.005605\n",
            "3   0.005605        0.0   0.698724  0.005655\n",
            "4   0.005655        0.0   0.698724  0.006269\n",
            "5   0.006269        0.0   0.698724  0.006003\n"
          ]
        }
      ],
      "source": [
        "# drop columns we don't want to predict\n",
        "reframed.drop(reframed.columns[[4,5]], axis=1, inplace=True)\n",
        "print(reframed.head())"
      ]
    },
    {
      "cell_type": "code",
      "execution_count": null,
      "metadata": {
        "colab": {
          "base_uri": "https://localhost:8080/",
          "height": 414
        },
        "id": "iQ_WRGzthiLx",
        "outputId": "4b18f970-5a87-45c1-bc3f-53f30717e590"
      },
      "outputs": [
        {
          "data": {
            "text/html": [
              "<div>\n",
              "<style scoped>\n",
              "    .dataframe tbody tr th:only-of-type {\n",
              "        vertical-align: middle;\n",
              "    }\n",
              "\n",
              "    .dataframe tbody tr th {\n",
              "        vertical-align: top;\n",
              "    }\n",
              "\n",
              "    .dataframe thead th {\n",
              "        text-align: right;\n",
              "    }\n",
              "</style>\n",
              "<table border=\"1\" class=\"dataframe\">\n",
              "  <thead>\n",
              "    <tr style=\"text-align: right;\">\n",
              "      <th></th>\n",
              "      <th>var1(t-1)</th>\n",
              "      <th>var2(t-1)</th>\n",
              "      <th>var3(t-1)</th>\n",
              "      <th>var1(t)</th>\n",
              "    </tr>\n",
              "  </thead>\n",
              "  <tbody>\n",
              "    <tr>\n",
              "      <th>1</th>\n",
              "      <td>0.005489</td>\n",
              "      <td>0.0</td>\n",
              "      <td>0.391691</td>\n",
              "      <td>0.005489</td>\n",
              "    </tr>\n",
              "    <tr>\n",
              "      <th>2</th>\n",
              "      <td>0.005489</td>\n",
              "      <td>0.0</td>\n",
              "      <td>0.698724</td>\n",
              "      <td>0.005605</td>\n",
              "    </tr>\n",
              "    <tr>\n",
              "      <th>3</th>\n",
              "      <td>0.005605</td>\n",
              "      <td>0.0</td>\n",
              "      <td>0.698724</td>\n",
              "      <td>0.005655</td>\n",
              "    </tr>\n",
              "    <tr>\n",
              "      <th>4</th>\n",
              "      <td>0.005655</td>\n",
              "      <td>0.0</td>\n",
              "      <td>0.698724</td>\n",
              "      <td>0.006269</td>\n",
              "    </tr>\n",
              "    <tr>\n",
              "      <th>5</th>\n",
              "      <td>0.006269</td>\n",
              "      <td>0.0</td>\n",
              "      <td>0.698724</td>\n",
              "      <td>0.006003</td>\n",
              "    </tr>\n",
              "    <tr>\n",
              "      <th>...</th>\n",
              "      <td>...</td>\n",
              "      <td>...</td>\n",
              "      <td>...</td>\n",
              "      <td>...</td>\n",
              "    </tr>\n",
              "    <tr>\n",
              "      <th>8329</th>\n",
              "      <td>0.995957</td>\n",
              "      <td>1.0</td>\n",
              "      <td>0.432025</td>\n",
              "      <td>1.000000</td>\n",
              "    </tr>\n",
              "    <tr>\n",
              "      <th>8330</th>\n",
              "      <td>1.000000</td>\n",
              "      <td>1.0</td>\n",
              "      <td>0.432025</td>\n",
              "      <td>0.981121</td>\n",
              "    </tr>\n",
              "    <tr>\n",
              "      <th>8331</th>\n",
              "      <td>0.981121</td>\n",
              "      <td>1.0</td>\n",
              "      <td>0.432025</td>\n",
              "      <td>0.975737</td>\n",
              "    </tr>\n",
              "    <tr>\n",
              "      <th>8332</th>\n",
              "      <td>0.975737</td>\n",
              "      <td>1.0</td>\n",
              "      <td>0.432025</td>\n",
              "      <td>0.983185</td>\n",
              "    </tr>\n",
              "    <tr>\n",
              "      <th>8333</th>\n",
              "      <td>0.983185</td>\n",
              "      <td>1.0</td>\n",
              "      <td>0.432025</td>\n",
              "      <td>0.978960</td>\n",
              "    </tr>\n",
              "  </tbody>\n",
              "</table>\n",
              "<p>8333 rows × 4 columns</p>\n",
              "</div>"
            ],
            "text/plain": [
              "      var1(t-1)  var2(t-1)  var3(t-1)   var1(t)\n",
              "1      0.005489        0.0   0.391691  0.005489\n",
              "2      0.005489        0.0   0.698724  0.005605\n",
              "3      0.005605        0.0   0.698724  0.005655\n",
              "4      0.005655        0.0   0.698724  0.006269\n",
              "5      0.006269        0.0   0.698724  0.006003\n",
              "...         ...        ...        ...       ...\n",
              "8329   0.995957        1.0   0.432025  1.000000\n",
              "8330   1.000000        1.0   0.432025  0.981121\n",
              "8331   0.981121        1.0   0.432025  0.975737\n",
              "8332   0.975737        1.0   0.432025  0.983185\n",
              "8333   0.983185        1.0   0.432025  0.978960\n",
              "\n",
              "[8333 rows x 4 columns]"
            ]
          },
          "execution_count": 736,
          "metadata": {},
          "output_type": "execute_result"
        }
      ],
      "source": [
        "reframed"
      ]
    },
    {
      "cell_type": "code",
      "execution_count": null,
      "metadata": {
        "id": "T-_H6fO4hjrF"
      },
      "outputs": [],
      "source": [
        "# split into train and test sets\n",
        "values = reframed.values\n",
        "n_train_days = 7500\n",
        "train = values[:n_train_days, :]\n",
        "test = values[n_train_days:, :]"
      ]
    },
    {
      "cell_type": "code",
      "execution_count": null,
      "metadata": {
        "colab": {
          "base_uri": "https://localhost:8080/"
        },
        "id": "xPIyhfofhy-S",
        "outputId": "60e6a2ed-19af-48e5-c367-5ecdac122c63"
      },
      "outputs": [
        {
          "data": {
            "text/plain": [
              "(7500, 4)"
            ]
          },
          "execution_count": 738,
          "metadata": {},
          "output_type": "execute_result"
        }
      ],
      "source": [
        "train.shape"
      ]
    },
    {
      "cell_type": "code",
      "execution_count": null,
      "metadata": {
        "colab": {
          "base_uri": "https://localhost:8080/"
        },
        "id": "eLna7qsOh3NH",
        "outputId": "952e8a5c-62f1-4737-f5b3-d4c36365d42a"
      },
      "outputs": [
        {
          "data": {
            "text/plain": [
              "(833, 4)"
            ]
          },
          "execution_count": 739,
          "metadata": {},
          "output_type": "execute_result"
        }
      ],
      "source": [
        "test.shape"
      ]
    },
    {
      "cell_type": "code",
      "execution_count": null,
      "metadata": {
        "id": "uDURIbp0h4SX"
      },
      "outputs": [],
      "source": [
        "# split into input and outputs\n",
        "train_X, train_y = train[:, :-1], train[:, -1]\n",
        "test_X, test_y = test[:, :-1], test[:, -1]\n"
      ]
    },
    {
      "cell_type": "code",
      "execution_count": null,
      "metadata": {
        "colab": {
          "base_uri": "https://localhost:8080/"
        },
        "id": "RNBaDjzph8VL",
        "outputId": "22777428-eb42-4e00-c97e-5414432341c2"
      },
      "outputs": [
        {
          "data": {
            "text/plain": [
              "(7500, 3)"
            ]
          },
          "execution_count": 741,
          "metadata": {},
          "output_type": "execute_result"
        }
      ],
      "source": [
        "train_X.shape"
      ]
    },
    {
      "cell_type": "code",
      "execution_count": null,
      "metadata": {
        "colab": {
          "base_uri": "https://localhost:8080/"
        },
        "id": "xNqBUEtJh-dc",
        "outputId": "638f2dbf-8154-40fb-a396-15ab98d68cb9"
      },
      "outputs": [
        {
          "data": {
            "text/plain": [
              "(7500,)"
            ]
          },
          "execution_count": 742,
          "metadata": {},
          "output_type": "execute_result"
        }
      ],
      "source": [
        "train_y.shape"
      ]
    },
    {
      "cell_type": "code",
      "execution_count": null,
      "metadata": {
        "colab": {
          "base_uri": "https://localhost:8080/"
        },
        "id": "giiqJzh2iDhr",
        "outputId": "73f58780-48cb-410f-bbd7-da261d104154"
      },
      "outputs": [
        {
          "data": {
            "text/plain": [
              "(833, 3)"
            ]
          },
          "execution_count": 743,
          "metadata": {},
          "output_type": "execute_result"
        }
      ],
      "source": [
        "test_X.shape"
      ]
    },
    {
      "cell_type": "code",
      "execution_count": null,
      "metadata": {
        "colab": {
          "base_uri": "https://localhost:8080/"
        },
        "id": "j3VeiscoiGFW",
        "outputId": "66bf475b-c902-4549-9fda-43734e83ddb8"
      },
      "outputs": [
        {
          "data": {
            "text/plain": [
              "(833,)"
            ]
          },
          "execution_count": 744,
          "metadata": {},
          "output_type": "execute_result"
        }
      ],
      "source": [
        "test_y.shape"
      ]
    },
    {
      "cell_type": "code",
      "execution_count": null,
      "metadata": {
        "colab": {
          "base_uri": "https://localhost:8080/"
        },
        "id": "4k36UvGlK70M",
        "outputId": "bfce94b9-93c7-4161-93c2-12f4dbc19127"
      },
      "outputs": [
        {
          "data": {
            "text/plain": [
              "array([[0.62748724, 0.9226202 , 0.08241473],\n",
              "       [0.62729484, 0.9226202 , 0.08241473],\n",
              "       [0.63212746, 0.9226202 , 0.08241473],\n",
              "       ...,\n",
              "       [0.9811206 , 1.        , 0.43202487],\n",
              "       [0.97573745, 1.        , 0.43202487],\n",
              "       [0.9831854 , 1.        , 0.43202487]], dtype=float32)"
            ]
          },
          "execution_count": 745,
          "metadata": {},
          "output_type": "execute_result"
        }
      ],
      "source": [
        "test_X"
      ]
    },
    {
      "cell_type": "code",
      "execution_count": null,
      "metadata": {
        "colab": {
          "base_uri": "https://localhost:8080/"
        },
        "id": "nVqI4DOoiIj9",
        "outputId": "83dac6cf-9c84-462c-a2c7-130db4fbd452"
      },
      "outputs": [
        {
          "name": "stdout",
          "output_type": "stream",
          "text": [
            "(7500, 1, 3) (7500,) (833, 1, 3) (833,)\n"
          ]
        }
      ],
      "source": [
        "# reshape input to be 3D [samples, timesteps, features]\n",
        "train_X = train_X.reshape((train_X.shape[0], 1, train_X.shape[1]))\n",
        "test_X = test_X.reshape((test_X.shape[0], 1, test_X.shape[1]))\n",
        "print(train_X.shape, train_y.shape, test_X.shape, test_y.shape)"
      ]
    },
    {
      "cell_type": "markdown",
      "metadata": {
        "id": "HihfeCtOklxH"
      },
      "source": [
        "## Hyperparameter Tuning for Learning Rate"
      ]
    },
    {
      "cell_type": "code",
      "execution_count": null,
      "metadata": {
        "id": "nxf6lDQ5kpfB"
      },
      "outputs": [],
      "source": [
        "# with Keras-Tuner library"
      ]
    },
    {
      "cell_type": "code",
      "execution_count": null,
      "metadata": {
        "id": "V_3RyWu8It4v"
      },
      "outputs": [],
      "source": [
        "def build_model(hp):\n",
        "    model=Sequential()\n",
        "    model.add(LSTM(64,activation=\"tanh\",return_sequences=True,input_shape=(train_X.shape[1], train_X.shape[2])))\n",
        "    model.add(Dropout(0.2))\n",
        "    model.add(LSTM(64,activation=\"tanh\",return_sequences=True))\n",
        "    model.add(Dropout(0.2))\n",
        "    model.add(LSTM(64,activation=\"tanh\",return_sequences=True))\n",
        "    model.add(Dropout(0.2))\n",
        "    model.add(LSTM(64,activation=\"tanh\", return_sequences=False))\n",
        "    model.add(Dropout(0.2))\n",
        "    model.add(Dense(1))\n",
        "    lr = hp.Float('learning_rate', 1e-4, 1e-3, sampling='log', default=1e-3)\n",
        "    model.compile(\n",
        "        optimizer = tf.keras.optimizers.Adam(lr),\n",
        "        #optimizer=keras.optimizers.Adam(hp.Choice('learning_rate', [0.01, 0.05, 0.001, 0.005, 0.0001, 0.0005, 0.00001, 0.00005])),\n",
        "        loss='mean_squared_error',\n",
        "        metrics=['mean_squared_error'])\n",
        "    return model"
      ]
    },
    {
      "cell_type": "code",
      "execution_count": null,
      "metadata": {
        "id": "5_ReCTKvNbyQ"
      },
      "outputs": [],
      "source": [
        "tuner = RandomSearch(\n",
        "    build_model,\n",
        "    objective='val_loss',\n",
        "    max_trials=20,\n",
        "    executions_per_trial=3,\n",
        "    directory='my_dir_v11',\n",
        "    project_name='helloworld')"
      ]
    },
    {
      "cell_type": "code",
      "execution_count": null,
      "metadata": {
        "colab": {
          "base_uri": "https://localhost:8080/"
        },
        "id": "2tm80lFTItxB",
        "outputId": "ebc82171-f704-4e08-c603-0a9a074936de"
      },
      "outputs": [
        {
          "name": "stdout",
          "output_type": "stream",
          "text": [
            "Search space summary\n",
            "Default search space size: 1\n",
            "learning_rate (Float)\n",
            "{'default': 0.001, 'conditions': [], 'min_value': 0.0001, 'max_value': 0.001, 'step': None, 'sampling': 'log'}\n"
          ]
        }
      ],
      "source": [
        "tuner.search_space_summary()"
      ]
    },
    {
      "cell_type": "code",
      "execution_count": null,
      "metadata": {
        "id": "TO62_fZgcTVl"
      },
      "outputs": [],
      "source": [
        "early_stopping = EarlyStopping(monitor='val_loss', \n",
        "                              patience=10,\n",
        "                              mode='min', \n",
        "                              verbose=1,\n",
        "                              restore_best_weights=True)"
      ]
    },
    {
      "cell_type": "code",
      "execution_count": null,
      "metadata": {
        "colab": {
          "base_uri": "https://localhost:8080/"
        },
        "id": "wVaCzl4pItuJ",
        "outputId": "273a2254-ce39-4845-c720-a8581ad458ef"
      },
      "outputs": [
        {
          "name": "stdout",
          "output_type": "stream",
          "text": [
            "Trial 20 Complete [00h 02m 03s]\n",
            "val_loss: 0.00019926408519192287\n",
            "\n",
            "Best val_loss So Far: 0.00017700722188844034\n",
            "Total elapsed time: 00h 42m 29s\n",
            "INFO:tensorflow:Oracle triggered exit\n"
          ]
        }
      ],
      "source": [
        "tuner.search(train_X, \n",
        "             train_y, \n",
        "             epochs=50,\n",
        "             batch_size = 250,\n",
        "             shuffle=False,\n",
        "             callbacks=[early_stopping],\n",
        "             validation_data=(test_X, test_y))"
      ]
    },
    {
      "cell_type": "code",
      "execution_count": null,
      "metadata": {
        "colab": {
          "base_uri": "https://localhost:8080/"
        },
        "id": "5B-t0RihItrK",
        "outputId": "58e42a1b-6068-47ea-e912-d8baa50384ef"
      },
      "outputs": [
        {
          "name": "stdout",
          "output_type": "stream",
          "text": [
            "Results summary\n",
            "Results in my_dir_v11/helloworld\n",
            "Showing 10 best trials\n",
            "Objective(name='val_loss', direction='min')\n",
            "Trial summary\n",
            "Hyperparameters:\n",
            "learning_rate: 0.0009058592365660911\n",
            "Score: 0.00017700722188844034\n",
            "Trial summary\n",
            "Hyperparameters:\n",
            "learning_rate: 0.00035971196351730075\n",
            "Score: 0.00019395804459539553\n",
            "Trial summary\n",
            "Hyperparameters:\n",
            "learning_rate: 0.000604302395008923\n",
            "Score: 0.0001976428369137769\n",
            "Trial summary\n",
            "Hyperparameters:\n",
            "learning_rate: 0.0004012413110776315\n",
            "Score: 0.00019926408519192287\n",
            "Trial summary\n",
            "Hyperparameters:\n",
            "learning_rate: 0.00039384443368573903\n",
            "Score: 0.00021329987309097\n",
            "Trial summary\n",
            "Hyperparameters:\n",
            "learning_rate: 0.000764791539967108\n",
            "Score: 0.00023250377368337163\n",
            "Trial summary\n",
            "Hyperparameters:\n",
            "learning_rate: 0.0008282135976442794\n",
            "Score: 0.000244947150349617\n",
            "Trial summary\n",
            "Hyperparameters:\n",
            "learning_rate: 0.0004192899557568033\n",
            "Score: 0.000250307372577178\n",
            "Trial summary\n",
            "Hyperparameters:\n",
            "learning_rate: 0.0004710904957936392\n",
            "Score: 0.00025245098610563826\n",
            "Trial summary\n",
            "Hyperparameters:\n",
            "learning_rate: 0.0007946184355620163\n",
            "Score: 0.0002552866596185292\n"
          ]
        }
      ],
      "source": [
        "tuner.results_summary()"
      ]
    },
    {
      "cell_type": "markdown",
      "metadata": {
        "id": "y-gc37gWKfS5"
      },
      "source": [
        "# batch_size hype\n"
      ]
    },
    {
      "cell_type": "code",
      "execution_count": null,
      "metadata": {
        "colab": {
          "base_uri": "https://localhost:8080/"
        },
        "id": "eQj4BB4AiZ9a",
        "outputId": "b95d9e70-65d0-4da2-f5c5-1a2c19dabe43"
      },
      "outputs": [
        {
          "name": "stdout",
          "output_type": "stream",
          "text": [
            "Epoch 1/100\n",
            "30/30 [==============================] - 8s 69ms/step - loss: 0.0753 - mean_squared_error: 0.0753 - val_loss: 0.5724 - val_mean_squared_error: 0.5724\n",
            "Epoch 2/100\n",
            "30/30 [==============================] - 0s 16ms/step - loss: 0.0645 - mean_squared_error: 0.0645 - val_loss: 0.5283 - val_mean_squared_error: 0.5283\n",
            "Epoch 3/100\n",
            "30/30 [==============================] - 1s 17ms/step - loss: 0.0520 - mean_squared_error: 0.0520 - val_loss: 0.4666 - val_mean_squared_error: 0.4666\n",
            "Epoch 4/100\n",
            "30/30 [==============================] - 1s 17ms/step - loss: 0.0381 - mean_squared_error: 0.0381 - val_loss: 0.3829 - val_mean_squared_error: 0.3829\n",
            "Epoch 5/100\n",
            "30/30 [==============================] - 1s 17ms/step - loss: 0.0273 - mean_squared_error: 0.0273 - val_loss: 0.2967 - val_mean_squared_error: 0.2967\n",
            "Epoch 6/100\n",
            "30/30 [==============================] - 1s 17ms/step - loss: 0.0241 - mean_squared_error: 0.0241 - val_loss: 0.2423 - val_mean_squared_error: 0.2423\n",
            "Epoch 7/100\n",
            "30/30 [==============================] - 0s 17ms/step - loss: 0.0240 - mean_squared_error: 0.0240 - val_loss: 0.2172 - val_mean_squared_error: 0.2172\n",
            "Epoch 8/100\n",
            "30/30 [==============================] - 1s 18ms/step - loss: 0.0233 - mean_squared_error: 0.0233 - val_loss: 0.2027 - val_mean_squared_error: 0.2027\n",
            "Epoch 9/100\n",
            "30/30 [==============================] - 1s 20ms/step - loss: 0.0222 - mean_squared_error: 0.0222 - val_loss: 0.1886 - val_mean_squared_error: 0.1886\n",
            "Epoch 10/100\n",
            "30/30 [==============================] - 1s 19ms/step - loss: 0.0207 - mean_squared_error: 0.0207 - val_loss: 0.1736 - val_mean_squared_error: 0.1736\n",
            "Epoch 11/100\n",
            "30/30 [==============================] - 1s 18ms/step - loss: 0.0193 - mean_squared_error: 0.0193 - val_loss: 0.1581 - val_mean_squared_error: 0.1581\n",
            "Epoch 12/100\n",
            "30/30 [==============================] - 0s 17ms/step - loss: 0.0180 - mean_squared_error: 0.0180 - val_loss: 0.1425 - val_mean_squared_error: 0.1425\n",
            "Epoch 13/100\n",
            "30/30 [==============================] - 1s 17ms/step - loss: 0.0166 - mean_squared_error: 0.0166 - val_loss: 0.1261 - val_mean_squared_error: 0.1261\n",
            "Epoch 14/100\n",
            "30/30 [==============================] - 0s 17ms/step - loss: 0.0151 - mean_squared_error: 0.0151 - val_loss: 0.1101 - val_mean_squared_error: 0.1101\n",
            "Epoch 15/100\n",
            "30/30 [==============================] - 1s 17ms/step - loss: 0.0138 - mean_squared_error: 0.0138 - val_loss: 0.0946 - val_mean_squared_error: 0.0946\n",
            "Epoch 16/100\n",
            "30/30 [==============================] - 1s 17ms/step - loss: 0.0127 - mean_squared_error: 0.0127 - val_loss: 0.0803 - val_mean_squared_error: 0.0803\n",
            "Epoch 17/100\n",
            "30/30 [==============================] - 1s 17ms/step - loss: 0.0115 - mean_squared_error: 0.0115 - val_loss: 0.0676 - val_mean_squared_error: 0.0676\n",
            "Epoch 18/100\n",
            "30/30 [==============================] - 1s 18ms/step - loss: 0.0103 - mean_squared_error: 0.0103 - val_loss: 0.0563 - val_mean_squared_error: 0.0563\n",
            "Epoch 19/100\n",
            "30/30 [==============================] - 1s 17ms/step - loss: 0.0096 - mean_squared_error: 0.0096 - val_loss: 0.0470 - val_mean_squared_error: 0.0470\n",
            "Epoch 20/100\n",
            "30/30 [==============================] - 1s 17ms/step - loss: 0.0088 - mean_squared_error: 0.0088 - val_loss: 0.0389 - val_mean_squared_error: 0.0389\n",
            "Epoch 21/100\n",
            "30/30 [==============================] - 1s 18ms/step - loss: 0.0083 - mean_squared_error: 0.0083 - val_loss: 0.0326 - val_mean_squared_error: 0.0326\n",
            "Epoch 22/100\n",
            "30/30 [==============================] - 0s 17ms/step - loss: 0.0077 - mean_squared_error: 0.0077 - val_loss: 0.0266 - val_mean_squared_error: 0.0266\n",
            "Epoch 23/100\n",
            "30/30 [==============================] - 0s 16ms/step - loss: 0.0076 - mean_squared_error: 0.0076 - val_loss: 0.0229 - val_mean_squared_error: 0.0229\n",
            "Epoch 24/100\n",
            "30/30 [==============================] - 1s 17ms/step - loss: 0.0072 - mean_squared_error: 0.0072 - val_loss: 0.0198 - val_mean_squared_error: 0.0198\n",
            "Epoch 25/100\n",
            "30/30 [==============================] - 0s 16ms/step - loss: 0.0071 - mean_squared_error: 0.0071 - val_loss: 0.0175 - val_mean_squared_error: 0.0175\n",
            "Epoch 26/100\n",
            "30/30 [==============================] - 0s 16ms/step - loss: 0.0071 - mean_squared_error: 0.0071 - val_loss: 0.0162 - val_mean_squared_error: 0.0162\n",
            "Epoch 27/100\n",
            "30/30 [==============================] - 1s 17ms/step - loss: 0.0068 - mean_squared_error: 0.0068 - val_loss: 0.0144 - val_mean_squared_error: 0.0144\n",
            "Epoch 28/100\n",
            "30/30 [==============================] - 1s 17ms/step - loss: 0.0067 - mean_squared_error: 0.0067 - val_loss: 0.0127 - val_mean_squared_error: 0.0127\n",
            "Epoch 29/100\n",
            "30/30 [==============================] - 1s 17ms/step - loss: 0.0067 - mean_squared_error: 0.0067 - val_loss: 0.0116 - val_mean_squared_error: 0.0116\n",
            "Epoch 30/100\n",
            "30/30 [==============================] - 0s 16ms/step - loss: 0.0066 - mean_squared_error: 0.0066 - val_loss: 0.0111 - val_mean_squared_error: 0.0111\n",
            "Epoch 31/100\n",
            "30/30 [==============================] - 0s 16ms/step - loss: 0.0066 - mean_squared_error: 0.0066 - val_loss: 0.0104 - val_mean_squared_error: 0.0104\n",
            "Epoch 32/100\n",
            "30/30 [==============================] - 1s 17ms/step - loss: 0.0064 - mean_squared_error: 0.0064 - val_loss: 0.0102 - val_mean_squared_error: 0.0102\n",
            "Epoch 33/100\n",
            "30/30 [==============================] - 0s 16ms/step - loss: 0.0063 - mean_squared_error: 0.0063 - val_loss: 0.0091 - val_mean_squared_error: 0.0091\n",
            "Epoch 34/100\n",
            "30/30 [==============================] - 1s 17ms/step - loss: 0.0062 - mean_squared_error: 0.0062 - val_loss: 0.0084 - val_mean_squared_error: 0.0084\n",
            "Epoch 35/100\n",
            "30/30 [==============================] - 0s 16ms/step - loss: 0.0060 - mean_squared_error: 0.0060 - val_loss: 0.0081 - val_mean_squared_error: 0.0081\n",
            "Epoch 36/100\n",
            "30/30 [==============================] - 0s 16ms/step - loss: 0.0061 - mean_squared_error: 0.0061 - val_loss: 0.0079 - val_mean_squared_error: 0.0079\n",
            "Epoch 37/100\n",
            "30/30 [==============================] - 0s 16ms/step - loss: 0.0061 - mean_squared_error: 0.0061 - val_loss: 0.0076 - val_mean_squared_error: 0.0076\n",
            "Epoch 38/100\n",
            "30/30 [==============================] - 0s 16ms/step - loss: 0.0058 - mean_squared_error: 0.0058 - val_loss: 0.0072 - val_mean_squared_error: 0.0072\n",
            "Epoch 39/100\n",
            "30/30 [==============================] - 0s 16ms/step - loss: 0.0059 - mean_squared_error: 0.0059 - val_loss: 0.0075 - val_mean_squared_error: 0.0075\n",
            "Epoch 40/100\n",
            "30/30 [==============================] - 0s 17ms/step - loss: 0.0057 - mean_squared_error: 0.0057 - val_loss: 0.0068 - val_mean_squared_error: 0.0068\n",
            "Epoch 41/100\n",
            "30/30 [==============================] - 1s 17ms/step - loss: 0.0055 - mean_squared_error: 0.0055 - val_loss: 0.0068 - val_mean_squared_error: 0.0068\n",
            "Epoch 42/100\n",
            "30/30 [==============================] - 1s 17ms/step - loss: 0.0056 - mean_squared_error: 0.0056 - val_loss: 0.0064 - val_mean_squared_error: 0.0064\n",
            "Epoch 43/100\n",
            "30/30 [==============================] - 1s 17ms/step - loss: 0.0056 - mean_squared_error: 0.0056 - val_loss: 0.0061 - val_mean_squared_error: 0.0061\n",
            "Epoch 44/100\n",
            "30/30 [==============================] - 1s 18ms/step - loss: 0.0053 - mean_squared_error: 0.0053 - val_loss: 0.0055 - val_mean_squared_error: 0.0055\n",
            "Epoch 45/100\n",
            "30/30 [==============================] - 0s 16ms/step - loss: 0.0055 - mean_squared_error: 0.0055 - val_loss: 0.0055 - val_mean_squared_error: 0.0055\n",
            "Epoch 46/100\n",
            "30/30 [==============================] - 0s 16ms/step - loss: 0.0054 - mean_squared_error: 0.0054 - val_loss: 0.0054 - val_mean_squared_error: 0.0054\n",
            "Epoch 47/100\n",
            "30/30 [==============================] - 1s 17ms/step - loss: 0.0053 - mean_squared_error: 0.0053 - val_loss: 0.0051 - val_mean_squared_error: 0.0051\n",
            "Epoch 48/100\n",
            "30/30 [==============================] - 0s 17ms/step - loss: 0.0051 - mean_squared_error: 0.0051 - val_loss: 0.0049 - val_mean_squared_error: 0.0049\n",
            "Epoch 49/100\n",
            "30/30 [==============================] - 1s 17ms/step - loss: 0.0051 - mean_squared_error: 0.0051 - val_loss: 0.0047 - val_mean_squared_error: 0.0047\n",
            "Epoch 50/100\n",
            "30/30 [==============================] - 1s 17ms/step - loss: 0.0051 - mean_squared_error: 0.0051 - val_loss: 0.0041 - val_mean_squared_error: 0.0041\n",
            "Epoch 51/100\n",
            "30/30 [==============================] - 0s 17ms/step - loss: 0.0048 - mean_squared_error: 0.0048 - val_loss: 0.0041 - val_mean_squared_error: 0.0041\n",
            "Epoch 52/100\n",
            "30/30 [==============================] - 1s 17ms/step - loss: 0.0048 - mean_squared_error: 0.0048 - val_loss: 0.0037 - val_mean_squared_error: 0.0037\n",
            "Epoch 53/100\n",
            "30/30 [==============================] - 0s 15ms/step - loss: 0.0048 - mean_squared_error: 0.0048 - val_loss: 0.0037 - val_mean_squared_error: 0.0037\n",
            "Epoch 54/100\n",
            "30/30 [==============================] - 1s 17ms/step - loss: 0.0049 - mean_squared_error: 0.0049 - val_loss: 0.0038 - val_mean_squared_error: 0.0038\n",
            "Epoch 55/100\n",
            "30/30 [==============================] - 0s 16ms/step - loss: 0.0046 - mean_squared_error: 0.0046 - val_loss: 0.0036 - val_mean_squared_error: 0.0036\n",
            "Epoch 56/100\n",
            "30/30 [==============================] - 0s 16ms/step - loss: 0.0046 - mean_squared_error: 0.0046 - val_loss: 0.0034 - val_mean_squared_error: 0.0034\n",
            "Epoch 57/100\n",
            "30/30 [==============================] - 1s 17ms/step - loss: 0.0047 - mean_squared_error: 0.0047 - val_loss: 0.0034 - val_mean_squared_error: 0.0034\n",
            "Epoch 58/100\n",
            "30/30 [==============================] - 0s 16ms/step - loss: 0.0045 - mean_squared_error: 0.0045 - val_loss: 0.0028 - val_mean_squared_error: 0.0028\n",
            "Epoch 59/100\n",
            "30/30 [==============================] - 1s 16ms/step - loss: 0.0044 - mean_squared_error: 0.0044 - val_loss: 0.0027 - val_mean_squared_error: 0.0027\n",
            "Epoch 60/100\n",
            "30/30 [==============================] - 0s 16ms/step - loss: 0.0044 - mean_squared_error: 0.0044 - val_loss: 0.0027 - val_mean_squared_error: 0.0027\n",
            "Epoch 61/100\n",
            "30/30 [==============================] - 1s 17ms/step - loss: 0.0043 - mean_squared_error: 0.0043 - val_loss: 0.0022 - val_mean_squared_error: 0.0022\n",
            "Epoch 62/100\n",
            "30/30 [==============================] - 1s 17ms/step - loss: 0.0042 - mean_squared_error: 0.0042 - val_loss: 0.0020 - val_mean_squared_error: 0.0020\n",
            "Epoch 63/100\n",
            "30/30 [==============================] - 1s 17ms/step - loss: 0.0042 - mean_squared_error: 0.0042 - val_loss: 0.0023 - val_mean_squared_error: 0.0023\n",
            "Epoch 64/100\n",
            "30/30 [==============================] - 1s 18ms/step - loss: 0.0041 - mean_squared_error: 0.0041 - val_loss: 0.0020 - val_mean_squared_error: 0.0020\n",
            "Epoch 65/100\n",
            "30/30 [==============================] - 0s 16ms/step - loss: 0.0041 - mean_squared_error: 0.0041 - val_loss: 0.0019 - val_mean_squared_error: 0.0019\n",
            "Epoch 66/100\n",
            "30/30 [==============================] - 1s 18ms/step - loss: 0.0040 - mean_squared_error: 0.0040 - val_loss: 0.0018 - val_mean_squared_error: 0.0018\n",
            "Epoch 67/100\n",
            "30/30 [==============================] - 0s 16ms/step - loss: 0.0039 - mean_squared_error: 0.0039 - val_loss: 0.0019 - val_mean_squared_error: 0.0019\n",
            "Epoch 68/100\n",
            "30/30 [==============================] - 1s 17ms/step - loss: 0.0039 - mean_squared_error: 0.0039 - val_loss: 0.0016 - val_mean_squared_error: 0.0016\n",
            "Epoch 69/100\n",
            "30/30 [==============================] - 0s 17ms/step - loss: 0.0038 - mean_squared_error: 0.0038 - val_loss: 0.0015 - val_mean_squared_error: 0.0015\n",
            "Epoch 70/100\n",
            "30/30 [==============================] - 0s 17ms/step - loss: 0.0038 - mean_squared_error: 0.0038 - val_loss: 0.0012 - val_mean_squared_error: 0.0012\n",
            "Epoch 71/100\n",
            "30/30 [==============================] - 0s 17ms/step - loss: 0.0037 - mean_squared_error: 0.0037 - val_loss: 0.0011 - val_mean_squared_error: 0.0011\n",
            "Epoch 72/100\n",
            "30/30 [==============================] - 1s 17ms/step - loss: 0.0037 - mean_squared_error: 0.0037 - val_loss: 0.0012 - val_mean_squared_error: 0.0012\n",
            "Epoch 73/100\n",
            "30/30 [==============================] - 1s 17ms/step - loss: 0.0036 - mean_squared_error: 0.0036 - val_loss: 0.0011 - val_mean_squared_error: 0.0011\n",
            "Epoch 74/100\n",
            "30/30 [==============================] - 1s 18ms/step - loss: 0.0035 - mean_squared_error: 0.0035 - val_loss: 8.9632e-04 - val_mean_squared_error: 8.9632e-04\n",
            "Epoch 75/100\n",
            "30/30 [==============================] - 1s 17ms/step - loss: 0.0034 - mean_squared_error: 0.0034 - val_loss: 8.1212e-04 - val_mean_squared_error: 8.1212e-04\n",
            "Epoch 76/100\n",
            "30/30 [==============================] - 1s 18ms/step - loss: 0.0034 - mean_squared_error: 0.0034 - val_loss: 7.0422e-04 - val_mean_squared_error: 7.0422e-04\n",
            "Epoch 77/100\n",
            "30/30 [==============================] - 1s 17ms/step - loss: 0.0032 - mean_squared_error: 0.0032 - val_loss: 6.5200e-04 - val_mean_squared_error: 6.5200e-04\n",
            "Epoch 78/100\n",
            "30/30 [==============================] - 1s 17ms/step - loss: 0.0034 - mean_squared_error: 0.0034 - val_loss: 5.6097e-04 - val_mean_squared_error: 5.6097e-04\n",
            "Epoch 79/100\n",
            "30/30 [==============================] - 0s 16ms/step - loss: 0.0033 - mean_squared_error: 0.0033 - val_loss: 5.8470e-04 - val_mean_squared_error: 5.8470e-04\n",
            "Epoch 80/100\n",
            "30/30 [==============================] - 1s 18ms/step - loss: 0.0031 - mean_squared_error: 0.0031 - val_loss: 4.3987e-04 - val_mean_squared_error: 4.3987e-04\n",
            "Epoch 81/100\n",
            "30/30 [==============================] - 1s 17ms/step - loss: 0.0031 - mean_squared_error: 0.0031 - val_loss: 4.0686e-04 - val_mean_squared_error: 4.0686e-04\n",
            "Epoch 82/100\n",
            "30/30 [==============================] - 1s 17ms/step - loss: 0.0031 - mean_squared_error: 0.0031 - val_loss: 3.6654e-04 - val_mean_squared_error: 3.6654e-04\n",
            "Epoch 83/100\n",
            "30/30 [==============================] - 1s 17ms/step - loss: 0.0030 - mean_squared_error: 0.0030 - val_loss: 2.6555e-04 - val_mean_squared_error: 2.6555e-04\n",
            "Epoch 84/100\n",
            "30/30 [==============================] - 0s 16ms/step - loss: 0.0029 - mean_squared_error: 0.0029 - val_loss: 3.0235e-04 - val_mean_squared_error: 3.0235e-04\n",
            "Epoch 85/100\n",
            "30/30 [==============================] - 1s 17ms/step - loss: 0.0029 - mean_squared_error: 0.0029 - val_loss: 2.2858e-04 - val_mean_squared_error: 2.2858e-04\n",
            "Epoch 86/100\n",
            "30/30 [==============================] - 1s 17ms/step - loss: 0.0028 - mean_squared_error: 0.0028 - val_loss: 2.7360e-04 - val_mean_squared_error: 2.7360e-04\n",
            "Epoch 87/100\n",
            "30/30 [==============================] - 0s 17ms/step - loss: 0.0028 - mean_squared_error: 0.0028 - val_loss: 2.4720e-04 - val_mean_squared_error: 2.4720e-04\n",
            "Epoch 88/100\n",
            "30/30 [==============================] - 1s 18ms/step - loss: 0.0028 - mean_squared_error: 0.0028 - val_loss: 2.0904e-04 - val_mean_squared_error: 2.0904e-04\n",
            "Epoch 89/100\n",
            "30/30 [==============================] - 1s 17ms/step - loss: 0.0027 - mean_squared_error: 0.0027 - val_loss: 2.1326e-04 - val_mean_squared_error: 2.1326e-04\n",
            "Epoch 90/100\n",
            "30/30 [==============================] - 1s 17ms/step - loss: 0.0027 - mean_squared_error: 0.0027 - val_loss: 2.0997e-04 - val_mean_squared_error: 2.0997e-04\n",
            "Epoch 91/100\n",
            "30/30 [==============================] - 1s 17ms/step - loss: 0.0025 - mean_squared_error: 0.0025 - val_loss: 2.3261e-04 - val_mean_squared_error: 2.3261e-04\n",
            "Epoch 92/100\n",
            "30/30 [==============================] - 0s 16ms/step - loss: 0.0025 - mean_squared_error: 0.0025 - val_loss: 2.3895e-04 - val_mean_squared_error: 2.3895e-04\n",
            "Epoch 93/100\n",
            "30/30 [==============================] - 0s 16ms/step - loss: 0.0025 - mean_squared_error: 0.0025 - val_loss: 2.5013e-04 - val_mean_squared_error: 2.5013e-04\n",
            "Epoch 94/100\n",
            "30/30 [==============================] - 1s 17ms/step - loss: 0.0024 - mean_squared_error: 0.0024 - val_loss: 3.3590e-04 - val_mean_squared_error: 3.3590e-04\n",
            "Epoch 95/100\n",
            "30/30 [==============================] - 0s 17ms/step - loss: 0.0023 - mean_squared_error: 0.0023 - val_loss: 2.9635e-04 - val_mean_squared_error: 2.9635e-04\n",
            "Epoch 96/100\n",
            "30/30 [==============================] - 1s 17ms/step - loss: 0.0025 - mean_squared_error: 0.0025 - val_loss: 3.7388e-04 - val_mean_squared_error: 3.7388e-04\n",
            "Epoch 97/100\n",
            "30/30 [==============================] - 0s 16ms/step - loss: 0.0023 - mean_squared_error: 0.0023 - val_loss: 3.7070e-04 - val_mean_squared_error: 3.7070e-04\n",
            "Epoch 98/100\n",
            "30/30 [==============================] - 1s 17ms/step - loss: 0.0023 - mean_squared_error: 0.0023 - val_loss: 4.6523e-04 - val_mean_squared_error: 4.6523e-04\n",
            "Restoring model weights from the end of the best epoch.\n",
            "Epoch 00098: early stopping\n"
          ]
        }
      ],
      "source": [
        "# fit network\n",
        "history = model.fit(train_X, \n",
        "                    train_y, \n",
        "                    epochs=100, \n",
        "                    batch_size=250, \n",
        "                    validation_data=(test_X, test_y), \n",
        "                    verbose=1, \n",
        "                    shuffle=False,\n",
        "                    callbacks=[early_stopping])"
      ]
    },
    {
      "cell_type": "code",
      "execution_count": null,
      "metadata": {
        "colab": {
          "base_uri": "https://localhost:8080/",
          "height": 485
        },
        "id": "kCBw77Ajiq0V",
        "outputId": "6e58edb0-22b4-4ac9-9b49-0d26043acc01"
      },
      "outputs": [
        {
          "data": {
            "image/png": "[encoded data removed]",
            "text/plain": [
              "<Figure size 1080x576 with 1 Axes>"
            ]
          },
          "metadata": {
            "needs_background": "light"
          },
          "output_type": "display_data"
        }
      ],
      "source": [
        "# plot history\n",
        "plt.figure(figsize=(15,8))\n",
        "pyplot.plot(history.history['loss'], label='Training Loss')\n",
        "pyplot.plot(history.history['val_loss'], label='Validation Loss test')\n",
        "pyplot.legend()\n",
        "pyplot.show()"
      ]
    },
    {
      "cell_type": "code",
      "execution_count": null,
      "metadata": {
        "colab": {
          "base_uri": "https://localhost:8080/"
        },
        "id": "DwJUdG1Li3k5",
        "outputId": "ab9a4e4a-a6da-453e-c991-fbb7e5da7dee"
      },
      "outputs": [
        {
          "name": "stdout",
          "output_type": "stream",
          "text": [
            "Test RMSE: 87.181\n"
          ]
        }
      ],
      "source": [
        "from numpy import concatenate\n",
        "# make a prediction\n",
        "yhat = model.predict(test_X)\n",
        "test_X = test_X.reshape((test_X.shape[0], test_X.shape[2]))\n",
        "# invert scaling for forecast\n",
        "inv_yhat = concatenate((yhat, test_X[:, 1:]), axis=1)\n",
        "inv_yhat = scaler.inverse_transform(inv_yhat)\n",
        "inv_yhat = inv_yhat[:,0]\n",
        "# invert scaling for actual\n",
        "test_y = test_y.reshape((len(test_y), 1))\n",
        "inv_y = concatenate((test_y, test_X[:, 1:]), axis=1)\n",
        "inv_y = scaler.inverse_transform(inv_y)\n",
        "inv_y = inv_y[:,0]\n",
        "# calculate RMSE\n",
        "rmse = sqrt(mean_squared_error(inv_y, inv_yhat))\n",
        "print('Test RMSE: %.3f' % rmse)"
      ]
    },
    {
      "cell_type": "code",
      "execution_count": null,
      "metadata": {
        "colab": {
          "base_uri": "https://localhost:8080/"
        },
        "id": "q7p8MzlSpfkp",
        "outputId": "d6e0b642-79de-433b-f6af-5aad4dfacee2"
      },
      "outputs": [
        {
          "name": "stdout",
          "output_type": "stream",
          "text": [
            "(7500, 1, 3) (7500,) (833, 3) (833, 1)\n"
          ]
        }
      ],
      "source": [
        "print(train_X.shape, train_y.shape, test_X.shape, test_y.shape)"
      ]
    },
    {
      "cell_type": "code",
      "execution_count": null,
      "metadata": {
        "colab": {
          "base_uri": "https://localhost:8080/"
        },
        "id": "xIaJmNevPiR7",
        "outputId": "49b33cfb-a469-4ac2-c679-3c37da3b8562"
      },
      "outputs": [
        {
          "data": {
            "text/plain": [
              "(833, 1)"
            ]
          },
          "execution_count": 260,
          "metadata": {},
          "output_type": "execute_result"
        }
      ],
      "source": [
        "yhat.shape"
      ]
    },
    {
      "cell_type": "code",
      "execution_count": null,
      "metadata": {
        "colab": {
          "base_uri": "https://localhost:8080/",
          "height": 53
        },
        "id": "t39__n3kRpvX",
        "outputId": "032808b9-f5e5-4a32-f999-abd049ea1a7b"
      },
      "outputs": [
        {
          "data": {
            "application/vnd.google.colaboratory.intrinsic+json": {
              "type": "string"
            },
            "text/plain": [
              "'\\nyhat2 = yhat[33:]\\nyhat2.shape\\nyhat2 = yhat2.reshape((200, 1, 4))\\nyhat.shape , yhat2.shape\\nfuture_close = model.predict(yhat2)\\nfuture_close.shape\\n'"
            ]
          },
          "execution_count": 261,
          "metadata": {},
          "output_type": "execute_result"
        }
      ],
      "source": [
        "\"\"\"\n",
        "yhat2 = yhat[33:]\n",
        "yhat2.shape\n",
        "yhat2 = yhat2.reshape((200, 1, 4))\n",
        "yhat.shape , yhat2.shape\n",
        "future_close = model.predict(yhat2)\n",
        "future_close.shape\n",
        "\"\"\""
      ]
    },
    {
      "cell_type": "code",
      "execution_count": null,
      "metadata": {
        "colab": {
          "base_uri": "https://localhost:8080/"
        },
        "id": "d8Qj9a6_Msp9",
        "outputId": "6a0cb9bf-a0b3-44b1-a9d6-a7bf8105fa05"
      },
      "outputs": [
        {
          "data": {
            "text/plain": [
              "833"
            ]
          },
          "execution_count": 262,
          "metadata": {},
          "output_type": "execute_result"
        }
      ],
      "source": [
        "yhat.size"
      ]
    },
    {
      "cell_type": "code",
      "execution_count": null,
      "metadata": {
        "colab": {
          "base_uri": "https://localhost:8080/",
          "height": 414
        },
        "id": "ppsFtuATMVMD",
        "outputId": "1635ca54-6ec5-4887-d80e-894e503fda86"
      },
      "outputs": [
        {
          "data": {
            "text/html": [
              "<div>\n",
              "<style scoped>\n",
              "    .dataframe tbody tr th:only-of-type {\n",
              "        vertical-align: middle;\n",
              "    }\n",
              "\n",
              "    .dataframe tbody tr th {\n",
              "        vertical-align: top;\n",
              "    }\n",
              "\n",
              "    .dataframe thead th {\n",
              "        text-align: right;\n",
              "    }\n",
              "</style>\n",
              "<table border=\"1\" class=\"dataframe\">\n",
              "  <thead>\n",
              "    <tr style=\"text-align: right;\">\n",
              "      <th></th>\n",
              "      <th>yhat</th>\n",
              "    </tr>\n",
              "  </thead>\n",
              "  <tbody>\n",
              "    <tr>\n",
              "      <th>0</th>\n",
              "      <td>0.614986</td>\n",
              "    </tr>\n",
              "    <tr>\n",
              "      <th>1</th>\n",
              "      <td>0.614825</td>\n",
              "    </tr>\n",
              "    <tr>\n",
              "      <th>2</th>\n",
              "      <td>0.618869</td>\n",
              "    </tr>\n",
              "    <tr>\n",
              "      <th>3</th>\n",
              "      <td>0.620401</td>\n",
              "    </tr>\n",
              "    <tr>\n",
              "      <th>4</th>\n",
              "      <td>0.622195</td>\n",
              "    </tr>\n",
              "    <tr>\n",
              "      <th>...</th>\n",
              "      <td>...</td>\n",
              "    </tr>\n",
              "    <tr>\n",
              "      <th>828</th>\n",
              "      <td>1.002208</td>\n",
              "    </tr>\n",
              "    <tr>\n",
              "      <th>829</th>\n",
              "      <td>1.006370</td>\n",
              "    </tr>\n",
              "    <tr>\n",
              "      <th>830</th>\n",
              "      <td>0.986978</td>\n",
              "    </tr>\n",
              "    <tr>\n",
              "      <th>831</th>\n",
              "      <td>0.981468</td>\n",
              "    </tr>\n",
              "    <tr>\n",
              "      <th>832</th>\n",
              "      <td>0.989094</td>\n",
              "    </tr>\n",
              "  </tbody>\n",
              "</table>\n",
              "<p>833 rows × 1 columns</p>\n",
              "</div>"
            ],
            "text/plain": [
              "         yhat\n",
              "0    0.614986\n",
              "1    0.614825\n",
              "2    0.618869\n",
              "3    0.620401\n",
              "4    0.622195\n",
              "..        ...\n",
              "828  1.002208\n",
              "829  1.006370\n",
              "830  0.986978\n",
              "831  0.981468\n",
              "832  0.989094\n",
              "\n",
              "[833 rows x 1 columns]"
            ]
          },
          "execution_count": 263,
          "metadata": {},
          "output_type": "execute_result"
        }
      ],
      "source": [
        "new_test_data2 = pd.DataFrame(yhat, columns = [\"yhat\"])\n",
        "new_test_data2"
      ]
    },
    {
      "cell_type": "code",
      "execution_count": null,
      "metadata": {
        "colab": {
          "base_uri": "https://localhost:8080/",
          "height": 414
        },
        "id": "2_wPjEuCPZRx",
        "outputId": "98f039e9-210c-444e-cf40-95bdc8f9f093"
      },
      "outputs": [
        {
          "data": {
            "text/html": [
              "<div>\n",
              "<style scoped>\n",
              "    .dataframe tbody tr th:only-of-type {\n",
              "        vertical-align: middle;\n",
              "    }\n",
              "\n",
              "    .dataframe tbody tr th {\n",
              "        vertical-align: top;\n",
              "    }\n",
              "\n",
              "    .dataframe thead th {\n",
              "        text-align: right;\n",
              "    }\n",
              "</style>\n",
              "<table border=\"1\" class=\"dataframe\">\n",
              "  <thead>\n",
              "    <tr style=\"text-align: right;\">\n",
              "      <th></th>\n",
              "      <th>var2(t-1)</th>\n",
              "      <th>var3(t-1)</th>\n",
              "    </tr>\n",
              "  </thead>\n",
              "  <tbody>\n",
              "    <tr>\n",
              "      <th>0</th>\n",
              "      <td>0.92262</td>\n",
              "      <td>0.082415</td>\n",
              "    </tr>\n",
              "    <tr>\n",
              "      <th>1</th>\n",
              "      <td>0.92262</td>\n",
              "      <td>0.082415</td>\n",
              "    </tr>\n",
              "    <tr>\n",
              "      <th>2</th>\n",
              "      <td>0.92262</td>\n",
              "      <td>0.082415</td>\n",
              "    </tr>\n",
              "    <tr>\n",
              "      <th>3</th>\n",
              "      <td>0.92262</td>\n",
              "      <td>0.082415</td>\n",
              "    </tr>\n",
              "    <tr>\n",
              "      <th>4</th>\n",
              "      <td>0.92262</td>\n",
              "      <td>0.082415</td>\n",
              "    </tr>\n",
              "    <tr>\n",
              "      <th>...</th>\n",
              "      <td>...</td>\n",
              "      <td>...</td>\n",
              "    </tr>\n",
              "    <tr>\n",
              "      <th>828</th>\n",
              "      <td>1.00000</td>\n",
              "      <td>0.432025</td>\n",
              "    </tr>\n",
              "    <tr>\n",
              "      <th>829</th>\n",
              "      <td>1.00000</td>\n",
              "      <td>0.432025</td>\n",
              "    </tr>\n",
              "    <tr>\n",
              "      <th>830</th>\n",
              "      <td>1.00000</td>\n",
              "      <td>0.432025</td>\n",
              "    </tr>\n",
              "    <tr>\n",
              "      <th>831</th>\n",
              "      <td>1.00000</td>\n",
              "      <td>0.432025</td>\n",
              "    </tr>\n",
              "    <tr>\n",
              "      <th>832</th>\n",
              "      <td>1.00000</td>\n",
              "      <td>0.432025</td>\n",
              "    </tr>\n",
              "  </tbody>\n",
              "</table>\n",
              "<p>833 rows × 2 columns</p>\n",
              "</div>"
            ],
            "text/plain": [
              "     var2(t-1)  var3(t-1)\n",
              "0      0.92262   0.082415\n",
              "1      0.92262   0.082415\n",
              "2      0.92262   0.082415\n",
              "3      0.92262   0.082415\n",
              "4      0.92262   0.082415\n",
              "..         ...        ...\n",
              "828    1.00000   0.432025\n",
              "829    1.00000   0.432025\n",
              "830    1.00000   0.432025\n",
              "831    1.00000   0.432025\n",
              "832    1.00000   0.432025\n",
              "\n",
              "[833 rows x 2 columns]"
            ]
          },
          "execution_count": 264,
          "metadata": {},
          "output_type": "execute_result"
        }
      ],
      "source": [
        "size_bound = reframed[\"var2(t-1)\"].size-yhat.size\n",
        "reframed_for_test4 = reframed[[\"var2(t-1)\",\"var3(t-1)\"]][size_bound:]\n",
        "reframed_for_test4 =  reframed_for_test4.reset_index()\n",
        "reframed_for_test4.drop([\"index\"], axis=1, inplace=True)\n",
        "reframed_for_test4"
      ]
    },
    {
      "cell_type": "code",
      "execution_count": null,
      "metadata": {
        "colab": {
          "base_uri": "https://localhost:8080/"
        },
        "id": "iVEYNL8BSA8N",
        "outputId": "3908327d-09cc-4f1b-a911-ee31776a5448"
      },
      "outputs": [
        {
          "data": {
            "text/plain": [
              "(         yhat\n",
              " 0    0.614986\n",
              " 1    0.614825\n",
              " 2    0.618869\n",
              " 3    0.620401\n",
              " 4    0.622195\n",
              " ..        ...\n",
              " 828  1.002208\n",
              " 829  1.006370\n",
              " 830  0.986978\n",
              " 831  0.981468\n",
              " 832  0.989094\n",
              " \n",
              " [833 rows x 1 columns],      var2(t-1)  var3(t-1)\n",
              " 0      0.92262   0.082415\n",
              " 1      0.92262   0.082415\n",
              " 2      0.92262   0.082415\n",
              " 3      0.92262   0.082415\n",
              " 4      0.92262   0.082415\n",
              " ..         ...        ...\n",
              " 828    1.00000   0.432025\n",
              " 829    1.00000   0.432025\n",
              " 830    1.00000   0.432025\n",
              " 831    1.00000   0.432025\n",
              " 832    1.00000   0.432025\n",
              " \n",
              " [833 rows x 2 columns])"
            ]
          },
          "execution_count": 265,
          "metadata": {},
          "output_type": "execute_result"
        }
      ],
      "source": [
        "new_test_data2, reframed_for_test4"
      ]
    },
    {
      "cell_type": "code",
      "execution_count": null,
      "metadata": {
        "colab": {
          "base_uri": "https://localhost:8080/",
          "height": 414
        },
        "id": "nW-pOV_DSfdM",
        "outputId": "976e4237-bee0-44bd-c204-3b87cb43801b"
      },
      "outputs": [
        {
          "data": {
            "text/html": [
              "<div>\n",
              "<style scoped>\n",
              "    .dataframe tbody tr th:only-of-type {\n",
              "        vertical-align: middle;\n",
              "    }\n",
              "\n",
              "    .dataframe tbody tr th {\n",
              "        vertical-align: top;\n",
              "    }\n",
              "\n",
              "    .dataframe thead th {\n",
              "        text-align: right;\n",
              "    }\n",
              "</style>\n",
              "<table border=\"1\" class=\"dataframe\">\n",
              "  <thead>\n",
              "    <tr style=\"text-align: right;\">\n",
              "      <th></th>\n",
              "      <th>yhat</th>\n",
              "      <th>var2(t-1)</th>\n",
              "      <th>var3(t-1)</th>\n",
              "    </tr>\n",
              "  </thead>\n",
              "  <tbody>\n",
              "    <tr>\n",
              "      <th>0</th>\n",
              "      <td>0.614986</td>\n",
              "      <td>0.92262</td>\n",
              "      <td>0.082415</td>\n",
              "    </tr>\n",
              "    <tr>\n",
              "      <th>1</th>\n",
              "      <td>0.614825</td>\n",
              "      <td>0.92262</td>\n",
              "      <td>0.082415</td>\n",
              "    </tr>\n",
              "    <tr>\n",
              "      <th>2</th>\n",
              "      <td>0.618869</td>\n",
              "      <td>0.92262</td>\n",
              "      <td>0.082415</td>\n",
              "    </tr>\n",
              "    <tr>\n",
              "      <th>3</th>\n",
              "      <td>0.620401</td>\n",
              "      <td>0.92262</td>\n",
              "      <td>0.082415</td>\n",
              "    </tr>\n",
              "    <tr>\n",
              "      <th>4</th>\n",
              "      <td>0.622195</td>\n",
              "      <td>0.92262</td>\n",
              "      <td>0.082415</td>\n",
              "    </tr>\n",
              "    <tr>\n",
              "      <th>...</th>\n",
              "      <td>...</td>\n",
              "      <td>...</td>\n",
              "      <td>...</td>\n",
              "    </tr>\n",
              "    <tr>\n",
              "      <th>828</th>\n",
              "      <td>1.002208</td>\n",
              "      <td>1.00000</td>\n",
              "      <td>0.432025</td>\n",
              "    </tr>\n",
              "    <tr>\n",
              "      <th>829</th>\n",
              "      <td>1.006370</td>\n",
              "      <td>1.00000</td>\n",
              "      <td>0.432025</td>\n",
              "    </tr>\n",
              "    <tr>\n",
              "      <th>830</th>\n",
              "      <td>0.986978</td>\n",
              "      <td>1.00000</td>\n",
              "      <td>0.432025</td>\n",
              "    </tr>\n",
              "    <tr>\n",
              "      <th>831</th>\n",
              "      <td>0.981468</td>\n",
              "      <td>1.00000</td>\n",
              "      <td>0.432025</td>\n",
              "    </tr>\n",
              "    <tr>\n",
              "      <th>832</th>\n",
              "      <td>0.989094</td>\n",
              "      <td>1.00000</td>\n",
              "      <td>0.432025</td>\n",
              "    </tr>\n",
              "  </tbody>\n",
              "</table>\n",
              "<p>833 rows × 3 columns</p>\n",
              "</div>"
            ],
            "text/plain": [
              "         yhat  var2(t-1)  var3(t-1)\n",
              "0    0.614986    0.92262   0.082415\n",
              "1    0.614825    0.92262   0.082415\n",
              "2    0.618869    0.92262   0.082415\n",
              "3    0.620401    0.92262   0.082415\n",
              "4    0.622195    0.92262   0.082415\n",
              "..        ...        ...        ...\n",
              "828  1.002208    1.00000   0.432025\n",
              "829  1.006370    1.00000   0.432025\n",
              "830  0.986978    1.00000   0.432025\n",
              "831  0.981468    1.00000   0.432025\n",
              "832  0.989094    1.00000   0.432025\n",
              "\n",
              "[833 rows x 3 columns]"
            ]
          },
          "execution_count": 266,
          "metadata": {},
          "output_type": "execute_result"
        }
      ],
      "source": [
        "data_for_future_test = pd.concat([new_test_data2, reframed_for_test4], axis=1)\n",
        "data_for_future_test "
      ]
    },
    {
      "cell_type": "code",
      "execution_count": null,
      "metadata": {
        "colab": {
          "base_uri": "https://localhost:8080/"
        },
        "id": "f_d_pJd2QRQL",
        "outputId": "935b1d2e-d256-469c-e0f0-34b68978afd7"
      },
      "outputs": [
        {
          "data": {
            "text/plain": [
              "array([[0.61498606, 0.9226202 , 0.08241473],\n",
              "       [0.61482537, 0.9226202 , 0.08241473],\n",
              "       [0.61886907, 0.9226202 , 0.08241473],\n",
              "       ...,\n",
              "       [0.9869781 , 1.        , 0.43202487],\n",
              "       [0.9814676 , 1.        , 0.43202487],\n",
              "       [0.9890942 , 1.        , 0.43202487]], dtype=float32)"
            ]
          },
          "execution_count": 267,
          "metadata": {},
          "output_type": "execute_result"
        }
      ],
      "source": [
        "data_for_future_test_arr = data_for_future_test.to_numpy()\n",
        "data_for_future_test_arr"
      ]
    },
    {
      "cell_type": "code",
      "execution_count": null,
      "metadata": {
        "colab": {
          "base_uri": "https://localhost:8080/"
        },
        "id": "j4WIYSMlTQ-H",
        "outputId": "1becbf1a-7f4a-4ad4-d4d0-c271b30d6f2a"
      },
      "outputs": [
        {
          "data": {
            "text/plain": [
              "(833, 1, 3)"
            ]
          },
          "execution_count": 268,
          "metadata": {},
          "output_type": "execute_result"
        }
      ],
      "source": [
        "data_for_future_test_arr = data_for_future_test_arr.reshape((data_for_future_test.shape[0], 1, data_for_future_test.shape[1]))\n",
        "data_for_future_test_arr.shape"
      ]
    },
    {
      "cell_type": "code",
      "execution_count": null,
      "metadata": {
        "id": "A_u2U-MBTQ4_"
      },
      "outputs": [],
      "source": [
        "prr1 = model.predict(data_for_future_test_arr)"
      ]
    },
    {
      "cell_type": "code",
      "execution_count": null,
      "metadata": {
        "colab": {
          "base_uri": "https://localhost:8080/"
        },
        "id": "ZTXCj9-HTQy7",
        "outputId": "4d22b562-0a50-4941-ede1-380ec20316e7"
      },
      "outputs": [
        {
          "data": {
            "text/plain": [
              "array([6138.065 , 6140.96  , 6167.3765, 6169.3535, 6188.031 , 6196.948 ,\n",
              "       6183.205 , 6188.6978, 6218.388 , 6239.5264, 6074.6396, 6120.004 ,\n",
              "       6149.641 , 6201.622 , 6206.936 , 6232.355 , 6276.658 , 6281.839 ,\n",
              "       6274.4824, 6274.4824, 6269.578 , 6320.429 , 6382.81  , 6372.0825,\n",
              "       6350.251 , 6373.8823, 6399.7515, 6279.453 , 6245.3833, 6292.5493],\n",
              "      dtype=float32)"
            ]
          },
          "execution_count": 270,
          "metadata": {},
          "output_type": "execute_result"
        }
      ],
      "source": [
        "inverse_future_preds = concatenate((prr1, test_X[:, 1:]), axis=1)\n",
        "inverse_future_preds = scaler.inverse_transform(inverse_future_preds)\n",
        "inverse_future_preds = inverse_future_preds[:,0][-30:]\n",
        "inverse_future_preds"
      ]
    },
    {
      "cell_type": "code",
      "execution_count": null,
      "metadata": {
        "id": "-9y8sETfQRGj"
      },
      "outputs": [],
      "source": []
    },
    {
      "cell_type": "code",
      "execution_count": null,
      "metadata": {
        "colab": {
          "base_uri": "https://localhost:8080/",
          "height": 483
        },
        "id": "OELxgWk2jjU_",
        "outputId": "f69627b6-80fe-40d9-8b6b-4f9086fb28b7"
      },
      "outputs": [
        {
          "data": {
            "image/png": "[encoded data removed]",
            "text/plain": [
              "<Figure size 1080x576 with 1 Axes>"
            ]
          },
          "metadata": {
            "needs_background": "light"
          },
          "output_type": "display_data"
        }
      ],
      "source": [
        ";# plot train result \n",
        "plt.figure(figsize=(15,8))\n",
        "pyplot.plot(data_dates[(train_y.size+1):], inv_y, label='test_actual')\n",
        "pyplot.plot(data_dates[(train_y.size+1):], inv_yhat, label='test_predicted')\n",
        "pyplot.legend()\n",
        "pyplot.show()"
      ]
    },
    {
      "cell_type": "code",
      "execution_count": null,
      "metadata": {
        "colab": {
          "base_uri": "https://localhost:8080/",
          "height": 483
        },
        "id": "-7b9TD1aZmJP",
        "outputId": "26d10047-2842-431c-8a41-c02f3eeee149"
      },
      "outputs": [
        {
          "data": {
            "image/png": "[encoded data removed]",
            "text/plain": [
              "<Figure size 1080x576 with 1 Axes>"
            ]
          },
          "metadata": {
            "needs_background": "light"
          },
          "output_type": "display_data"
        }
      ],
      "source": [
        ";# plot train result \n",
        "plt.figure(figsize=(15,8))\n",
        "pyplot.plot(inv_y[-30:], label='test_actual')\n",
        "pyplot.plot( inv_yhat[-30:], label='test_predicted')\n",
        "pyplot.legend()\n",
        "pyplot.show()"
      ]
    },
    {
      "cell_type": "code",
      "execution_count": null,
      "metadata": {
        "colab": {
          "base_uri": "https://localhost:8080/",
          "height": 498
        },
        "id": "JdGzJ6ZotS-j",
        "outputId": "9e914a7b-daa5-4ff9-d6e9-5a4d2697ec86"
      },
      "outputs": [
        {
          "data": {
            "image/png": "[encoded data removed]",
            "text/plain": [
              "<Figure size 1080x576 with 1 Axes>"
            ]
          },
          "metadata": {
            "needs_background": "light"
          },
          "output_type": "display_data"
        }
      ],
      "source": [
        "#Test Error\n",
        "plt.figure(figsize=(15,8))    \n",
        "\n",
        "sns.distplot(inv_yhat - inv_y)\n",
        "plt.title('Test Error Distribution')\n",
        "plt.show()"
      ]
    },
    {
      "cell_type": "markdown",
      "metadata": {
        "id": "4WwXtjcPHu28"
      },
      "source": [
        "# Dates of Predictions"
      ]
    },
    {
      "cell_type": "code",
      "execution_count": null,
      "metadata": {
        "colab": {
          "base_uri": "https://localhost:8080/"
        },
        "id": "rOfreCufIEGk",
        "outputId": "8b44224c-fe12-467c-f666-219036415f26"
      },
      "outputs": [
        {
          "data": {
            "text/plain": [
              "<DatetimeArray>\n",
              "['2017-05-04 00:00:00', '2017-05-05 00:00:00', '2017-05-08 00:00:00',\n",
              " '2017-05-09 00:00:00', '2017-05-10 00:00:00', '2017-05-11 00:00:00',\n",
              " '2017-05-12 00:00:00', '2017-05-15 00:00:00', '2017-05-16 00:00:00',\n",
              " '2017-05-17 00:00:00', '2017-05-18 00:00:00', '2017-05-19 00:00:00',\n",
              " '2017-05-22 00:00:00', '2017-05-23 00:00:00', '2017-05-24 00:00:00',\n",
              " '2017-05-25 00:00:00', '2017-05-26 00:00:00', '2017-05-29 00:00:00',\n",
              " '2017-05-30 00:00:00', '2017-05-31 00:00:00', '2017-06-01 00:00:00',\n",
              " '2017-06-02 00:00:00', '2017-06-05 00:00:00', '2017-06-06 00:00:00',\n",
              " '2017-06-07 00:00:00', '2017-06-08 00:00:00', '2017-06-09 00:00:00',\n",
              " '2017-06-12 00:00:00', '2017-06-13 00:00:00', '2017-06-14 00:00:00']\n",
              "Length: 30, dtype: datetime64[ns]"
            ]
          },
          "execution_count": 274,
          "metadata": {},
          "output_type": "execute_result"
        }
      ],
      "source": [
        "n_steps = 30\n",
        "day_new=np.arange(1,n_steps+1)\n",
        "day_pred=np.arange(n_steps+1,n_steps+31)\n",
        "day_new2 = data_dates[len(multi_data1)-n_steps:]\n",
        "day_new2 = day_new2.array\n",
        "day_new2"
      ]
    },
    {
      "cell_type": "code",
      "execution_count": null,
      "metadata": {
        "colab": {
          "base_uri": "https://localhost:8080/"
        },
        "id": "gDh6k0WIIEEJ",
        "outputId": "b9234573-d826-43ad-e3ce-3dc51ffb6e97"
      },
      "outputs": [
        {
          "data": {
            "text/plain": [
              "(Timestamp('2017-06-15 00:00:00'), Timestamp('2017-07-14 00:00:00'))"
            ]
          },
          "execution_count": 275,
          "metadata": {},
          "output_type": "execute_result"
        }
      ],
      "source": [
        "import datetime\n",
        "first_day_of_prediction = day_new2[-1] + datetime.timedelta(days=1)\n",
        "\n",
        "end_day_of_prediction = day_new2[-1] + datetime.timedelta(days=30)\n",
        "first_day_of_prediction, end_day_of_prediction"
      ]
    },
    {
      "cell_type": "code",
      "execution_count": null,
      "metadata": {
        "colab": {
          "base_uri": "https://localhost:8080/"
        },
        "id": "wOI7DsWTIEBl",
        "outputId": "31cc4d6b-67fa-47e5-e4ae-87d502c671e2"
      },
      "outputs": [
        {
          "data": {
            "text/plain": [
              "<DatetimeArray>\n",
              "['2017-06-15 00:00:00', '2017-06-16 00:00:00', '2017-06-17 00:00:00',\n",
              " '2017-06-18 00:00:00', '2017-06-19 00:00:00', '2017-06-20 00:00:00',\n",
              " '2017-06-21 00:00:00', '2017-06-22 00:00:00', '2017-06-23 00:00:00',\n",
              " '2017-06-24 00:00:00', '2017-06-25 00:00:00', '2017-06-26 00:00:00',\n",
              " '2017-06-27 00:00:00', '2017-06-28 00:00:00', '2017-06-29 00:00:00',\n",
              " '2017-06-30 00:00:00', '2017-07-01 00:00:00', '2017-07-02 00:00:00',\n",
              " '2017-07-03 00:00:00', '2017-07-04 00:00:00', '2017-07-05 00:00:00',\n",
              " '2017-07-06 00:00:00', '2017-07-07 00:00:00', '2017-07-08 00:00:00',\n",
              " '2017-07-09 00:00:00', '2017-07-10 00:00:00', '2017-07-11 00:00:00',\n",
              " '2017-07-12 00:00:00', '2017-07-13 00:00:00', '2017-07-14 00:00:00']\n",
              "Length: 30, dtype: datetime64[ns]"
            ]
          },
          "execution_count": 276,
          "metadata": {},
          "output_type": "execute_result"
        }
      ],
      "source": [
        "day_pred2 = pd.Series(pd.date_range(first_day_of_prediction, freq=\"D\", periods=len(inv_yhat[-30:]))).array\n",
        "day_pred2"
      ]
    },
    {
      "cell_type": "code",
      "execution_count": null,
      "metadata": {
        "colab": {
          "base_uri": "https://localhost:8080/",
          "height": 692
        },
        "id": "9LmolglQID_G",
        "outputId": "5cefb49a-61ce-4fd6-e742-78a18305ae07"
      },
      "outputs": [
        {
          "data": {
            "text/html": [
              "<div>\n",
              "<style scoped>\n",
              "    .dataframe tbody tr th:only-of-type {\n",
              "        vertical-align: middle;\n",
              "    }\n",
              "\n",
              "    .dataframe tbody tr th {\n",
              "        vertical-align: top;\n",
              "    }\n",
              "\n",
              "    .dataframe thead th {\n",
              "        text-align: right;\n",
              "    }\n",
              "</style>\n",
              "<table border=\"1\" class=\"dataframe\">\n",
              "  <thead>\n",
              "    <tr style=\"text-align: right;\">\n",
              "      <th></th>\n",
              "      <th>Date</th>\n",
              "      <th>Close</th>\n",
              "      <th>Volume</th>\n",
              "    </tr>\n",
              "  </thead>\n",
              "  <tbody>\n",
              "    <tr>\n",
              "      <th>0</th>\n",
              "      <td>2017-06-15</td>\n",
              "      <td>6165.500000</td>\n",
              "      <td>1858130000</td>\n",
              "    </tr>\n",
              "    <tr>\n",
              "      <th>1</th>\n",
              "      <td>2017-06-16</td>\n",
              "      <td>6151.759766</td>\n",
              "      <td>3120640000</td>\n",
              "    </tr>\n",
              "    <tr>\n",
              "      <th>2</th>\n",
              "      <td>2017-06-19</td>\n",
              "      <td>6239.009766</td>\n",
              "      <td>1976970000</td>\n",
              "    </tr>\n",
              "    <tr>\n",
              "      <th>3</th>\n",
              "      <td>2017-06-20</td>\n",
              "      <td>6188.029785</td>\n",
              "      <td>2570130000</td>\n",
              "    </tr>\n",
              "    <tr>\n",
              "      <th>4</th>\n",
              "      <td>2017-06-21</td>\n",
              "      <td>6233.950195</td>\n",
              "      <td>2401440000</td>\n",
              "    </tr>\n",
              "    <tr>\n",
              "      <th>5</th>\n",
              "      <td>2017-06-22</td>\n",
              "      <td>6236.689941</td>\n",
              "      <td>2170250000</td>\n",
              "    </tr>\n",
              "    <tr>\n",
              "      <th>6</th>\n",
              "      <td>2017-06-23</td>\n",
              "      <td>6265.250000</td>\n",
              "      <td>2704600000</td>\n",
              "    </tr>\n",
              "    <tr>\n",
              "      <th>7</th>\n",
              "      <td>2017-06-26</td>\n",
              "      <td>6247.149902</td>\n",
              "      <td>2150630000</td>\n",
              "    </tr>\n",
              "    <tr>\n",
              "      <th>8</th>\n",
              "      <td>2017-06-27</td>\n",
              "      <td>6146.620117</td>\n",
              "      <td>2181830000</td>\n",
              "    </tr>\n",
              "    <tr>\n",
              "      <th>9</th>\n",
              "      <td>2017-06-28</td>\n",
              "      <td>6234.410156</td>\n",
              "      <td>2069400000</td>\n",
              "    </tr>\n",
              "    <tr>\n",
              "      <th>10</th>\n",
              "      <td>2017-06-29</td>\n",
              "      <td>6144.350098</td>\n",
              "      <td>2402250000</td>\n",
              "    </tr>\n",
              "    <tr>\n",
              "      <th>11</th>\n",
              "      <td>2017-06-30</td>\n",
              "      <td>6140.419922</td>\n",
              "      <td>1998330000</td>\n",
              "    </tr>\n",
              "    <tr>\n",
              "      <th>12</th>\n",
              "      <td>2017-07-03</td>\n",
              "      <td>6110.060059</td>\n",
              "      <td>1099560000</td>\n",
              "    </tr>\n",
              "    <tr>\n",
              "      <th>13</th>\n",
              "      <td>2017-07-05</td>\n",
              "      <td>6150.859863</td>\n",
              "      <td>1872130000</td>\n",
              "    </tr>\n",
              "    <tr>\n",
              "      <th>14</th>\n",
              "      <td>2017-07-06</td>\n",
              "      <td>6089.459961</td>\n",
              "      <td>1990590000</td>\n",
              "    </tr>\n",
              "    <tr>\n",
              "      <th>15</th>\n",
              "      <td>2017-07-07</td>\n",
              "      <td>6153.080078</td>\n",
              "      <td>1700630000</td>\n",
              "    </tr>\n",
              "    <tr>\n",
              "      <th>16</th>\n",
              "      <td>2017-07-10</td>\n",
              "      <td>6176.390137</td>\n",
              "      <td>1675470000</td>\n",
              "    </tr>\n",
              "    <tr>\n",
              "      <th>17</th>\n",
              "      <td>2017-07-11</td>\n",
              "      <td>6193.299805</td>\n",
              "      <td>1808110000</td>\n",
              "    </tr>\n",
              "    <tr>\n",
              "      <th>18</th>\n",
              "      <td>2017-07-12</td>\n",
              "      <td>6261.169922</td>\n",
              "      <td>1820550000</td>\n",
              "    </tr>\n",
              "    <tr>\n",
              "      <th>19</th>\n",
              "      <td>2017-07-13</td>\n",
              "      <td>6274.439941</td>\n",
              "      <td>1803810000</td>\n",
              "    </tr>\n",
              "    <tr>\n",
              "      <th>20</th>\n",
              "      <td>2017-07-14</td>\n",
              "      <td>6312.470215</td>\n",
              "      <td>1608120000</td>\n",
              "    </tr>\n",
              "  </tbody>\n",
              "</table>\n",
              "</div>"
            ],
            "text/plain": [
              "         Date        Close      Volume\n",
              "0  2017-06-15  6165.500000  1858130000\n",
              "1  2017-06-16  6151.759766  3120640000\n",
              "2  2017-06-19  6239.009766  1976970000\n",
              "3  2017-06-20  6188.029785  2570130000\n",
              "4  2017-06-21  6233.950195  2401440000\n",
              "5  2017-06-22  6236.689941  2170250000\n",
              "6  2017-06-23  6265.250000  2704600000\n",
              "7  2017-06-26  6247.149902  2150630000\n",
              "8  2017-06-27  6146.620117  2181830000\n",
              "9  2017-06-28  6234.410156  2069400000\n",
              "10 2017-06-29  6144.350098  2402250000\n",
              "11 2017-06-30  6140.419922  1998330000\n",
              "12 2017-07-03  6110.060059  1099560000\n",
              "13 2017-07-05  6150.859863  1872130000\n",
              "14 2017-07-06  6089.459961  1990590000\n",
              "15 2017-07-07  6153.080078  1700630000\n",
              "16 2017-07-10  6176.390137  1675470000\n",
              "17 2017-07-11  6193.299805  1808110000\n",
              "18 2017-07-12  6261.169922  1820550000\n",
              "19 2017-07-13  6274.439941  1803810000\n",
              "20 2017-07-14  6312.470215  1608120000"
            ]
          },
          "execution_count": 277,
          "metadata": {},
          "output_type": "execute_result"
        }
      ],
      "source": [
        "def real_results_prediction(table):\n",
        "    table = table.loc[(table['Date'] >= first_day_of_prediction) & (table['Date'] <= end_day_of_prediction)] \n",
        "    table.reset_index(inplace=True, drop=True)\n",
        "    return table\n",
        "nasdaq_comparison = real_results_prediction(nasdaq_all)\n",
        "nasdaq_comparison"
      ]
    },
    {
      "cell_type": "code",
      "execution_count": null,
      "metadata": {
        "colab": {
          "base_uri": "https://localhost:8080/",
          "height": 968
        },
        "id": "yvyYsXtEID8R",
        "outputId": "3b7d2b4a-3a93-4770-ffa2-2922cc170e7c"
      },
      "outputs": [
        {
          "data": {
            "text/html": [
              "<div>\n",
              "<style scoped>\n",
              "    .dataframe tbody tr th:only-of-type {\n",
              "        vertical-align: middle;\n",
              "    }\n",
              "\n",
              "    .dataframe tbody tr th {\n",
              "        vertical-align: top;\n",
              "    }\n",
              "\n",
              "    .dataframe thead th {\n",
              "        text-align: right;\n",
              "    }\n",
              "</style>\n",
              "<table border=\"1\" class=\"dataframe\">\n",
              "  <thead>\n",
              "    <tr style=\"text-align: right;\">\n",
              "      <th></th>\n",
              "      <th>Date</th>\n",
              "      <th>Predictions</th>\n",
              "    </tr>\n",
              "  </thead>\n",
              "  <tbody>\n",
              "    <tr>\n",
              "      <th>0</th>\n",
              "      <td>2017-06-15</td>\n",
              "      <td>6138.064941</td>\n",
              "    </tr>\n",
              "    <tr>\n",
              "      <th>1</th>\n",
              "      <td>2017-06-16</td>\n",
              "      <td>6140.959961</td>\n",
              "    </tr>\n",
              "    <tr>\n",
              "      <th>2</th>\n",
              "      <td>2017-06-17</td>\n",
              "      <td>6167.376465</td>\n",
              "    </tr>\n",
              "    <tr>\n",
              "      <th>3</th>\n",
              "      <td>2017-06-18</td>\n",
              "      <td>6169.353516</td>\n",
              "    </tr>\n",
              "    <tr>\n",
              "      <th>4</th>\n",
              "      <td>2017-06-19</td>\n",
              "      <td>6188.030762</td>\n",
              "    </tr>\n",
              "    <tr>\n",
              "      <th>5</th>\n",
              "      <td>2017-06-20</td>\n",
              "      <td>6196.948242</td>\n",
              "    </tr>\n",
              "    <tr>\n",
              "      <th>6</th>\n",
              "      <td>2017-06-21</td>\n",
              "      <td>6183.205078</td>\n",
              "    </tr>\n",
              "    <tr>\n",
              "      <th>7</th>\n",
              "      <td>2017-06-22</td>\n",
              "      <td>6188.697754</td>\n",
              "    </tr>\n",
              "    <tr>\n",
              "      <th>8</th>\n",
              "      <td>2017-06-23</td>\n",
              "      <td>6218.388184</td>\n",
              "    </tr>\n",
              "    <tr>\n",
              "      <th>9</th>\n",
              "      <td>2017-06-24</td>\n",
              "      <td>6239.526367</td>\n",
              "    </tr>\n",
              "    <tr>\n",
              "      <th>10</th>\n",
              "      <td>2017-06-25</td>\n",
              "      <td>6074.639648</td>\n",
              "    </tr>\n",
              "    <tr>\n",
              "      <th>11</th>\n",
              "      <td>2017-06-26</td>\n",
              "      <td>6120.003906</td>\n",
              "    </tr>\n",
              "    <tr>\n",
              "      <th>12</th>\n",
              "      <td>2017-06-27</td>\n",
              "      <td>6149.641113</td>\n",
              "    </tr>\n",
              "    <tr>\n",
              "      <th>13</th>\n",
              "      <td>2017-06-28</td>\n",
              "      <td>6201.622070</td>\n",
              "    </tr>\n",
              "    <tr>\n",
              "      <th>14</th>\n",
              "      <td>2017-06-29</td>\n",
              "      <td>6206.936035</td>\n",
              "    </tr>\n",
              "    <tr>\n",
              "      <th>15</th>\n",
              "      <td>2017-06-30</td>\n",
              "      <td>6232.354980</td>\n",
              "    </tr>\n",
              "    <tr>\n",
              "      <th>16</th>\n",
              "      <td>2017-07-01</td>\n",
              "      <td>6276.658203</td>\n",
              "    </tr>\n",
              "    <tr>\n",
              "      <th>17</th>\n",
              "      <td>2017-07-02</td>\n",
              "      <td>6281.838867</td>\n",
              "    </tr>\n",
              "    <tr>\n",
              "      <th>18</th>\n",
              "      <td>2017-07-03</td>\n",
              "      <td>6274.482422</td>\n",
              "    </tr>\n",
              "    <tr>\n",
              "      <th>19</th>\n",
              "      <td>2017-07-04</td>\n",
              "      <td>6274.482422</td>\n",
              "    </tr>\n",
              "    <tr>\n",
              "      <th>20</th>\n",
              "      <td>2017-07-05</td>\n",
              "      <td>6269.578125</td>\n",
              "    </tr>\n",
              "    <tr>\n",
              "      <th>21</th>\n",
              "      <td>2017-07-06</td>\n",
              "      <td>6320.429199</td>\n",
              "    </tr>\n",
              "    <tr>\n",
              "      <th>22</th>\n",
              "      <td>2017-07-07</td>\n",
              "      <td>6382.810059</td>\n",
              "    </tr>\n",
              "    <tr>\n",
              "      <th>23</th>\n",
              "      <td>2017-07-08</td>\n",
              "      <td>6372.082520</td>\n",
              "    </tr>\n",
              "    <tr>\n",
              "      <th>24</th>\n",
              "      <td>2017-07-09</td>\n",
              "      <td>6350.250977</td>\n",
              "    </tr>\n",
              "    <tr>\n",
              "      <th>25</th>\n",
              "      <td>2017-07-10</td>\n",
              "      <td>6373.882324</td>\n",
              "    </tr>\n",
              "    <tr>\n",
              "      <th>26</th>\n",
              "      <td>2017-07-11</td>\n",
              "      <td>6399.751465</td>\n",
              "    </tr>\n",
              "    <tr>\n",
              "      <th>27</th>\n",
              "      <td>2017-07-12</td>\n",
              "      <td>6279.453125</td>\n",
              "    </tr>\n",
              "    <tr>\n",
              "      <th>28</th>\n",
              "      <td>2017-07-13</td>\n",
              "      <td>6245.383301</td>\n",
              "    </tr>\n",
              "    <tr>\n",
              "      <th>29</th>\n",
              "      <td>2017-07-14</td>\n",
              "      <td>6292.549316</td>\n",
              "    </tr>\n",
              "  </tbody>\n",
              "</table>\n",
              "</div>"
            ],
            "text/plain": [
              "         Date  Predictions\n",
              "0  2017-06-15  6138.064941\n",
              "1  2017-06-16  6140.959961\n",
              "2  2017-06-17  6167.376465\n",
              "3  2017-06-18  6169.353516\n",
              "4  2017-06-19  6188.030762\n",
              "5  2017-06-20  6196.948242\n",
              "6  2017-06-21  6183.205078\n",
              "7  2017-06-22  6188.697754\n",
              "8  2017-06-23  6218.388184\n",
              "9  2017-06-24  6239.526367\n",
              "10 2017-06-25  6074.639648\n",
              "11 2017-06-26  6120.003906\n",
              "12 2017-06-27  6149.641113\n",
              "13 2017-06-28  6201.622070\n",
              "14 2017-06-29  6206.936035\n",
              "15 2017-06-30  6232.354980\n",
              "16 2017-07-01  6276.658203\n",
              "17 2017-07-02  6281.838867\n",
              "18 2017-07-03  6274.482422\n",
              "19 2017-07-04  6274.482422\n",
              "20 2017-07-05  6269.578125\n",
              "21 2017-07-06  6320.429199\n",
              "22 2017-07-07  6382.810059\n",
              "23 2017-07-08  6372.082520\n",
              "24 2017-07-09  6350.250977\n",
              "25 2017-07-10  6373.882324\n",
              "26 2017-07-11  6399.751465\n",
              "27 2017-07-12  6279.453125\n",
              "28 2017-07-13  6245.383301\n",
              "29 2017-07-14  6292.549316"
            ]
          },
          "execution_count": 278,
          "metadata": {},
          "output_type": "execute_result"
        }
      ],
      "source": [
        "data = {'Date':  day_pred2}\n",
        "\n",
        "prediction_data = pd.DataFrame (data, columns = ['Date'])\n",
        "\n",
        "prediction_data['Predictions'] = inverse_future_preds\n",
        "prediction_data"
      ]
    },
    {
      "cell_type": "code",
      "execution_count": null,
      "metadata": {
        "colab": {
          "base_uri": "https://localhost:8080/",
          "height": 968
        },
        "id": "eHN-uwpCID5X",
        "outputId": "96e8da86-92ea-4de0-8c5f-6a445ac9ed65"
      },
      "outputs": [
        {
          "data": {
            "text/html": [
              "<div>\n",
              "<style scoped>\n",
              "    .dataframe tbody tr th:only-of-type {\n",
              "        vertical-align: middle;\n",
              "    }\n",
              "\n",
              "    .dataframe tbody tr th {\n",
              "        vertical-align: top;\n",
              "    }\n",
              "\n",
              "    .dataframe thead th {\n",
              "        text-align: right;\n",
              "    }\n",
              "</style>\n",
              "<table border=\"1\" class=\"dataframe\">\n",
              "  <thead>\n",
              "    <tr style=\"text-align: right;\">\n",
              "      <th></th>\n",
              "      <th>Date</th>\n",
              "      <th>Predictions</th>\n",
              "      <th>Close</th>\n",
              "    </tr>\n",
              "  </thead>\n",
              "  <tbody>\n",
              "    <tr>\n",
              "      <th>0</th>\n",
              "      <td>2017-06-15</td>\n",
              "      <td>6138.064941</td>\n",
              "      <td>6165.500000</td>\n",
              "    </tr>\n",
              "    <tr>\n",
              "      <th>1</th>\n",
              "      <td>2017-06-16</td>\n",
              "      <td>6140.959961</td>\n",
              "      <td>6151.759766</td>\n",
              "    </tr>\n",
              "    <tr>\n",
              "      <th>2</th>\n",
              "      <td>2017-06-17</td>\n",
              "      <td>6167.376465</td>\n",
              "      <td>6180.843099</td>\n",
              "    </tr>\n",
              "    <tr>\n",
              "      <th>3</th>\n",
              "      <td>2017-06-18</td>\n",
              "      <td>6169.353516</td>\n",
              "      <td>6209.926433</td>\n",
              "    </tr>\n",
              "    <tr>\n",
              "      <th>4</th>\n",
              "      <td>2017-06-19</td>\n",
              "      <td>6188.030762</td>\n",
              "      <td>6239.009766</td>\n",
              "    </tr>\n",
              "    <tr>\n",
              "      <th>5</th>\n",
              "      <td>2017-06-20</td>\n",
              "      <td>6196.948242</td>\n",
              "      <td>6188.029785</td>\n",
              "    </tr>\n",
              "    <tr>\n",
              "      <th>6</th>\n",
              "      <td>2017-06-21</td>\n",
              "      <td>6183.205078</td>\n",
              "      <td>6233.950195</td>\n",
              "    </tr>\n",
              "    <tr>\n",
              "      <th>7</th>\n",
              "      <td>2017-06-22</td>\n",
              "      <td>6188.697754</td>\n",
              "      <td>6236.689941</td>\n",
              "    </tr>\n",
              "    <tr>\n",
              "      <th>8</th>\n",
              "      <td>2017-06-23</td>\n",
              "      <td>6218.388184</td>\n",
              "      <td>6265.250000</td>\n",
              "    </tr>\n",
              "    <tr>\n",
              "      <th>9</th>\n",
              "      <td>2017-06-24</td>\n",
              "      <td>6239.526367</td>\n",
              "      <td>6259.216634</td>\n",
              "    </tr>\n",
              "    <tr>\n",
              "      <th>10</th>\n",
              "      <td>2017-06-25</td>\n",
              "      <td>6074.639648</td>\n",
              "      <td>6253.183268</td>\n",
              "    </tr>\n",
              "    <tr>\n",
              "      <th>11</th>\n",
              "      <td>2017-06-26</td>\n",
              "      <td>6120.003906</td>\n",
              "      <td>6247.149902</td>\n",
              "    </tr>\n",
              "    <tr>\n",
              "      <th>12</th>\n",
              "      <td>2017-06-27</td>\n",
              "      <td>6149.641113</td>\n",
              "      <td>6146.620117</td>\n",
              "    </tr>\n",
              "    <tr>\n",
              "      <th>13</th>\n",
              "      <td>2017-06-28</td>\n",
              "      <td>6201.622070</td>\n",
              "      <td>6234.410156</td>\n",
              "    </tr>\n",
              "    <tr>\n",
              "      <th>14</th>\n",
              "      <td>2017-06-29</td>\n",
              "      <td>6206.936035</td>\n",
              "      <td>6144.350098</td>\n",
              "    </tr>\n",
              "    <tr>\n",
              "      <th>15</th>\n",
              "      <td>2017-06-30</td>\n",
              "      <td>6232.354980</td>\n",
              "      <td>6140.419922</td>\n",
              "    </tr>\n",
              "    <tr>\n",
              "      <th>16</th>\n",
              "      <td>2017-07-01</td>\n",
              "      <td>6276.658203</td>\n",
              "      <td>6130.299968</td>\n",
              "    </tr>\n",
              "    <tr>\n",
              "      <th>17</th>\n",
              "      <td>2017-07-02</td>\n",
              "      <td>6281.838867</td>\n",
              "      <td>6120.180013</td>\n",
              "    </tr>\n",
              "    <tr>\n",
              "      <th>18</th>\n",
              "      <td>2017-07-03</td>\n",
              "      <td>6274.482422</td>\n",
              "      <td>6110.060059</td>\n",
              "    </tr>\n",
              "    <tr>\n",
              "      <th>19</th>\n",
              "      <td>2017-07-04</td>\n",
              "      <td>6274.482422</td>\n",
              "      <td>6130.459961</td>\n",
              "    </tr>\n",
              "    <tr>\n",
              "      <th>20</th>\n",
              "      <td>2017-07-05</td>\n",
              "      <td>6269.578125</td>\n",
              "      <td>6150.859863</td>\n",
              "    </tr>\n",
              "    <tr>\n",
              "      <th>21</th>\n",
              "      <td>2017-07-06</td>\n",
              "      <td>6320.429199</td>\n",
              "      <td>6089.459961</td>\n",
              "    </tr>\n",
              "    <tr>\n",
              "      <th>22</th>\n",
              "      <td>2017-07-07</td>\n",
              "      <td>6382.810059</td>\n",
              "      <td>6153.080078</td>\n",
              "    </tr>\n",
              "    <tr>\n",
              "      <th>23</th>\n",
              "      <td>2017-07-08</td>\n",
              "      <td>6372.082520</td>\n",
              "      <td>6160.850098</td>\n",
              "    </tr>\n",
              "    <tr>\n",
              "      <th>24</th>\n",
              "      <td>2017-07-09</td>\n",
              "      <td>6350.250977</td>\n",
              "      <td>6168.620117</td>\n",
              "    </tr>\n",
              "    <tr>\n",
              "      <th>25</th>\n",
              "      <td>2017-07-10</td>\n",
              "      <td>6373.882324</td>\n",
              "      <td>6176.390137</td>\n",
              "    </tr>\n",
              "    <tr>\n",
              "      <th>26</th>\n",
              "      <td>2017-07-11</td>\n",
              "      <td>6399.751465</td>\n",
              "      <td>6193.299805</td>\n",
              "    </tr>\n",
              "    <tr>\n",
              "      <th>27</th>\n",
              "      <td>2017-07-12</td>\n",
              "      <td>6279.453125</td>\n",
              "      <td>6261.169922</td>\n",
              "    </tr>\n",
              "    <tr>\n",
              "      <th>28</th>\n",
              "      <td>2017-07-13</td>\n",
              "      <td>6245.383301</td>\n",
              "      <td>6274.439941</td>\n",
              "    </tr>\n",
              "    <tr>\n",
              "      <th>29</th>\n",
              "      <td>2017-07-14</td>\n",
              "      <td>6292.549316</td>\n",
              "      <td>6312.470215</td>\n",
              "    </tr>\n",
              "  </tbody>\n",
              "</table>\n",
              "</div>"
            ],
            "text/plain": [
              "         Date  Predictions        Close\n",
              "0  2017-06-15  6138.064941  6165.500000\n",
              "1  2017-06-16  6140.959961  6151.759766\n",
              "2  2017-06-17  6167.376465  6180.843099\n",
              "3  2017-06-18  6169.353516  6209.926433\n",
              "4  2017-06-19  6188.030762  6239.009766\n",
              "5  2017-06-20  6196.948242  6188.029785\n",
              "6  2017-06-21  6183.205078  6233.950195\n",
              "7  2017-06-22  6188.697754  6236.689941\n",
              "8  2017-06-23  6218.388184  6265.250000\n",
              "9  2017-06-24  6239.526367  6259.216634\n",
              "10 2017-06-25  6074.639648  6253.183268\n",
              "11 2017-06-26  6120.003906  6247.149902\n",
              "12 2017-06-27  6149.641113  6146.620117\n",
              "13 2017-06-28  6201.622070  6234.410156\n",
              "14 2017-06-29  6206.936035  6144.350098\n",
              "15 2017-06-30  6232.354980  6140.419922\n",
              "16 2017-07-01  6276.658203  6130.299968\n",
              "17 2017-07-02  6281.838867  6120.180013\n",
              "18 2017-07-03  6274.482422  6110.060059\n",
              "19 2017-07-04  6274.482422  6130.459961\n",
              "20 2017-07-05  6269.578125  6150.859863\n",
              "21 2017-07-06  6320.429199  6089.459961\n",
              "22 2017-07-07  6382.810059  6153.080078\n",
              "23 2017-07-08  6372.082520  6160.850098\n",
              "24 2017-07-09  6350.250977  6168.620117\n",
              "25 2017-07-10  6373.882324  6176.390137\n",
              "26 2017-07-11  6399.751465  6193.299805\n",
              "27 2017-07-12  6279.453125  6261.169922\n",
              "28 2017-07-13  6245.383301  6274.439941\n",
              "29 2017-07-14  6292.549316  6312.470215"
            ]
          },
          "execution_count": 279,
          "metadata": {},
          "output_type": "execute_result"
        }
      ],
      "source": [
        "comparison_data = pd.merge(prediction_data, nasdaq_comparison, how =\"outer\", on=[\"Date\"]) \n",
        "comparison_data.update(comparison_data.Close.interpolate())\n",
        "comparison_data = comparison_data[['Date', 'Predictions', 'Close']]\n",
        "comparison_data"
      ]
    },
    {
      "cell_type": "markdown",
      "metadata": {
        "id": "-VOucAm1IeqE"
      },
      "source": [
        "# Evaluation of Prediction Results"
      ]
    },
    {
      "cell_type": "code",
      "execution_count": null,
      "metadata": {
        "colab": {
          "base_uri": "https://localhost:8080/"
        },
        "id": "jAPerEHyWcFg",
        "outputId": "0e3b9eaf-e9bc-4abd-dfe1-8cf0e283caba"
      },
      "outputs": [
        {
          "data": {
            "text/plain": [
              "122.56867346690493"
            ]
          },
          "execution_count": 280,
          "metadata": {},
          "output_type": "execute_result"
        }
      ],
      "source": [
        "mse_of_pred = math.sqrt(mean_squared_error(comparison_data.Close,comparison_data.Predictions))\n",
        "mse_of_pred"
      ]
    },
    {
      "cell_type": "code",
      "execution_count": null,
      "metadata": {
        "colab": {
          "base_uri": "https://localhost:8080/"
        },
        "id": "GS7SvpLL1psd",
        "outputId": "43182b0b-4693-48bb-fbcf-1d21428126e9"
      },
      "outputs": [
        {
          "data": {
            "text/plain": [
              "11.0710737269203"
            ]
          },
          "execution_count": 281,
          "metadata": {},
          "output_type": "execute_result"
        }
      ],
      "source": [
        "rmse_of_pred = math.sqrt(mse_of_pred)\n",
        "rmse_of_pred"
      ]
    },
    {
      "cell_type": "markdown",
      "metadata": {
        "id": "BrVayia8cabP"
      },
      "source": [
        "## Graphs of Prediction Results"
      ]
    },
    {
      "cell_type": "code",
      "execution_count": null,
      "metadata": {
        "colab": {
          "base_uri": "https://localhost:8080/",
          "height": 483
        },
        "id": "tgK8cyfsOhys",
        "outputId": "b325e45b-3e1c-4678-c26d-a55caa1cbb45"
      },
      "outputs": [
        {
          "data": {
            "image/png": "[encoded data removed]",
            "text/plain": [
              "<Figure size 1080x576 with 1 Axes>"
            ]
          },
          "metadata": {
            "needs_background": "light"
          },
          "output_type": "display_data"
        }
      ],
      "source": [
        "# Graph of next 30 days prediction\n",
        "plt.figure(figsize=(15,8)) \n",
        "\n",
        "plt.plot(day_pred2, comparison_data.Predictions, label = 'Prediction Values')\n",
        "plt.plot(day_pred2, comparison_data.Close, label = 'Real Values')\n",
        "plt.legend();"
      ]
    }
  ],
  "metadata": {
    "accelerator": "TPU",
    "colab": {
      "authorship_tag": "ABX9TyOko5CX2v2TIlUdfdMkBV0W",
      "collapsed_sections": [
        "AeEf1R8zhwxf",
        "iDOv_6D5hwxj",
        "mjNP9LsIhwxm",
        "Z0OygBL3hwxp",
        "k7nURh6xhwxs",
        "Ag4hsXgahwxv",
        "PnJXUbnxcVWD",
        "cCSvge0vBFRN"
      ],
      "include_colab_link": true,
      "provenance": [],
      "toc_visible": true
    },
    "kernelspec": {
      "display_name": "Python 3",
      "name": "python3"
    },
    "language_info": {
      "name": "python"
    }
  },
  "nbformat": 4,
  "nbformat_minor": 0
}
